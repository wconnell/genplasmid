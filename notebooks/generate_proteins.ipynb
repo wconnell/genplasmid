{
 "cells": [
  {
   "cell_type": "code",
   "execution_count": 1,
   "id": "35ef1dd5-47c8-432d-affc-6e40f51331c5",
   "metadata": {},
   "outputs": [],
   "source": [
    "# This notebook is heavily based on the methodology of the notebook here: https://github.com/evolutionaryscale/esm/blob/main/examples/gfp_design.ipynb\n",
    "# The notebook is similar to what the authors' did to generate a new candidate GFP protein, so it seemed like a sensible methodology to start with\n",
    "\n",
    "\n",
    "# Tweak these variables to change different model parameters\n",
    "protein_pdb_id = \"1qy3\"  # the PDB id of the protein we want to run inference on\n",
    "protein_chain_id = \"A\"  # the chain id of the protein we want to run inference on\n",
    "percent_masked = 0.7  # ratio of masked amino acids, from [0.0, 1.0]\n",
    "num_seqs = 10  # how many sequences to generate\n",
    "\n",
    "model_name = \"esm3-medium-2024-03\"  # the name of the model, change this if you want a bigger/smaller model\n",
    "# other options: esm3-large-2024-03, esm3-medium-2024-08, esm3-small-2024-03, etc. \n",
    "model_temperature = 1.0 # a value in [0.0, 1.0?], higher numbers have more stochasticity"
   ]
  },
  {
   "cell_type": "code",
   "execution_count": 2,
   "id": "0bd38ba9-1165-4f38-858c-238496e41788",
   "metadata": {},
   "outputs": [],
   "source": [
    "from IPython.display import clear_output\n",
    "!pip install git+https://github.com/evolutionaryscale/esm.git\n",
    "!pip install py3Dmol\n",
    "clear_output()  # Suppress pip install log lines after installation is complete."
   ]
  },
  {
   "cell_type": "code",
   "execution_count": 3,
   "id": "85613d11-685e-43a1-8f77-7f29156c927f",
   "metadata": {},
   "outputs": [],
   "source": [
    "import biotite.sequence as seq\n",
    "import biotite.sequence.align as align\n",
    "import biotite.sequence.graphics as graphics\n",
    "from getpass import getpass\n",
    "import matplotlib.pyplot as pl\n",
    "import py3Dmol\n",
    "import torch\n",
    "\n",
    "from esm.sdk import client\n",
    "from esm.sdk.api import ESM3InferenceClient, ESMProtein, GenerationConfig\n",
    "from esm.utils.structure.protein_chain import ProteinChain"
   ]
  },
  {
   "cell_type": "code",
   "execution_count": 5,
   "id": "bd5ad2be-1161-4fee-9237-da74e13ee6ed",
   "metadata": {},
   "outputs": [
    {
     "name": "stdout",
     "output_type": "stream",
     "text": [
      "Token from Forge console:  ········\n"
     ]
    }
   ],
   "source": [
    "# token: get from EvolutionaryScale Forge\n",
    "token = getpass(\"Token from Forge console: \")"
   ]
  },
  {
   "cell_type": "code",
   "execution_count": 6,
   "id": "30cee993-10aa-4946-9c5b-2d19a06ed3e3",
   "metadata": {},
   "outputs": [],
   "source": [
    "model = client(\n",
    "    model=model_name,\n",
    "    url=\"https://forge.evolutionaryscale.ai\",\n",
    "    token=token,\n",
    ")"
   ]
  },
  {
   "cell_type": "code",
   "execution_count": 7,
   "id": "1b01f93b-d409-4d2f-8b21-fb1039bafe39",
   "metadata": {},
   "outputs": [
    {
     "name": "stdout",
     "output_type": "stream",
     "text": [
      "Original Sequence:\n",
      "KGEELFTGVVPILVELDGDVNGHKFSVSGEGEGDATYGKLTLKFICTTGKLPVPWPTLVTTLTYGVQCFSRYPDHMKQHDFFKSAMPEGYVQEATISFKDDGNYKTRAEVKFEGDTLVNRIELKGIDFKEDGNILGHKLEYNYNSHNVYITADKQKNGIKANFKIRHNIEDGSVQLADHYQQNTPIGDGPVLLPDNHYLSTQSALSKDPNEKRDHMVLLEFVTAAGI\n"
     ]
    }
   ],
   "source": [
    "template_gfp = ESMProtein.from_protein_chain(\n",
    "    ProteinChain.from_rcsb(protein_pdb_id, chain_id=protein_chain_id)\n",
    ")\n",
    "\n",
    "print(\"Original Sequence:\")\n",
    "print(template_gfp.sequence)"
   ]
  },
  {
   "cell_type": "code",
   "execution_count": 12,
   "id": "7653c576-f5dd-4758-9fc3-c4cda0dd6608",
   "metadata": {},
   "outputs": [
    {
     "name": "stderr",
     "output_type": "stream",
     "text": [
      "Generating Sequences:  10%|█         | 1/10 [01:24<12:40, 84.49s/it]"
     ]
    },
    {
     "name": "stdout",
     "output_type": "stream",
     "text": [
      "Generated Sequence 1: KGEELFTGVVPILVELDGDVNGHKFSVSGEGEGDATYGKLTLKFICTTGKLPVPWPTLVTTLTLGAQCFSRYPDHMKQHDFFKSAMPEGYVQERTISFKDDGNYKIRAEVKFEGDTLVNRIELKGIDFKEDGNILGHKLEYNYNSHNVYITADKQKNGIKANFKIRHNIEDGSVQLADHYQQNTPIGDGPVLLPDNHYLSTQSALSKDPNEKRDHMVLLEFVTAAGI\n",
      "Sequence 1 Identity: 98.24%\n",
      "Backbone RMSD 1: 0.65\n"
     ]
    },
    {
     "name": "stderr",
     "output_type": "stream",
     "text": [
      "Generating Sequences:  20%|██        | 2/10 [02:49<11:18, 84.77s/it]"
     ]
    },
    {
     "name": "stdout",
     "output_type": "stream",
     "text": [
      "Generated Sequence 2: KGEELFTGVVPILVELDGDVNGHKFSVSGEGEGDATYGKLTLKFICTTGKLPVPWPTLVTTLXHGVQCFSRYPDHMKRHDFFKSAMPEGYVQERTISFKDDGNYKTRAEVKFEGDTLVNRIELKGIDFKEDGNILGHKLEYNYNSHNVYIMADKQKNGIKANFKIRHNIEDGSVQLADHYQQNTPIGDGPVLLPDNHYLSTQSALSKDPNEKRDHMVLLEFVTAAGI\n",
      "Sequence 2 Identity: 97.80%\n",
      "Backbone RMSD 2: 0.65\n"
     ]
    },
    {
     "name": "stderr",
     "output_type": "stream",
     "text": [
      "Generating Sequences:  30%|███       | 3/10 [04:14<09:52, 84.69s/it]"
     ]
    },
    {
     "name": "stdout",
     "output_type": "stream",
     "text": [
      "Generated Sequence 3: KGEELFTGVVPILIELDGDVNGHKFSVRGEGEGDATYGKLTLKFICTTGKLPVPWPTLVTTLGGPLQCFSRYPDHMKQHDFFKSAMPEGYAQEATISFKDDGNYKTRAEVKFEGDTLVNRIELKGIDFKEDGNILGHKLEYNYNSHNVYITADKQKNGIKANFKIRHNIEDGSVQLADHYQQNTPIGDGPVLLPDNHYLSTQSKLSKDPNEKRDHMVLLEFVTAAGI\n",
      "Sequence 3 Identity: 96.48%\n",
      "Backbone RMSD 3: 0.63\n"
     ]
    },
    {
     "name": "stderr",
     "output_type": "stream",
     "text": [
      "Generating Sequences:  40%|████      | 4/10 [05:38<08:27, 84.58s/it]"
     ]
    },
    {
     "name": "stdout",
     "output_type": "stream",
     "text": [
      "Generated Sequence 4: KGEELFTGVVPILVELDGDVNGHKFSVSGEGEGDATYGKLTLKFICTTGKLPVPWPTLVTTLTYGVQCFSRYPDHMKQHDFFKSAMPEGYVQERTISFKDDGNYKTRAEVKFEGDTLVNRIELKGIDFKEDGNILGHKLEYNYNSHNVYITADKQKNGIKANFKIRHNVEDGSVQLADHYQQNTPIGDGPVLLPDYHYLSTQSALSKDPNEKRDHMVLLEFVTAAGI\n",
      "Sequence 4 Identity: 98.68%\n",
      "Backbone RMSD 4: 0.74\n"
     ]
    },
    {
     "name": "stderr",
     "output_type": "stream",
     "text": [
      "Generating Sequences:  50%|█████     | 5/10 [07:03<07:03, 84.66s/it]"
     ]
    },
    {
     "name": "stdout",
     "output_type": "stream",
     "text": [
      "Generated Sequence 5: KGEELFTGVVPILVELDGDVNGHKFSVSGEGEGDATYGKLTLKFICTTGKLPVPWPTLVTTLTYGVQCFSRYPDHMKQHDFFKSAMPEGYVQEATISFKDDGNYKTRAEVKFEGDTLVNRIELKGIDFKEDGNILGHKLEYNYNSHNVYITADKQKNGIKANFKIRHNIEDGSVQLADHYQQNTPIGDGPVLLPDNHYLSTQSALSKDPNEKRDHMVLLEFVTAAGI\n",
      "Sequence 5 Identity: 100.00%\n",
      "Backbone RMSD 5: 0.73\n"
     ]
    },
    {
     "name": "stderr",
     "output_type": "stream",
     "text": [
      "Generating Sequences:  60%|██████    | 6/10 [08:28<05:38, 84.70s/it]"
     ]
    },
    {
     "name": "stdout",
     "output_type": "stream",
     "text": [
      "Generated Sequence 6: KGEELFTGVVPILVELDGDVNGHKFSVSGEGEGDATYGKLTLKFICTTGKLPVPWPTLVTTLTVGTQMFSRYPDHMKRHDFFKSAMPEGYVQEATISFKDDGNYKTRAEVKFEGDTLVNRIELKGIDFKEDGNILGHKLEYNYNSHNVYITADKQKNGIKGNFKIRHNIEDGSVQLADHYQQNTPIGDGPVLLPDNHYLSTQSALSKDPNEKRDHMVLLEFVTAAGI\n",
      "Sequence 6 Identity: 97.80%\n",
      "Backbone RMSD 6: 0.64\n"
     ]
    },
    {
     "name": "stderr",
     "output_type": "stream",
     "text": [
      "Generating Sequences:  70%|███████   | 7/10 [09:53<04:14, 84.82s/it]"
     ]
    },
    {
     "name": "stdout",
     "output_type": "stream",
     "text": [
      "Generated Sequence 7: KGEELFTGVVPILVELDGDVNGHKFSVSGEGEGDATYGKLTLKFICTTGKLPVPWPTLVTTLTSGVQCFSRYPDHMKRHDFFKSAMPEGYVQERTISFKDDGNYKTRAEVKFEGDTLVNRIELKGIDFKEDGNILGHKLEYNYNSHNVYITADKQKNGIKGNFKIRHNIEDGSVQLADHYQQNTPIGDGPVLLPDNHYLSTQSALSKDPNEKRDHMVLLEFVTAAGI\n",
      "Sequence 7 Identity: 98.24%\n",
      "Backbone RMSD 7: 0.64\n"
     ]
    },
    {
     "name": "stderr",
     "output_type": "stream",
     "text": [
      "Generating Sequences:  80%|████████  | 8/10 [11:18<02:49, 84.95s/it]"
     ]
    },
    {
     "name": "stdout",
     "output_type": "stream",
     "text": [
      "Generated Sequence 8: KGEELFTGVVPILVELDGDVNGHKFSVSGEGEGDATYGKLTLKFICTTGKLPVPWPTLVTTLSYGVQCFARYPDHMKQHDFFKSAMPEGYVQERTISFKDDGNYKTRAEVKFEGDTLVNRIELKGIDFKEDGNILGHKLEYNYNSHNVYITADKQKNGIKGNFKIRHNIEDGSVQLADHYQQNTPIGDGPVLLPDNHYLSTQSALSKDPNEKRDHMVLLEFVTAAGI\n",
      "Sequence 8 Identity: 98.24%\n",
      "Backbone RMSD 8: 0.72\n"
     ]
    },
    {
     "name": "stderr",
     "output_type": "stream",
     "text": [
      "Generating Sequences:  90%|█████████ | 9/10 [12:42<01:24, 84.85s/it]"
     ]
    },
    {
     "name": "stdout",
     "output_type": "stream",
     "text": [
      "Generated Sequence 9: KGEELFTGVVPILVELDGDVNGHKFSVSGEGEGDATYGKLTLKFICTTGKLPVPWPTLVTTLQYGIYCFARYPDHMKRHDFFKSAMPEGYVQERTISFKDDGNYKTRAEVKFEGDTLVNRIELKGIDFKEDGNILGHKLEYNYNSHNVYITADKQKNGIKANFKIRHNIEDGSVQLADHYRQNTPIGDGPVLLPDNHYLSTQSALSKDPNEKRDHMVLLEFVTAAGI\n",
      "Sequence 9 Identity: 96.92%\n",
      "Backbone RMSD 9: 0.73\n"
     ]
    },
    {
     "name": "stderr",
     "output_type": "stream",
     "text": [
      "Generating Sequences: 100%|██████████| 10/10 [14:07<00:00, 84.78s/it]"
     ]
    },
    {
     "name": "stdout",
     "output_type": "stream",
     "text": [
      "Generated Sequence 10: MGEELFTGVVPILVELDGDVNGHKFSVSGEGEGDATYGKLTLKFICTTGKLPVPWPTLVTTLCYGVQCFSRYPDHMKQHDFFKSAMPEGYVQEATISFKDDGNYKTRAEVKFEGDTLVNRIELKGIDFKEDGNILGHKLEYNYNSHNVYITADKQKNGIKANFKIRHNIEDGSVQLADHYQQNTPIGDGPVLLPDNHYLSLQSALSKDPNEKRDHMVLLEFVTAAGI\n",
      "Sequence 10 Identity: 98.68%\n",
      "Backbone RMSD 10: 0.71\n",
      "Generation complete and results logged in generation_results.csv\n",
      "CPU times: user 5.97 s, sys: 258 ms, total: 6.22 s\n",
      "Wall time: 14min 9s\n"
     ]
    },
    {
     "name": "stderr",
     "output_type": "stream",
     "text": [
      "\n"
     ]
    }
   ],
   "source": [
    "%%time\n",
    "\n",
    "import csv\n",
    "import random \n",
    "from tqdm import tqdm\n",
    "\n",
    "def mask_sequence(s: str, fraction: float) -> str: \n",
    "    if not (0.0 <= fraction <= 1.0):\n",
    "        raise ValueError(\"Fraction must be between 0.0 and 1.0\")\n",
    "    num_to_mask = int(len(s) * fraction)\n",
    "    indices_to_mask = random.sample(range(len(s)), num_to_mask)\n",
    "    s_list = list(s)\n",
    "    for i in indices_to_mask:\n",
    "        s_list[i] = \"_\"\n",
    "    return ''.join(s_list)\n",
    "\n",
    "\n",
    "# Set up the CSV file for logging\n",
    "csv_file = \"generation_results.csv\"\n",
    "with open(csv_file, mode='w', newline='') as file:\n",
    "    writer = csv.writer(file)\n",
    "    writer.writerow([\"Sequence_ID\", \"Generated_Sequence\", \"Sequence_Identity\", \"Backbone_RMSD\"])\n",
    "\n",
    "template_gfp_tokens = model.encode(template_gfp)\n",
    "\n",
    "# Loop through the generation and logging process\n",
    "for i in tqdm(range(num_seqs), desc=\"Generating Sequences\"):\n",
    "    prompt_sequence = mask_sequence(template_gfp.sequence, percent_masked)\n",
    "    prompt = model.encode(\n",
    "        ESMProtein(sequence=prompt_sequence)\n",
    "    )\n",
    "    # Copy over the same structure\n",
    "    prompt.structure = template_gfp_tokens.structure\n",
    "    \n",
    "    # Generation of sequence\n",
    "    num_tokens_to_decode = (prompt.sequence == 32).sum().item()\n",
    "    sequence_generation = model.generate(\n",
    "        prompt,\n",
    "        GenerationConfig(\n",
    "            track=\"sequence\",\n",
    "            num_steps=num_tokens_to_decode,\n",
    "            temperature=model_temperature,\n",
    "        )\n",
    "    )\n",
    "\n",
    "    # Generate a new structure from the sequence\n",
    "    sequence_generation.structure = None\n",
    "    length_of_sequence = sequence_generation.sequence.numel() - 2\n",
    "    sequence_generation = model.generate(\n",
    "        sequence_generation,\n",
    "        GenerationConfig(\n",
    "            track=\"structure\",\n",
    "            num_steps=length_of_sequence,\n",
    "            temperature=0.0,\n",
    "        )\n",
    "    )\n",
    "\n",
    "    # Decode to AA string and coordinates.\n",
    "    sequence_generation_protein = model.decode(sequence_generation)\n",
    "    generated_sequence = sequence_generation_protein.sequence\n",
    "    print(f\"Generated Sequence {i+1}: {generated_sequence}\")\n",
    "\n",
    "    # Sequence alignment and identity calculation\n",
    "    seq1 = seq.ProteinSequence(template_gfp.sequence)\n",
    "    seq2 = seq.ProteinSequence(generated_sequence)\n",
    "    alignments = align.align_optimal(\n",
    "        seq1,\n",
    "        seq2,\n",
    "        align.SubstitutionMatrix.std_protein_matrix(),\n",
    "        gap_penalty=(-10, -1),\n",
    "    )\n",
    "    alignment = alignments[0]\n",
    "    identity = align.get_sequence_identity(alignment)\n",
    "    sequence_identity = 100 * identity\n",
    "    print(f\"Sequence {i+1} Identity: {sequence_identity:.2f}%\")\n",
    "\n",
    "    # RMSD calculation\n",
    "    template_chain = template_gfp.to_protein_chain()\n",
    "    generation_chain = sequence_generation_protein.to_protein_chain()\n",
    "    backbone_rmsd = template_chain.rmsd(generation_chain)\n",
    "    print(f\"Backbone RMSD {i+1}: {backbone_rmsd:.2f}\")\n",
    "\n",
    "    # Log the results in the CSV file\n",
    "    with open(csv_file, mode='a', newline='') as file:\n",
    "        writer = csv.writer(file)\n",
    "        writer.writerow([f\"Sequence_{i+1}\", generated_sequence, f\"{sequence_identity:.2f}%\", f\"{backbone_rmsd:.2f}\"])\n",
    "\n",
    "print(\"Generation complete and results logged in generation_results.csv\")\n"
   ]
  },
  {
   "cell_type": "code",
   "execution_count": null,
   "id": "338934ef-e40e-4a6c-8d4a-ce7be48e0005",
   "metadata": {},
   "outputs": [],
   "source": []
  }
 ],
 "metadata": {
  "kernelspec": {
   "display_name": "Python 3 (ipykernel)",
   "language": "python",
   "name": "python3"
  },
  "language_info": {
   "codemirror_mode": {
    "name": "ipython",
    "version": 3
   },
   "file_extension": ".py",
   "mimetype": "text/x-python",
   "name": "python",
   "nbconvert_exporter": "python",
   "pygments_lexer": "ipython3",
   "version": "3.11.9"
  }
 },
 "nbformat": 4,
 "nbformat_minor": 5
}
