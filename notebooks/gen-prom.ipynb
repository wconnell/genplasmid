{
 "cells": [
  {
   "cell_type": "code",
   "execution_count": 1,
   "metadata": {},
   "outputs": [
    {
     "name": "stderr",
     "output_type": "stream",
     "text": [
      "/srv/home/wconnell/anaconda3/envs/test/lib/python3.9/site-packages/tqdm/auto.py:21: TqdmWarning: IProgress not found. Please update jupyter and ipywidgets. See https://ipywidgets.readthedocs.io/en/stable/user_install.html\n",
      "  from .autonotebook import tqdm as notebook_tqdm\n"
     ]
    }
   ],
   "source": [
    "import torch\n",
    "from safetensors import safe_open\n",
    "from transformers import AutoModelForMaskedLM, AutoTokenizer\n",
    "from datasets import load_dataset\n",
    "from genplasmid.dataset import read_genbank, genbank_to_glm2\n",
    "import pandas as pd\n",
    "%config InlineBackend.figure_format = 'retina'\n"
   ]
  },
  {
   "cell_type": "code",
   "execution_count": 39,
   "metadata": {},
   "outputs": [],
   "source": [
    "# Load the YFP vector dataset\n",
    "yfp_vector = load_dataset(\"wconnell/openplasmid\")\n",
    "yfp_vector = yfp_vector.filter(lambda x: '127546' == x['ID'])\n",
    "yfp_vector = yfp_vector['train'][0]\n",
    "\n",
    "# Parse the GenBank file\n",
    "yfp_gbank = read_genbank(yfp_vector['GenBank Raw'])\n",
    "\n",
    "# Convert GenBank to GLM2 sequence\n",
    "yfp_glm2 = genbank_to_glm2(yfp_vector['GenBank Raw'])\n",
    "\n",
    "# Find the primer binding site\n",
    "primer_bind = yfp_gbank.features[6]\n",
    "primer_bind_seq = str(yfp_gbank.seq[primer_bind.location.start:primer_bind.location.end].lower())\n",
    "\n",
    "# Create the masked sequence\n",
    "# NOTE: this does not include the proximal/distal primer binding sites\n",
    "mask_len = 110\n",
    "use_primer = False\n",
    "\n",
    "mask_start = yfp_glm2.find(primer_bind_seq)\n",
    "mask_start = mask_start + len(primer_bind_seq) + 3  # buffer for '<+>'\n",
    "mask_insert = ''.join(['<mask>'] * mask_len)\n",
    "\n",
    "if use_primer:\n",
    "    primer_distal = 'GCTAGCAGGAATGATGCAAAAGGTTCCCGATTCGAACTGCATTTTTTTCACATC'.lower()\n",
    "    primer_proximal = 'GGTTACGGCTGTTTCTTAATTAAAAAAAGATAGAAAACATTAGGAGTGTAACACAAGACTTTCGGATCCTGAGCAGGCAAGATAAACGA'.lower()\n",
    "    masked_yfp_glm2 = yfp_glm2[:mask_start] + primer_distal + mask_insert + primer_proximal + '<+>' + yfp_glm2[mask_start:]\n",
    "    mask_start = mask_start + len(primer_distal)\n",
    "    mask_end = mask_start + mask_len\n",
    "else:\n",
    "    masked_yfp_glm2 = yfp_glm2[:mask_start] + mask_insert + '<+>' + yfp_glm2[mask_start:]\n",
    "    mask_end = mask_start + mask_len\n",
    "\n",
    "# Find the YFP CDS\n",
    "yfp_cds = yfp_gbank.features[7]\n",
    "yfp_cds_seq = yfp_cds.qualifiers['translation'][0]\n",
    "\n",
    "# Load variants\n",
    "variants = pd.read_csv('results/seq_variants/variants.csv')\n",
    "variants =variants[variants['Backbone_RMSD'] < 5]\n",
    "# add original plasmid to variants\n",
    "original_plasmid = pd.DataFrame([{'ID': 127546, 'Masking_Percentage': 0, 'Sequence_used': True, 'Generated_Sequence': yfp_cds_seq, 'Sequence_Identity': 1.0, 'Backbone_RMSD': 0}])\n",
    "variants = pd.concat([original_plasmid, variants])\n",
    "\n",
    "# Create masked_yfp_var_glm2 for all sequences\n",
    "variant_plasmids = []\n",
    "\n",
    "for _, row in variants.iterrows():\n",
    "    cds_insert = row['Generated_Sequence']\n",
    "    start = masked_yfp_glm2.find(yfp_cds_seq)\n",
    "    end = start + len(yfp_cds_seq)\n",
    "    masked_yfp_var_glm2 = masked_yfp_glm2[:start] + cds_insert + masked_yfp_glm2[end:]\n",
    "    variant_plasmid = {'ID': row['ID'], 'glm2_sequence': masked_yfp_var_glm2}\n",
    "    variant_plasmids.append(variant_plasmid)\n"
   ]
  },
  {
   "cell_type": "code",
   "execution_count": 40,
   "metadata": {},
   "outputs": [
    {
     "data": {
      "text/plain": [
       "'ccagtttggaacaagagtccac'"
      ]
     },
     "execution_count": 40,
     "metadata": {},
     "output_type": "execute_result"
    },
    {
     "data": {
      "text/plain": [
       "'gctagcaggaatgatgcaaaaggttcccgattcgaactgcatttttttcacatc'"
      ]
     },
     "execution_count": 40,
     "metadata": {},
     "output_type": "execute_result"
    },
    {
     "data": {
      "text/plain": [
       "'<+>gaagcgcctacgcttgacatctactatatgtaagtatacggccccatatataggccctttcgtctcgcgcgtttcggtgatgacggtgaaaa<+>cctctgacacatgcagctcccgg<+>atttaggtgacactataga<+>atttaggtgacactatag<+>ttcaattcatcattttttttttattcttttttttgatttcggtttccttgaaatttttttgattcggtaatctccgaacagaaggaagaacgaaggaaggagcacagacttagattggtatatatacgcatatgtagtgttgaagaaacatgaaattgcccagtattcttaacccaactgcacagaacaaaaacctgcaggaaacgaagataaatc<+>MSKATYKERAATHPSPVAAKLFNIMHEKQTNLCASLDVRTTKELLELVEALGPKICLLKTHVDILTDFSMEGTVKPLKALSAKYNFLLFEDRKFADIGNTVKLQYSAGVYRIAEWADITNAHGVVGPGIVSGLKQAAEEVTKEPRGLLMLAELSCKGSLSTGEYTKGTVDIAKSDKDFVIGFIAQRDMGGRDEGYDWLIMTPGVGLDDKGDALGQQYRTVDDVVSTGSDIIIVGRGLFAKGRDAKVEGERYRKAGWEAYLRRCGQQN<+>ccagtttggaacaagagtccac<+><mask><mask><mask><mask><mask><mask><mask><mask><mask><mask><mask><mask><mask><mask><mask><mask><mask><mask><mask><mask><mask><mask><mask><mask><mask><mask><mask><mask><mask><mask><mask><mask><mask><mask><mask><mask><mask><mask><mask><mask><mask><mask><mask><mask><mask><mask><mask><mask><mask><mask><mask><mask><mask><mask><mask><mask><mask><mask><mask><mask><mask><mask><mask><mask><mask><mask><mask><mask><mask><mask><mask><mask><mask><mask><mask><mask><mask><mask><mask><mask><mask><mask><mask><mask><mask><mask><mask><mask><mask><mask><mask><mask><mask><mask><mask><mask><mask><mask><mask><mask><mask><mask><mask><mask><mask><mask><mask><mask><mask><mask><+>MSKGEELFTGVVPILVELDGDVNGHKFSVSGEGEGDATYGKLTLKLICTTGKLPVPWPTLVTTLGYGLQCFARYPDHMKQHDFFKSAMPEGYVQERTIFFKDDGNYKTRAEVKFEGDTLVNRIELKGIDFKEDGNILGHKLEYNYNSHNVYITADKQKNGIKANFKIRHNIEDGGVQLADHYQQNTPIGDGPVLLPDNHYLSYQSALSKDPNEKRDHMVLLEFVTAAGITHGMDELYK<+>gcgaatttcttatgatttatgatttttattattaaataagttataaaaaaaataagtgtatacaaattttaaagtgactcttaggttttaaaacgaaaattcttattcttgagtaactctttcctgtaggtcaggttgctttctcaggtatagtatgaggtcgctcttattgaccacacctctaccgg<+>gacatggaggcccagaataccctccttgacagtcttgacgtgcgcagctcaggggcatgatgtgactgtcgcccgtacatttagcccatacatccccatgtataatcatttgcatccatacattttgatggccgcacggcgcgaagcaaaaattacggctcctcgctgcagacctgcgagcagggaaacgctcccctcacagacgcgttgaattgtccccacgccgcgcccctgtagagaaatataaaaggttaggatttgccactgaggttcttctttcatatacttccttttaaaatcttgctaggatacagttctcacatcacatccgaacataaacaaccatgggtaccactcttgacgacacggcttaccggtaccgcaccagtgtcccgggggacgccgaggccatcgaggcactggatgggtccttcaccaccgacaccgtcttccgcgtcaccgccaccggggacggcttcaccctgcgggaggtgccggtggacccgcccctgaccaaggtgttccccgacgacgaatcggacgacgaatcggacgacggggaggacggcgacccggactcccggacgttcgtcgcgtacggggacgacggcgacctggcgggcttcgtggtcgtctcgtactccggctggaaccgccggctgaccgtcgaggacatcgaggtcgccccggagcaccgggggcacggggtcgggcgcgcgttgatggggctcgcgacggagttcgcccgcgagcggggcgccgggcacctctggctggaggtcaccaacgtcaacgcaccggcgatccacgcgtaccggcggatggggttcaccctctgcggcctggacaccgccctgtacgacggcaccgcctcggacggcgagcaggcgctctacatgagcatgccctgcccctaatcagtactgacaataaaaagattcttgttttcaagaacttgtcatttgtatagtttttttatattgtagttgttctattttaatcaaatgttagcgtgatttatattttttttcgcctcgacatcatctgcccagatgcgaagttaagtgcgcagaaagtaatatcatgcgtcaatcgtatgtgaatgctggtcgctatactg<+>gacatggaggcccagaataccctccttgacagtcttgacgtgcgcagctcaggggcatgatgtgactgtcgcccgtacatttagcccatacatccccatgtataatcatttgcatccatacattttgatggccgcacggcgcgaagcaaaaattacggctcctcgctgcagacctgcgagcagggaaacgctcccctcacagacgcgttgaattgtccccacgccgcgcccctgtagagaaatataaaaggttaggatttgccactgaggttcttctttcatatacttccttttaaaatcttgctaggatacagttctcacatcacatccgaacataaacaacc<+>MGTTLDDTAYRYRTSVPGDAEAIEALDGSFTTDTVFRVTATGDGFTLREVPVDPPLTKVFPDDESDDESDDGEDGDPDSRTFVAYGDDGDLAGFVVVSYSGWNRRLTVEDIEVAPEHRGHGVGRALMGLATEFARERGAGHLWLEVTNVNAPAIHAYRRMGFTLCGLDTALYDGTASDGEQALYMSMPCP<+>actgacaataaaaagattcttgttttcaagaacttgtcatttgtatagtttttttatattgtagttgttctattttaatcaaatgttagcgtgatttatattttttttcgcctcgacatcatctgcccagatgcgaagttaagtgcgcagaaagtaatatcatgcgtcaatcgtatgtgaatgctggtcgctatactg<+>atcacgtgctataaaaataattataatttaaattttttaatataaatatataaattaaaaatagaaagtaaaaaaagaaattaaagaaaaaatagtttttgttttccgaagatgtaaaagactctagggggatcgccaacaaatactaccttttatcttgctcttcctgctctcaggtattaatgccgaattgtttcatcttgtctgtgtagaagaccacacacgaaaatcctgtgattttacattttacttatcgttaatcgaatgtatatctatttaatctgcttttcttgtctaataaatatatatgtaaagtacgctttttgttgaaattttttaaacctttgtttatttttttttcttcattccgtaactcttctaccttctttatttactttctaaaatccaaatacaaaacataaaaataaataaacacagagtaaattcccaaattattccatcattaaaagatacgaggcgcgtgtaagttacaggcaagcgatc<+>ccctatagtgagtcgtatta<+>cctatagtgagtcgtatta<+>ctcgctcactgactcgct<+>tttccataggctccgcccccctgacgagcatcacaaaaatcgacgctcaagtcagaggtggcgaaacccgacaggactataaagataccaggcgtttccccctggaagctccctcgtgcgctctcctgttccgaccctgccgcttaccggatacctgtccgcctttctcccttcgggaagcgtggcgctttctcatagctcacgctgtaggtatctcagttcggtgtaggtcgttcgctccaagctgggctgtgtgcacgaaccccccgttcagcccgaccgctgcgccttatccggtaactatcgtcttgagtccaacccggtaagacacgacttatcgccactggcagcagccactggtaacaggattagcagagcgaggtatgtaggcggtgctacagagttcttgaagtggtggcctaactacggctacactagaagaacagtatttggtatctgcgctctgctgaagccagttaccttcggaaaaagagttggtagctcttgatccggcaaacaaaccaccgctggtagcggtggtttttttgtttgcaagcagcagattacgcgcagaaaaaaaggatctcaa<+>aaagataccaggcgtttccc<->MSIQHFRVALIPFFAAFCLPVFAHPETLVKVKDAEDQLGARVGYIELDLNSGKILESFRPEERFPMMSTFKVLLCGAVLSRIDAGQEQLGRRIHYSQNDLVEYSPVTEKHLTDGMTVRELCSAAITMSDNTAANLLLTTIGGPKELTAFLHNMGDHVTRLDRWEPELNEAIPNDERDTTMPVAMATTLRKLLTGELLTLASRQQLIDWMEADKVAGPLLRSALPAGWFIADKSGAGERGSRGIIAALGPDGKPSRIVVIYTTGSQATMDERNRQIAEIGASLIKHW<+>ataataccgcgccacatagc<+>actcttcctttttcaatattattgaagcatttatcagggttattgtctcatgagcggatacatatttgaatgtatttagaaaaataaacaaataggggttccgcg<+>ccggtagaggtgtggtcaataagagcgacctcatactatacctgagaaagcaacctgacctacaggaaagagttactcaagaataagaattttcgttttaaaacctaagagtcactttaaaatttgtatacacttattttttttataacttatttaataataaaaatcataaatcataagaaattcgc<->MVSKGEEDNMAIIKEFMRFKVHMEGSVNGHEFEIEGEGEGRPYEGTQTAKLKVTKGGPLPFAWDILSPQFMYGSKAYVKHPADIPDYLKLSFPEGFKWERVMNFEDGGVVTVTQDSSLQDGEFIYKVKLRGTNFPSDGPVMQKKTMGWEASSERMYPEDGALKGEIKQRLKLKDGGHYDAEVKTTYKAKKPVQLPGAYNVNIKLDITSHNEDYTIVEQYERAEGRHSTGGMDELYK<+>tcttcttctgcattacgggg<+>ttggtcaccttcagcttgg'"
      ]
     },
     "execution_count": 40,
     "metadata": {},
     "output_type": "execute_result"
    }
   ],
   "source": [
    "primer_bind_seq\n",
    "primer_distal\n",
    "variant_plasmids[0]['glm2_sequence']"
   ]
  },
  {
   "cell_type": "code",
   "execution_count": 41,
   "metadata": {},
   "outputs": [
    {
     "data": {
      "text/plain": [
       "'MSKGEELFTGVVPILVELDGDVNGHKFSVSGEGEGDATYGKLTLKLICTTGKLPVPWPTLVTTLGYGLQCFARYPDHMKQHDFFKSAMPEGYVQERTIFFKDDGNYKTRAEVKFEGDTLVNRIELKGIDFKEDGNILGHKLEYNYNSHNVYITADKQKNGIKANFKIRHNIEDGGVQLADHYQQNTPIGDGPVLLPDNHYLSYQSALSKDPNEKRDHMVLLEFVTAAGITHGMDELYK'"
      ]
     },
     "execution_count": 41,
     "metadata": {},
     "output_type": "execute_result"
    }
   ],
   "source": [
    "yfp_cds_seq"
   ]
  },
  {
   "cell_type": "code",
   "execution_count": 42,
   "metadata": {},
   "outputs": [
    {
     "name": "stdout",
     "output_type": "stream",
     "text": [
      "Loading finetuned model\n",
      "<All keys matched successfully>\n"
     ]
    }
   ],
   "source": [
    "checkpoint_path = \"results/finetune/20241013_122705-70ecfce3-2125-4b7d-b193-ff07095d7781/checkpoints/checkpoint-13152/model.safetensors\"\n",
    "# checkpoint_path = None\n",
    "\n",
    "tokenizer = AutoTokenizer.from_pretrained('tattabio/gLM2_150M', trust_remote_code=True)\n",
    "\n",
    "# Load finetuned model\n",
    "if checkpoint_path:\n",
    "    print(\"Loading finetuned model\")\n",
    "    model = AutoModelForMaskedLM.from_pretrained('tattabio/gLM2_150M', torch_dtype=torch.bfloat16, trust_remote_code=True).cuda()\n",
    "    # Load the safetensors file\n",
    "    with safe_open(checkpoint_path, framework=\"pt\", device=\"cpu\") as f:\n",
    "        state_dict = {k: f.get_tensor(k) for k in f.keys()}\n",
    "\n",
    "    # Load the state dict into the model\n",
    "    incompatible_keys = model.load_state_dict(state_dict, strict=False)\n",
    "    print(incompatible_keys)\n",
    "else:\n",
    "    print(\"Loading pretrained model\")\n",
    "    model = AutoModelForMaskedLM.from_pretrained('tattabio/gLM2_150M', trust_remote_code=True).cuda()\n",
    "\n",
    "# Define a function to tokenize the sequences\n",
    "def tokenize_function(examples):\n",
    "    return tokenizer(examples['glm2_sequence'], truncation=True, padding='max_length', max_length=4096)"
   ]
  },
  {
   "cell_type": "code",
   "execution_count": 43,
   "metadata": {},
   "outputs": [
    {
     "name": "stderr",
     "output_type": "stream",
     "text": [
      "Map: 100%|██████████| 2646/2646 [00:05<00:00, 484.52 examples/s]\n"
     ]
    }
   ],
   "source": [
    "from datasets import Dataset\n",
    "from torch.utils.data import DataLoader\n",
    "variant_plasmid_ds = Dataset.from_list(variant_plasmids)\n",
    "variant_plasmid_ds = variant_plasmid_ds.map(tokenize_function, batched=True)\n",
    "variant_plasmid_ds.set_format(type='torch', columns=['input_ids', 'attention_mask', 'ID'])\n",
    "dataloader = DataLoader(variant_plasmid_ds, batch_size=5, shuffle=False)\n",
    "    "
   ]
  },
  {
   "cell_type": "code",
   "execution_count": 44,
   "metadata": {},
   "outputs": [
    {
     "name": "stdout",
     "output_type": "stream",
     "text": [
      "Sample predictions:\n",
      "<+>gaagcgcctacgcttgacatctactatatgtaagtatacggccccatatataggccctttcgtctcgcgcgtttcggtgatgacggtgaaaa<+>cctctgacacatgcagctcccgg<+>atttaggtgacactataga<+>atttaggtgacactatag<+>ttcaattcatcatttttttttttttctttttttttatttcggtttccttgaaatttttttgattcggtaatctccgaacagaaggaagaacgaaggaaggagcacagacttagattggtatatatatgcatatgtagtgttgaagaaacatgaaattgcccagtattcttaacccaactgcacagaacaaaaacctgcaggaaacgaagataaatc<+>MSKATYKERVATHPSPVAARLFNIMHEKQTNLCASLDVRNTKELLELVEALGPKICLLKTHVDILTDFSMEGGVKALKALSAKYNFLLFEDRKFADIGNTVKLQYSAGVYRIAEWADITNAHGVVGPGIVSGLKQAAEEVTKEPRGLLMLAELSCKGSLSTGEYTKSVVEIAKQDPDFVIGFIAQRDMGGRDEGSDFLIATPGVGLDDKGDALGQQYRTVDDVVNTGSDILIVGRGLFAKGRDAKVEAERLRKAAWEAYLRRTGQQN<+>ccagtttggaacaagagtccaccMLLLLLLLLLLLLLLLLLLLLLLLLLLLLLLLLLLLLLLLLLLLLLLLLLLLLLLLLLLLLLALLLLALLAAAAALLLALALLLLLLLLLLLLLAAAAAAAAAALLE<+><+>K<+>MSKGEELFTGVVPILVELDGDVNGHKFSVSGEGEGDATYGKLTLKLICTTGKLPVPWPTLVTTLTYGLQCFARYPDHMKQHDFFKSAMPEGYVQERTIFFKDDGNYKTRAEVKFEGDTLVNRIELKGIDFKEDGNILGHKLEYNYNSHNVYITADKQKNGIKANFKIRHNIEDGGVQLADHYQQNTPIGDGPVLLPDNHYLSYQSALSKDPNEKRDHMVLLEFVTAAGITHGMDELYK<+>gcgaatttcttatgatttatgatttttattattaaataagttataaaaaaaataagtgtatacaaattttaaagtgactcttaggttttaaaaagaaaattcttattcttgagtaactctttcctgtaggtcaggttgctttctcaggtatagtatgaggtcgctcttattgaccacacctctaccgg<+>gacatggaggcccagaataccctccttgacagtcttgacgtgcgcagctcaggggcatgatgtgactgtcgcccgtacatttagcccatacatccccatgtataatcatttgcatccatacattttgatggccgcacggcgcgaagcaaaaattacggctcctcgctgcagacctgcgagcagggaaacgctcccctcacagacgcgttgaattgtccccacgccgcgcccctgtagagaaatataaaaggttaggatttgccactgaggttcttctttcatatacttccttttaaaatcttgctaggatacagttctcacatcacatccgaacataaacaaccatgggtaccactcttgacgacacggcttaccggtaccgcaccagtgtcccgggggacgccgaggccatcgaggcactggatgggtccttcgccaccgacaccgtcttccgcgtcaccgccaccggggacggcttcaccctgctcgaggtgccggtggacccgcccctgaccgaggtgttccccgacgacgaatcggacgacgaatcggacgacggggacgacggcgacccggactaccggacgtacgtcgcgtacggcgacgacggcgacctggcgggctacgtggacgtctcggactccggctgggaccgccggctgaccgtcgaggacatcgaggtcgccccggagcacctggagcacggggtcgggcgcgcggtcctggagctcgcgacggagttcgcccgcgagcggggcgccgggcacctctggctggaggtcgccgacgtcgacgcgccggcgatccacgcgtaccggcggctggggttcaccctctgcggcctggacaccgccctgtacgacggcaccgcctcggacggcgagcaggcgctctacatgagcatgccctgcccctaatcagtactgacaataaaaagattcttgttttcaagaacttgtcatttgtatagtttttttatattgtagttgttctattttaatcaaatgttagcgtgatttatattttttttcgcctcgacatcatctgcccagatgcgaagttaagtgcgcagaaagtaatatcatgcgtcaatcgtatgtgaatgctggtcgctatactg<+>gacatggaggcccagaataccctccttgacagtcttgacgtgcgcagctcaggggcatgatgtgactgtcgcccgtacatttagcccatacatccccatgtataatcatttgcatccatacattttgatggccgcacggcgcgaagcaaaaattacggctcctcgctgcagacctgcgagcagggaaacgctcccctcacagacgcgttgaattgtccccacgccgcgcccctgtagagaaatataaaaggttaggatttgccactgaggttcttctttcatatacttccttttaaaatcttgctaggatacagttctcacatcacatccgaacataaacaacc<+>MGTTLDDTAYRYRTAVPGDAERLARLEGLFTTDTVFRVTATGDGATLPPVPAPADLEEVLPDDDDDDDDDDDDDDDDDSLLFVAYGDDGTIAGFVVLSLDGDGRRLWIENIAVAPAHRGHGIGTALMGLAADWARERGAEEIWLEVTASNEPAIAAYERAGFTLEGIDTAFYEGSEDDGEDALYMSLPLP<+>actgacaataaaaagattcttgttttcaagaacttgtcatttgtatagtttttttatattgtagttgttctattttaatcaaatgttagcgtgatttatattttttttcgcctcgacatcatctgcccagatgcgaagttaagtgcgcagaaagtaatatcatgcgtcaatcgtatgtgaatgctggtcgctatactg<+>atcacgtgctataaaaataattataatttaaattttttaatataaatatataaattaaaaatagaaattaaaaaaagaaattaaagaaaaaatagtttttgttttccgaagatgtaaaagactctagggggatcgccaacaaatactaccttttatcttgctcttcctgctctcaggtattaatgccgaattgtttcatcttgtctgtgtagaagaccacacacgaaaatcctgtgattttacattttacttatcgttaatcgaatgtatatctatttaatctgcttttcttgtctaataaatatatatgtaaagtacgctttttgttgaaattttttaaacctttttttatttttttttcttcattccttaactcttctaccttctttatttactttctaaaatccaaaaacaaaacaaaaaaataaataaacacaaagtaaattcccaaattattccatcattaaaagatacgaggcgcgtgtaagttacaggcaagcgatc<+>ccctatagtgagtcgtatta<+>cctatagtgagtcgtatta<+>ctcgctcactgactcgct<+>tttccataggctccgcccccctgacgagcatcacaaaaatcgacgctcaagtcagaggtggcgaaacccgacaggactataaagataccaggcgtttccccctggaagctccctcgtgcgctctcctgttccgaccctgccgcttaccggatacctgtccgcctttctcccttcgggaagcgtggcgctttctcatagctcacgctgtaggtatctcagttcggtgtaggtcgttcgctccaagctgggctgtgtgcacgaaccccccgttcagcccgaccgctgcgccttatccggtaactatcgtcttgagtccaacccggtaagacacgacttatcgccactggcagcagccactggtaacaggattagcagagcgaggtatgtaggcggtgctacagagttcttgaagtggtggcctaactacggctacactagaagaacagtatttggtgtctgcgctctgctgga\n",
      "<+>gaagcgcctacgcttgacatctactatatgtaagtatacggccccatatataggccctttcgtctcgcgcgtttcggtgatgacggtgaaaa<+>cctctgacacatgcagctcccgg<+>atttaggtgacactataga<+>atttaggtgacactatag<+>ttcaattcatcatttttttttttttctttttttttatttcggtttccttgaaatttttttgattcggtaatctccgaacagaaggaagaacgaaggaaggagcacagacttagattggtatatatatgcatatgtagtgttgaagaaacatgaaattgcccagtattcttaacccaactgcacagaacaaaaacctgcaggaaacgaagataaatc<+>MSKATYKERVATHPSPVAARLFNIMHEKQTNLCASLDVRNTKELLELVEALGPKICLLKTHVDILTDFSMEGGVKALKALSAKYNFLLFEDRKFADIGNTVKLQYSAGVYRIAEWADITNAHGVVGPGIVSGLKQAAEEVTKDPRGLLMLAELSCKGSLATGEYTKSVVEIAKQDPDFVIGFIAQRDMGGRDEGSDFLIATPGVGLDDKGDALGQQYRTVDDVVNTGSDILIVGRGLFAKGRDAKVEAERLRKAAWEAYLRRKGQQN<+>ccagtttggaacaagagtccac<+>MALLLLLLLLLLLLLLLLLLLLLALLLLLLLLLLLALLLLLLALLLLAAAAAALLAALLALAALLLALLLLLLLALLAAALALALLLLALLLLLLLLLLGGGLGLLL<+>EL<+>EGLKAFQGKVPVEVKMEGEVNGVKFEVEGEGEGDSTTGSADLKYICISGELPIPWFQLVNAFSYGSAHWPEELREHNYFLSSMPEGFKFERVVTFKDDGTQTTTADVKLEGDTLVMDMKSTGEGFKPDGNILGHIAEPEFNSFVMDYEPNRAENGLTMKFVTRIKMKDGTKAEFINECRVFKLGSDPIAIPDPHSLSYNSLLGNVVDEKRPSFVYKSTQVVKGF<+>gcgaatttcttatgatttatgatttttattattaaataagttataaaaaaaataagtgtatacaaattttaaagtgactcttaggttttaaaaagaaaattcttattcttgagtaactctttcctgtaggtcaggttgctttctcaggtatagtatgaggtcgctcttattgaccacacctctaccgg<+>gacatggaggcccagaataccctccttgacagtcttgacgtgcgcagctcaggggcatgatgtgactgtcgcccgtacatttagcccatacatccccatgtataatcatttgcatccatacattttgatggccgcacggcgcgaagcaaaaattacggctcctcgctgcagacctgcgagcagggaaacgctcccctcacagacgcgttgaattgtccccacgccgcgcccctgtagagaaatataaaaggttaggatttgccactgaggttcttctttcatatacttccttttaaaatcttgctaggatacagttctcacatcacatccgaacataaacaaccatgggtaccactcttgacgacacggcttaccggtaccgcaccagtgtcccgggggacgccgaggccatcgaggcactggatgggtccttcaccaccgacaccgtcttccgcgtcaccgccaccggggacggcttcaccctgctggaggtgccggtggacccgcccctgaccgaggtgttccccgacgacgaatcggacgacgaatcggacgacggggacgacggcgacccggactaccggacgtacgtcgcgtacggcgacgacggcgacctggcgggctacgtggacgtctcggactccggctggaaccgccggctgaccgtcgaggacatcgaggtcgccccggagcacctggagcacggggtcgggcgcgcggtcctggagctcgcgacggagttcgcccgcgagcggggcgccgggcacctctggctggaggtcgccgacgtcgacgcaccggcgatccacgcgtaccggcggctggggttcaccctctgcggcctggacaccgccctgtacgacggcaccgcctcggacggcgagcaggcgctctacatgagcatgccctgcccctaatcagtactgacaataaaaagattcttgttttcaagaacttgtcatttgtatagtttttttatattgtagttgttctattttaatcaaatgttagcgtgatttatattttttttcgcctcgacatcatctgcccagatgcgaagttaagtgcgcagaaagtaatatcatgcgtcaatcgtatgtgaatgctggtcgctatactg<+>gacatggaggcccagaataccctccttgacagtcttgacgtgcgcagctcaggggcatgatgtgactgtcgcccgtacatttagcccatacatccccatgtataatcatttgcatccatacattttgatggccgcacggcgcgaagcaaaaattacggctcctcgctgcagacctgcgagcagggaaacgctcccctcacagacgcgttgaattgtccccacgccgcgcccctgtagagaaatataaaaggttaggatttgccactgaggttcttctttcatatacttccttttaaaatcttgctaggatacagttctcacatcacatccgaacataaacaacc<+>MGTTLDDTAYRYRTAVPGDVERLARLEGLFTTDTVFRVLATGDGATLPSVPASAPLREVLPDDDDDDDDDDDDDDDDDSLLFVAYGDDGTIAGFVVLSLDGDGGRLWIENIAVAPAHRGHGIGTALMGLAADWARERGAEEIWLEVTASNEPAIAAYERAGFTVDGIDTAFYEGGEEDGEDALYMSLPLP<+>actgacaataaaaagattcttgttttcaagaacttgtcatttgtatagtttttttatattgtagttgttctattttaatcaaatgttagcgtgatttatattttttttcgcctcgacatcatctgcccagatgcgaagttaagtgcgcagaaagtaatatcatgcgtcaatcgtatgtgaatgctggtcgctatactg<+>atcacgtgctataaaaataattataatttaaattttttaatataaatatataaattaaaaatagaaattaaaaaaagaaattaaagaaaaaatagtttttgttttccgaagatgtaaaagactctagggggatcgccaacaaatactaccttttatcttgctcttcctgctctcaggtattaatgccgaattgtttcatcttgtctgtgtagaagaccacacacgaaaatcctgtgattttacattttacttatcgttaatcgaatgtatatctatttaatctgcttttcttgtctaataaatatatatgtaaagtacgctttttgttgaaattttttaaacctttttttatttttttttcttcattccttaactcttctaccttctttatttactttctaaaatccaaaaacaaaacaaaaaaataaataaacacaaagtaaattcccaaattattccatcattaaaagatacgaggcgcgtgtaagttacaggcaagcgatc<+>ccctatagtgagtcgtatta<+>cctatagtgagtcgtatta<+>ctcgctcactgactcgct<+>tttccataggctccgcccccctgacgagcatcacaaaaatcgacgctcaagtcagaggtggcgaaacccgacaggactataaagataccaggcgtttccccctggaagctccctcgtgcgctctcctgttccgaccctgccgcttaccggatacctgtccgcctttctcccttcgggaagcgtggcgctttctcatagctcacgctgtaggtatctcagttcggtgtaggtcgttcgctccaagctgggctgtgtgcacgaaccccccgttcagcccgaccgctgcgccttatccggtaactatcgtcttgagtccaacccggtaagacacgacttatcgccactggcagcagccactggtaacaggattagcagagcgaggtatgtaggcggtgctacagagttcttgaagtggtggcctaactacggctacactagaagaacagtatttggtatctgcgctctgctgaagccagttaccgatg\n",
      "<+>gaagcgcctacgcttgacatctactatatgtaagtatacggccccatatataggccctttcgtctcgcgcgtttcggtgatgacggtgaaaa<+>cctctgacacatgcagctcccgg<+>atttaggtgacactataga<+>atttaggtgacactatag<+>ttcaattcatcatttttttttttttctttttttttatttcggtttccttgaaatttttttgattcggtaatctccgaacagaaggaagaacgaaggaaggagcacagacttagattggtatatatatgcatatgtagtgttgaagaaacatgaaattgcccagtattcttaacccaactgcacagaacaaaaacctgcaggaaacgaagataaatc<+>MSKATYKERVATHPSPVAARLFNIMHEKQTNLCASLDVRNTKELLELVEALGPKICLLKTHVDILTDFSMEGGVKALKALSAKYNFLLFEDRKFADIGNTVKLQYSAGVYRIAEWADITNAHGVVGPGIVSGLKQAAEEVTKEPRGLLMLAELSCKGSLSTGEYTKSVVEIAKQDPDFVIGFIAQRDMGGRDEGSDFLIATPGVGLDDKGDALGQQYRTVDDVVNTGSDILIVGRGLFAKGRDAKVEAERLRKAAWEAYLRRTGQQN<+>ccagtttggaacaagagtccaccMALLLLLLLLLLLLLLLLLLLLLLLLLLLLLLLLLLLLLLLLLLLLLLLLLLLLALALLALLLLLAAALLLAAAALLALLLLLALLLLLALALLLLLLLLLGGELEEELE<+>KGLDIFKGMVPVRVELEGEIDGTKFSVKGEGTTNFMTGDMELELVCTSGDCPIPLVQAVDLVNFAGIKIPAAGTDFNFFSRAMPEGYVQNWVILYHDDGKVKTESKVRLEGDTLTNDQVAEGEGFRPDGPVLGNRMLGVISPYVTYHTADVDKRGWLVNFTIRHNLEDGTVMDGDHHITVTPLGDGPFYLPAPWVEVVSATIEKDPSQTRPCVKLKKFIAQQGI<+>gcgaatttcttatgatttatgatttttattattaaataagttataaaaaaaataagtgtatacaaattttaaagtgactcttaggttttaaaaagaaaattcttattcttgagtaactctttcctgtaggtcaggttgctttctcaggtatagtatgaggtcgctcttattgaccacacctctaccgg<+>gacatggaggcccagaataccctccttgacagtcttgacgtgcgcagctcaggggcatgatgtgactgtcgcccgtacatttagcccatacatccccatgtataatcatttgcatccatacattttgatggccgcacggcgcgaagcaaaaattacggctcctcgctgcagacctgcgagcagggaaacgctcccctcacagacgcgttgaattgtccccacgccgcgcccctgtagagaaatataaaaggttaggatttgccactgaggttcttctttcatatacttccttttaaaatcttgctaggatacagttctcacatcacatccgaacataaacaaccatgggtaccactcttgacgacacggcttaccggtaccgcaccagtgtcccgggggacgccgaggccatcgaggcactggatgggtccttcaccaccgacaccgtcttccgcgtcaccgccaccggggacggcttcaccctgctcgaggtgccggtggacccgcccctgaccgaggtgttccccgacgacgaatcggacgacgaatcggacgacggggacgacggcgacccggactaccggacgtacgtcgcgtacggcgacgacggcgacctggcgggctacgtggacgtctcggactccggctgggaccgccggctgaccgtcgaggacatcgaggtcgccccggagcacctggagcacggggtcgggcgcgcggtcctggagctcgcgacggagttcgcccgcgagcggggcgccgggcacctctggctggaggtcgccgacgtcgacgcaccggcgctccacgcgtaccggcggctggggttcaccctctgcggcctggacaccgccctgtacgacggcaccgcctcggacggcgagcaggcgctctacatgagcatgccctgcccctaatcagtactgacaataaaaagattcttgttttcaagaacttgtcatttgtatagtttttttatattgtagttgttctattttaatcaaatgttagcgtgatttatattttttttcgcctcgacatcatctgcccagatgcgaagttaagtgcgcagaaagtaatatcatgcgtcaatcgtatgtgaatgctggtcgctatactg<+>gacatggaggcccagaataccctccttgacagtcttgacgtgcgcagctcaggggcatgatgtgactgtcgcccgtacatttagcccatacatccccatgtataatcatttgcatccatacattttgatggccgcacggcgcgaagcaaaaattacggctcctcgctgcagacctgcgagcagggaaacgctcccctcacagacgcgttgaattgtccccacgccgcgcccctgtagagaaatataaaaggttaggatttgccactgaggttcttctttcatatacttccttttaaaatcttgctaggatacagttctcacatcacatccgaacataaacaacc<+>MGTTLDDTAYRYRLAVPGDVEALARLEGLFTTDTVFRVLRTGGGATLPSVPASAPLTGVLPDDDDDDDDDDDDDDDDDSLLFVAYGDDGTIAGFVVLSLDGEGGRLWIENIAVAPAHRGHGIGTALMGLAADWARERGAEEIWLEVTASNEPAIAAYERAGFTLDGIDTAFYEGDDDDGEDALYMSLPLP<+>actgacaataaaaagattcttgttttcaagaacttgtcatttgtatagtttttttatattgtagttgttctattttaatcaaatgttagcgtgatttatattttttttcgcctcgacatcatctgcccagatgcgaagttaagtgcgcagaaagtaatatcatgcgtcaatcgtatgtgaatgctggtcgctatactg<+>atcacgtgctataaaaataattataatttaaattttttaatataaatatataaattaaaaatagaaattaaaaaaagaaattaaagaaaaaatagtttttgttttccgaagatgtaaaagactctagggggatcgccaacaaatactaccttttatcttgctcttcctgctctcaggtattaatgccgaattgtttcatcttgtctgtgtagaagaccacacacgaaaatcctgtgattttacattttacttatcgttaatcgaatgtatatctatttaatctgcttttcttgtctaataaatatatatgtaaagtacgctttttgttgaaattttttaaacctttttttatttttttttcttcattccttaactcttctaccttctttatttactttctaaaatccaaaaacaaaacaaaaaaataaataaacacaaagtaaattcccaaattattccatcattaaaagatacgaggcgcgtgtaagttacaggcaagcgatc<+>ccctatagtgagtcgtatta<+>cctatagtgagtcgtatta<+>ctcgctcactgactcgct<+>tttccataggctccgcccccctgacgagcatcacaaaaatcgacgctcaagtcagaggtggcgaaacccgacaggactataaagataccaggcgtttccccctggaagctccctcgtgcgctctcctgttccgaccctgccgcttaccggatacctgtccgcctttctcccttcgggaagcgtggcgctttctcatagctcacgctgtaggtatctcagttcggtgtaggtcgttcgctccaagctgggctgtgtgcacgaaccccccgttcagcccgaccgctgcgccttatccggtaactatcgtcttgagtccaacccggtaagacacgacttatcgccactggcagcagccactggtaacaggattagcagagcgaggtatgtaggcggtgctacagagttcttgaagtggtggcctaactacggctacactagaagaacagtatttggtatctgcgctctgctgaagccagttaccgatg\n",
      "<+>gaagcgcctacgcttgacatctactatatgtaagtatacggccccatatataggccctttcgtctcgcgcgtttcggtgatgacggtgaaaa<+>cctctgacacatgcagctcccgg<+>atttaggtgacactataga<+>atttaggtgacactatag<+>ttcaattcatcatttttttttttttctttttttttatttcggtttccttgaaatttttttgattcggtaatctccgaacagaaggaagaacgaaggaaggagcacagacttagattggtatatatatgcatatgtagtgttgaagaaacatgaaattgcccagtattcttaacccaactgcacagaacaaaaacctgcaggaaacgaagataaatc<+>MSKATYKERVATHPSPVAARLFNIMHEKQTNLCASLDVRNTKELLELVEALGPKICLLKTHVDILTDFSMEGGVKALKALSAKYNFLLFEDRKFADIGNTVKLQYSAGVYRIAEWADITNAHGVVGPGIVSGLKQAAEEVTKDPRGLLMLAELSCKGSLSTGEYTKSVVEIAKQDPDFVIGFIAQRDMGGRDEGSDFLIATPGVGLDDKGDALGQQYRTVDDVVNTGSDILIVGRGLFAKGRDAKVEAERLRKAAWEAYLRRTGQQN<+>ccagtttggaacaagagtccac<+>gLLLLLLLLLLLLLLLLLLALLLLLLLLLLLLLLLLLLLLLLLALLLLLLAALLLLLLAALLLALALALLLLALALLAALLAALLLLLLAALLLLLLLLLLLLLLLLLAALKGLAQFTGPQSFEHLLVGNMNGHAFEIVGSGELDPTTGKTSIFEVNKSGVMPVSTVLLVANASNAGLRVPNSCKEHDWALASLPEGYVNKRIFTLANEGNIYMDAEVKMEGDTLVNRLKMKGVDFNPEGVIMGNRAKLSGQPFDVKITPDASKRGTIISFKRLVKLKDGSTFTSEIEQTNYPKSSAPVLKPGKYFIHTEMEMGKHSSGQATSASVEMTQTLEGK<+>gcgaatttcttatgatttatgatttttattattaaataagttataaaaaaaataagtgtatacaaattttaaagtgactcttaggttttaaaaagaaaattcttattcttgagtaactctttcctgtaggtcaggttgctttctcaggtatagtatgaggtcgctcttattgaccacacctctaccgg<+>gacatggaggcccagaataccctccttgacagtcttgacgtgcgcagctcaggggcatgatgtgactgtcgcccgtacatttagcccatacatccccatgtataatcatttgcatccatacattttgatggccgcacggcgcgaagcaaaaattacggctcctcgctgcagacctgcgagcagggaaacgctcccctcacagacgcgttgaattgtccccacgccgcgcccctgtagagaaatataaaaggttaggatttgccactgaggttcttctttcatatacttccttttaaaatcttgctaggatacagttctcacatcacatccgaacataaacaaccatgggtaccactcttgacgacacggcttaccggtaccgcaccagtgtcccgggggacgccgaggccatcgaggcactggatgggtccttcaccaccgacaccgtcttccgcgtcaccgccaccggggacggcttcaccctgctggaggtgccggtggacccgcccctgaccgaggtgttccccgacgacgaatcggacgacgaatcggacgacggggacgacggcgacccggactaccggacgtacgtcgcgtacggcgacgacggcgacctggcgggctacgtggacgtctcggactccggctggaaccgccggctgaccgtcgaggacatcgaggtcgccccggagcacctggagcacggggtcgggcgcgcggtcctggagctcgcgacggagttcgcccgcgagcggggcgccgggcacctctggctggaggtcgccgacgtcgacgcgccggcgatccacgcgtaccggcggctggggttcaccctctgcggcctggacaccgccctgtacgacggcaccgcctcggacggcgagcaggcgctctacatgagcatgccctgcccctaatcagtactgacaataaaaagattcttgttttcaagaacttgtcatttgtatagtttttttatattgtagttgttctattttaatcaaatgttagcgtgatttatattttttttcgcctcgacatcatctgcccagatgcgaagttaagtgcgcagaaagtaatatcatgcgtcaatcgtatgtgaatgctggtcgctatactg<+>gacatggaggcccagaataccctccttgacagtcttgacgtgcgcagctcaggggcatgatgtgactgtcgcccgtacatttagcccatacatccccatgtataatcatttgcatccatacattttgatggccgcacggcgcgaagcaaaaattacggctcctcgctgcagacctgcgagcagggaaacgctcccctcacagacgcgttgaattgtccccacgccgcgcccctgtagagaaatataaaaggttaggatttgccactgaggttcttctttcatatacttccttttaaaatcttgctaggatacagttctcacatcacatccgaacataaacaacc<+>MGTTLDDTAYRYRTAVPGDAERLARLEGLFTTDTVFRVTATGGGATLPPVPVPAPLTGVLPDDDDDDDDDDDDDDDDDSLLFVAYGDDGTIAGFVILSLDGDGGRLWIENIAVAPAHRGHGIGTALMGLAADWARERGAEEIWLEVTASNEPAIAAYERAGFTVDGIDTAFYEGSEDDGEDALYMSLPLP<+>actgacaataaaaagattcttgttttcaagaacttgtcatttgtatagtttttttatattgtagttgttctattttaatcaaatgttagcgtgatttatattttttttcgcctcgacatcatctgcccagatgcgaagttaagtgcgcagaaagtaatatcatgcgtcaatcgtatgtgaatgctggtcgctatactg<+>atcacgtgctataaaaataattataatttaaattttttaatataaatatataaattaaaaatagaaattaaaaaaagaaattaaagaaaaaatagtttttgttttccgaagatgtaaaagactctagggggatcgccaacaaatactaccttttatcttgctcttcctgctctcaggtattaatgccgaattgtttcatcttgtctgtgtagaagaccacacacgaaaatcctgtgattttacattttacttatcgttaatcgaatgtatatctatttaatctgcttttcttgtctaataaatatatatgtaaagtacgctttttgttgaaattttttaaacctttttttatttttttttcttcattccttaactcttctaccttctttatttactttctaaaatccaaaaacaaaacaaaaaaataaataaacacaaagtaaattcccaaattattccatcattaaaagatacgaggcgcgtgtaagttacaggcaagcgatc<+>ccctatagtgagtcgtatta<+>cctatagtgagtcgtatta<+>ctcgctcactgactcgct<+>tttccataggctccgcccccctgacgagcatcacaaaaatcgacgctcaagtcagaggtggcgaaacccgacaggactataaagataccaggcgtttccccctggaagctccctcgtgcgctctcctgttccgaccctgccgcttaccggatacctgtccgcctttctcccttcgggaagcgtggcgctttctcatagctcacgctgtaggtatctcagttcggtgtaggtcgttcgctccaagctgggctgtgtgcacgaaccccccgttcagcccgaccgctgcgccttatccggtaactatcgtcttgagtccaacccggtaagacacgacttatcgccactggcagcagccactggtaacaggattagcagagcgaggtatgtaggcggtgctacagagttcttgaagtggtggcctaactacggctacactagaagaacagtatttggtgtctgcgctctgctgaagccagttaccgatg\n",
      "<+>gaagcgcctacgcttgacatctactatatgtaagtatacggccccatatataggccctttcgtctcgcgcgtttcggtgatgacggtgaaaa<+>cctctgacacatgcagctcccgg<+>atttaggtgacactataga<+>atttaggtgacactatag<+>ttcaattcatcatttttttttttttctttttttttatttcggtttccttgaaatttttttgattcggtaatctccgaacagaaggaagaacgaaggaaggagcacagacttagattggtatatatatgcatatgtagtgttgaagaaacatgaaattgcccagtattcttaacccaactgcacagaacaaaaacctgcaggaaacgaagataaatc<+>MSKATYKERVATHPSPVAARLFNIMKEKQTNLCASLDVRNTKELLELVEALGPKICLLKTHVDILTDFSMEGGVKALKALSAKYNFLLFEDRKFADIGNTVKLQYSAGVYRIAEWADITNAHGVVGPGIVSGLKQAAEEVTKDPRGLLMLAELSCKGSLSTGEYTKSVVEIAKQDPDFVIGFIAQRDMGGRDEGSDFLIATPGVGLDDKGDALGQQYRTVDDVVATGSDILIVGRGLFAKGRDAKVEAERLRKAAWEAYLRRTGQQN<+>ccagtttggaacaagagtccaccMALLLLLLLLLLLLLLLALLLLALLLLLLLLLLLLLLLLLALLLLLLAAALALLALLAALLLLALAALLALAAALLLALAALALLLLLAALLALLLLLLLALLLLAAAALGKGREMFTGIQEKVYELRGEIDGRRFRVEGRGETDADGGYTRLRFICTTGRLPIPWPVLITTLDANAVRFPEGMTASDFATACMPEGYYDTRTLVFDGDGAVFSVGHVAMRDGTLETVAYVSGRGFKADGPIMGRRVELRSHPYFLRVTAMPGLRGWRLERTVPLPLTDGGEYLVHELGYLLKTSDGPAVLPRPHYVSVWETISADPLAEEPHIIYDMQTVVGGR<+>gcgaatttcttatgatttatgatttttattattaaataagttataaaaaaaataagtgtatacaaattttaaagtgactcttaggttttaaaaagaaaattcttattcttgagtaactctttcctgtaggtcaggttgctttctcaggtatagtatgaggtcgctcttattgaccacacctctaccgg<+>gacatggaggcccagaataccctccttgacagtcttgacgtgcgcagctcaggggcatgatgtgactgtcgcccgtacatttagcccatacatccccatgtataatcatttgcatccatacattttgatggccgcacggcgcgaagcaaaaattacggctcctcgctgcagacctgcgagcagggaaacgctcccctcacagacgcgttgaattgtccccacgccgcgcccctgtagagaaatataaaaggttaggatttgccactgaggttcttctttcatatacttccttttaaaatcttgctaggatacagttctcacatcacatccgaacataaacaaccatgggtaccactcttgacgacacggcttaccggtaccgcaccagtgtcccgggggacgccgaggccatcgaggcactggatgggtccttcaccaccgacaccgtcttccgcgtcaccgccaccggggacggcttcaccctgctggaggtgccggtggacccgcccctgaccgaggtgttccccgacgacgaatcggacgacgaatcggacgacggggacgacggcgacccggactaccggacgtacgtcgcgtacggcgacgacggcgacctggcgggctacgtggacgtctcggactccggctggaaccgccggctgaccgtcgaggacatcgaggtcgccccggagcacctggagcacggggtcgggcgcgcggtcctggagctcgcgacggagttcgcccgcgagcggggcgccgggcacctctggctggaggtcgccgacgtcgacgcgccggcgatccacgcgtaccggcggctggggttcaccctctgcggcctggacaccgccctgtacgacggcaccgcctcggacggcgagcaggcgctctacatgagcatgccctgcccctaatcagtactgacaataaaaagattcttgttttcaagaacttgtcatttgtatagtttttttatattgtagttgttctattttaatcaaatgttagcgtgatttatattttttttcgcctcgacatcatctgcccagatgcgaagttaagtgcgcagaaagtaatatcatgcgtcaatcgtatgtgaatgctggtcgctatactg<+>gacatggaggcccagaataccctccttgacagtcttgacgtgcgcagctcaggggcatgatgtgactgtcgcccgtacatttagcccatacatccccatgtataatcatttgcatccatacattttgatggccgcacggcgcgaagcaaaaattacggctcctcgctgcagacctgcgagcagggaaacgctcccctcacagacgcgttgaattgtccccacgccgcgcccctgtagagaaatataaaaggttaggatttgccactgaggttcttctttcatatacttccttttaaaatcttgctaggatacagttctcacatcacatccgaacataaacaacc<+>MGTTLDDTAYRYRTAVPGDVEALARLEGLFTTDTVFRVLRTGDGATLPPVPADAPLREVLPDDDDDDDDDDDDDDDDDSLLFVAYGDDGTIAGFVVLSLDGDGGRLWIENIAVAPAHRGHGIGTALMGLAADWAREAGAEEIWLEVTASNEPAIAAYERAGFTLDGIDTAFYPGGDEDGEDALYMSLPLP<+>actgacaataaaaagattcttgttttcaagaacttgtcatttgtatagtttttttatattgtagttgttctattttaatcaaatgttagcgtgatttatattttttttcgcctcgacatcatctgcccagatgcgaagttaagtgcgcagaaagtaatatcatgcgtcaatcgtatgtgaatgctggtcgctatactg<+>atcacgtgctataaaaataattataatttaaattttttaatataaatatataaattaaaaatagaaattaaaaaaagaaattaaagaaaaaatagtttttgttttccgaagatgtaaaagactctagggggatcgccaacaaatactaccttttatcttgctcttcctgctctcaggtattaatgccgaattgtttcatcttgtctgtgtagaagaccacacacgaaaatcctgtgattttacattttacttatcgttaatcgaatgtatatctatttaatctgcttttcttgtctaataaatatatatgtaaagtacgctttttgttgaaattttttaaacctttttttatttttttttcttcattccttaactcttctaccttctttatttactttctaaaatccaaaaacaaaacaaaaaaataaataaacacaaagtaaattcccaaattattccatcattaaaagatacgaggcgcgtgtaagttacaggcaagcgatc<+>ccctatagtgagtcgtatta<+>cctatagtgagtcgtatta<+>ctcgctcactgactcgct<+>tttccataggctccgcccccctgacgagcatcacaaaaatcgacgctcaagtcagaggtggcgaaacccgacaggactataaagataccaggcgtttccccctggaagctccctcgtgcgctctcctgttccgaccctgccgcttaccggatacctgtccgcctttctcccttcgggaagcgtggcgctttctcatagctcacgctgtaggtatctcagttcggtgtaggtcgttcgctccaagctgggctgtgtgcacgaaccccccgttcagcccgaccgctgcgccttatccggtaactatcgtcttgagtccaacccggtaagacacgacttatcgccactggcagcagccactggtaacaggattagcagagcgaggtatgtaggcggtgctacagagttcttgaagtggtggcctaactacggctacactagaagaacagtatttggtgtctgcgctctgctgaagccagttaccgatg\n"
     ]
    }
   ],
   "source": [
    "# Set the model to evaluation mode\n",
    "device = 'cuda:1'\n",
    "_ = model.to(device)\n",
    "_ = model.eval()\n",
    "\n",
    "predictions = []\n",
    "\n",
    "for i, batch in enumerate(dataloader):\n",
    "    with torch.no_grad():\n",
    "        inputs = {k: v.to(device) for k, v in batch.items()}\n",
    "        outputs = model(input_ids=inputs['input_ids'], attention_mask=inputs['attention_mask'], output_hidden_states=True)\n",
    "        logits = outputs.logits\n",
    "        \n",
    "        # Generate predicted sequences\n",
    "        predicted_token_ids = torch.argmax(logits, dim=-1)\n",
    "        predicted_sequences = tokenizer.batch_decode(predicted_token_ids, skip_special_tokens=False)\n",
    "        # replace ' ' with ''\n",
    "        predicted_sequences = [p.replace(\" \", \"\") for p in predicted_sequences]\n",
    "        predictions.extend(predicted_sequences)\n",
    "    if i == 10:\n",
    "        break\n",
    "\n",
    "# Print a sample of predictions\n",
    "print(\"Sample predictions:\")\n",
    "for i, pred in enumerate(predictions[:5]):\n",
    "    print(pred)"
   ]
  },
  {
   "cell_type": "code",
   "execution_count": 45,
   "metadata": {},
   "outputs": [
    {
     "name": "stdout",
     "output_type": "stream",
     "text": [
      "LLLLLLLLLLLLLLLLLLLLLLLLLLLLLLLLLLLLLLLLLLLLLLLLLLLLLLLLLLLLALLLLALLAAAAALLLALALLLLLLLLLLLLLAAAAAAAAAALLE<+><+\n",
      "MALLLLLLLLLLLLLLLLLLLLLALLLLLLLLLLLALLLLLLALLLLAAAAAALLAALLALAALLLALLLLLLLALLAAALALALLLLALLLLLLLLLLGGGLGLLL<+>\n",
      "LLLLLLLLLLLLLLLLLLLLLLLLLLLLLLLLLLLLLLLLLLLLLLLLLLLLALALLALLLLLAAALLLAAAALLALLLLLALLLLLALALLLLLLLLLGGELEEELE<+\n",
      "gLLLLLLLLLLLLLLLLLLALLLLLLLLLLLLLLLLLLLLLLLALLLLLLAALLLLLLAALLLALALALLLLALALLAALLAALLLLLLAALLLLLLLLLLLLLLLLLAA\n",
      "LLLLLLLLLLLLLLLALLLLALLLLLLLLLLLLLLLLLALLLLLLAAALALLALLAALLLLALAALLALAAALLLALAALALLLLLAALLALLLLLLLALLLLAAAALGK\n",
      "MALLLLLLLLLLLLLLLLALLLLLLLLLLLLLALLLLLALAALLLAALLLAAAALAAAALAALLAAALLLLLAALALLLAALLALAALLLLLLLLLLLLALLLLLEELLL\n",
      "LLLLLLLLLLLLLLLLLLLLLLLLLLLLLLLLLLLLLLLLLLLLLLLALLLLALLLALLALAALALALLLAAAAALLLLALLALALLLLLLLALLLLLLLLLLLLLADGR\n",
      "LLLLLLLLLLLLLLLLLLLLLLLLLLLLLLLLLLALLLLLLLLALLALAAAAAAAAALALLAALAAAALAAAAAAAAAAALLAAAALLALALAALLLAAGLAAAAALAGK\n",
      "MALLLLLLLLLLLLLLLLALLLLLLLLLLLLLLLLLLLLLLLLLLLLLLLLLLLLLALLLALLLALLLLLLAAAAALLLAAALAALLAAAAALLLLAAAAAALLLALA<+\n",
      "LLLLLLLLLLLLLLLLLLLLLLLLLLLLLLLLLLLLALALLLLALLLLLLAALLLALAALAALAALAAALLLAAAAALAALAALLAAALALLAAAALLAAAALLAALALK\n",
      "LLLLLLLLLLLLLLLLLLLLLLLLLLLLLLLALLLLLALLALLLLLLLALALLLLAALLLLLLLALLLLLALLLALLLALLLLLLLAALALLLLLLLLLALLLLAALSAK\n",
      "LLLLLLLLLLLLLLLLLLLLLLLLLLALLLLLLLLLALLALLLLLLLAAALLLLLLAALALLLALLALALLLLLALALLLLAALLLLLLLLLLLLLLLLGLALLLALAGR\n",
      "gALLLLLLLLLLLLLLLLLLLLLLAALLLLALLLLLALLLLLALALLLAAALALLAALLLALLLAALAAALLAAAALAAALLAALLLLLAALLLLALLLLLALLLLEAEA\n",
      "LLLLLLLLLLLLLLLLLLLLLLLLLLLLLLLLLLLLLALLLLLLLLLLLLAALLLLLLAALLALALLALLALLAAALLAALLALLALLALLLLALLLAAAAALLL<+><+\n",
      "LLLLLLLLLLLLLLLLLLLLLLLLLLLLLLLLLLLLLLLLLLLLLLLLLLLLLALLLLALLLLLLLLLLAALAALLLALLAALLLLLALLLLLLLLLLLGLLLLLELLLK\n",
      "LLLLLLLLLLLLLLLLLLLLLLLLLLLLLLLLLLLLLLLLLLLLLLLLLLLLLLLLLLLLLLLLLLLLLLLLLLLLLLALLALLLLLLLLLLLLALLLAALALAAGGAAA\n",
      "LLLLLLLLLLLLLLLLLLALLLLLLLLLLLLLLLALLLLLLLLLLLLLLLAALLLLLLLLLLLLAAALLALLALLAALAAAALLALALLLALAALLLAAAAALLLL<+>A\n",
      "LLLLLLLLLLLLLLLLLLLLLLLLLLLLLLLLLLLLLLLLLLLLLLLLALLLLLAALLLALALLLLLLLLLLLLLLLLLLLLAALLAALLLLLLLLLLALLLLLGLLLAK\n",
      "LLLLLLLLLLLLLLLLLALLLLALLLLLLLLALLALLLLAALLLLALLAALLLLLLALLLLLLAALLLLLALLLAALLLLALLALAALLLLLALLLLAAAALLLL<+><+\n",
      "LLLLLLLLLLLLLLALLLLLLLLLLLLLLLLLLLLLLLLL<+><+><+><+><+><+><+><+><+><+><+><+><+><+><+><+><+><+><+><+><+><+><+><\n",
      "MALLLLLLLLLLLLLLLLLLLLLLLLLLLLLLLLLLLLLLLLLLLLLLLLLLLALLLLALLLLAALLLALAAALLLLLLALALLALLALLALLLLLLLLLLGLEELELLS\n",
      "LLLLLLLLLLLLLLLLLLLLLLLLLLLLLLLLLLLLLLLLLLLLLLLLLLLLALLLLLLLLLLLALLLLALLLLALLLALLLLLLLLLLLALAALLLLLLLLLLE<+><+\n",
      "MLLLLLLLLLLLLLLLLLLLLLLLLLALLLLLLALAALLLLLLLLLLLALLLLLLAAAAAALLALALLALLLLLLLAAALAALLLALLAAAALLALLALAALLLLLSLLL\n",
      "MALLLLLLLLLLLLLLLLLALLLLLLLALLLLLLLLLLLLLLALALAALLLLAALALLLLLALLLALALALAALALALALLAAAALLLLLAAALLAAAAALALALAA<+>\n",
      "MALLLLLLLLLLLLLLLLLLLLLLLLLLLLLLLLLLLLLLLLLLLLLLALLLLALLALLLAALLLLALALLALALAAAAAALLLLLLLLLLLLAALLLLLLLGLLLLA<+\n",
      "LLLLLLLLLLLLLLLLLLLLLLLLLLLLLLLLALLLLLLLLLLLLAA<+>LAAA<+>AAAA<+>LLALLALLALLAALAALAALLAALLLLLLLLLLLLLLLLLLLELLL\n",
      "LLLLLLLLLLLLLLLLLLLLLLLLLALLLLLALLLLLLLLLLLLLLLALLLLLLLALLLAALLLLLLLLLLLLALLLALLALLLLLALLLLLLALLLALLLALLLG<+>L\n",
      "LLLLLLLLLLLLLLLLLLLALLLLLLLLLLLLLLLLLLLLLLLLLLLLLLLLLLLLLLLLLLAALLLLALLLLLLLALLAAALLLAALLLAAALLLAALLLLLALL<+>L\n",
      "LLLLLLLLLLLLLLLLLLLLLLLLLLLLLLLLLLLLLLLLLLLLLALLLLLALLLLALAAALALAALLAAAAAAAALAAAALAAAAALAALLLLLLAAAAAALALA<+>A\n",
      "LLLLLLLLLLLLLLLLLLLLLLLLLLLLLLLLLLLLLLLLLLLLLLLLLLALLALLALLLLLLALLLLLLLLLLLLLLLLALLLLALALLLALLLLLLLALELLALLLAR\n",
      "LLLLLLLLLLLLLLLLLLLLLLLLLLLLLLLLLLLLLLLLLLLLLLLLLLLLLLLALALLLLLLLLLLAALAALALALLLLLLALLLLLLLLLLLLLLALLLLLSLLA<+\n",
      "gALLLLLLLLLLLLLLLLLLLLLLLLLLLLLLLLLLLLLLLLALLALLLLLLLLL<+>LEL<+>LAELLAALLLLAAAAALLALLLAALLLAALELLLLLGALLAGEEEE\n",
      "LLLLLLLLLLLLLLLLLLLLLLLLLLLLLLLLLLLLLLLLLLLLLLLLLLALLLLAALLLALLALALLLLAAALLAAALAALLLALALLLALAALLLLAAALLLLLLL<+\n",
      "LLLLLLLLLLLLLLLLLLLLLLLLLLLLLLLLLALLLLLLALLLLLLLLLLLLLLALLLALLAAALLALLLLLALLLALAAAAALAAALALLLLLAAAAALAALA<+><+\n",
      "LLLLLLLLLLLLLLLLLLLLLLLLLLLLLLLLLLLLLLLLLLLLALLLALLLLLLLLALLLLLLALLALLLLLALLLAALLLALALLLLALLLLLLLLALLLLLLLGAGE\n",
      "LLLLLLLLLLLLLLLLLLLLLLLLALLLLLLALLLLLLLLLAALLLLLLLLALLALALLLLLLAALLLALLAAAALAAALLLLALALALLLLAALAAALAAALAAA<+>A\n",
      "LLLLLLLLLLLLLLLLLLLLLLLLLLLLLLLLLLALLLLLLLLLALLLLALALLLAAALAALAAALLLAAAAAAAALAAALAAALLLAALLAAALAAAAAAALLL<+><+\n",
      "LLLLLLLLLLLLLLLLLALLLLLLLLALLLLLLLLALLLLLLLALLLA<+>A<+><+><+><+><+><+><+><+><+><+><+><+>AAAAAAAAAAAAALLLLLLLLL\n",
      "MALLLLLLLLLLLLLLLLLLLLLLLLLLLLLALLLLLLLLLLAALLLALLLLALLLLLAAALAALLALLAALLAALALLLALAALLLLLLLLLLLLLLLLAAALLLEALL\n",
      "gALLLLLLLLLLLLLLLLLLLLLLLLLLLLLLLLLLLLLLLLLL<+>LLL<+><+><+><+><+><+><+><+><+><+><+><+><+><+><+><+><+><+><+><+>\n",
      "LLLLLLLLLLLLLLLLLLLLLLLLLLLLLLLLLLLLLLLLLLLLLLLLLALLAALLLLLLLLLAAAALLLLALLLLALLLLLLALAALLLLLLLLLLLLAALLLLLLAKA\n",
      "MALLLLLLLLLLLLLLLLLLLLLLLLLLLLLALLLLALLLLLLLALLLLLALLLLALLLALLLLLLALALLALLAAAAALLLLALLLLLLLLAAAAAALAAAAALLE<+>\n",
      "LLLLLLLLLLLLLLLLLLLLLLLLLLLLLLLLLLLLLLLLLLLLALLLALLLLLA<+>AAA<+>LLLALAAALAAALLLALLLAALALLLAALALLAALAALAALLLLAL\n",
      "LLLLLLLLLLLLLLLLLLLLLLALLALLLLLLLLLALLLALLLAALLLALLLLLALAAAAALAALALLLAAAALAAAAALAALALAAAALAALAAAAAAAAAAAAA<+>A\n",
      "LLLLLLLLLLLLLLLLLLLLLLLLLLLLLLLLLLLLLLLLLLLALLLLLALALLLLLAALALLALLLLLLALALAALLLLAAALLLLAALLALALLLLLGGALLLAGLLK\n",
      "LLLLLLLLLLLLLLLLLLLLLLLLLLLLLLLLLLLLLLLLLLALLLLLLLLLLLLAALLLLLLLLLLLLLAALLAAALALLLLLALALALLLLLLLLALLLALLGGGA<+\n",
      "LLLLLLLLLLLLLLLLLLLLLLLLLLLLLALLLLLALLLLLLLLLLLLLAALLLLLLLLLALLLLLLLLALLLLLLLLLALLLLALLAALLLLLAALLALLLLLL<+><+\n",
      "LLLLLLLLLLLLLLLLLLLALLLALALLLLLLLLLLLLAALLLLLLALAALALAAAALALLALAAAALLLAALAAAALAALLALLLLAALLLAAALAAAALGLSLLLASS\n",
      "gLLLLLLLLLLLLLLLLLLLLLLLLLLLLLLLLLLLLLLLLLLLLLLLLLLLLAAALLLLLLLALLLLALLLLLLLLLLLLLLLLLLLLLLLLLLLLLLLLLLLLLELGL\n",
      "MALLLLLLLLLLLLLLLLLLLLLLLLLLLLLLLLLLLLLLLLLLLLLLLLLLLLLALLLLLLLLLLLLLLLAALLALLLAALALLLLLLLLLLLLLLLLAAALALLG<+>\n",
      "MALLLLLLLLLLLLLLLLLLLLLLLLLLLLLLLLLLLLLLLLLLLLLLALLLLLLLLLLLLLLLLLLLLLAALLALALALALALLLLALALLLLLLLLLLLLLELLL<+>\n",
      "LLLLLLLLLLLLLLLLLLLLLLLLLLLLLLLLLLLLLLLLLLLLLLLLAAAAAAALAALALLLLLLLLLALLALLAALLLLLLLLLLLALLALLLLLLLLELLLE<+>EE\n",
      "LLLLLLLLLLLLLLLLLLLLLLLLLLLLLLLLLLLLLLLLALALLLLLALLLLLALLLLLLLLLALLLLLALLALLLLLAAALLLLALLLLLLLLLLLLAALLLALLL<+\n",
      "LLLLLLLLLLLLLLLLLLLLALLLLLLALLLLALLLLLLALLLLLLALALLALLLLLALALAALLALLLLLLLLALALAALALALLLALALLLAAALLLLLLLLLL<+>G\n",
      "LLLLLLLLLLLLLLLLALALLALLLLLLLLLLALLLALLLLLLLAALALALLLLALAALALLAAALLLALAAAAAAAAALLLLLLALLALLLALLALAAGALLLAGGS<+\n"
     ]
    }
   ],
   "source": [
    "for p in predictions:\n",
    "    print(p[mask_start:mask_end])"
   ]
  },
  {
   "cell_type": "markdown",
   "metadata": {},
   "source": [
    "## Alt backbone, YFP variants\n",
    "Static mask original promoter with YFP variants in context"
   ]
  },
  {
   "cell_type": "code",
   "execution_count": 51,
   "metadata": {},
   "outputs": [
    {
     "name": "stderr",
     "output_type": "stream",
     "text": [
      "Filter: 100%|██████████| 147071/147071 [00:18<00:00, 7762.43 examples/s]\n"
     ]
    }
   ],
   "source": [
    "yfp_vector = load_dataset(\"wconnell/openplasmid\")\n",
    "yfp_vector = yfp_vector.filter(lambda x: '13033' == x['ID'])\n",
    "yfp_vector = yfp_vector['train'][0]\n",
    "\n",
    "# Parse the GenBank file\n",
    "yfp_gbank = read_genbank(yfp_vector['GenBank Raw'])\n",
    "\n",
    "# Convert GenBank to GLM2 sequence\n",
    "yfp_glm2 = genbank_to_glm2(yfp_vector['GenBank Raw'])"
   ]
  },
  {
   "cell_type": "code",
   "execution_count": 92,
   "metadata": {},
   "outputs": [
    {
     "data": {
      "text/plain": [
       "'gtgatgcggttttggcagtacatcaatgggcgtggatagcggtttgactcacggggatttccaagtctccaccccattgacgtcaatgggagtttgttttggcaccaaaatcaacgggactttccaaaatgtcgtaacaactccgccccattgacgcaaatgggcggtaggcgtgtacggtgggaggtctatataagcagagct'"
      ]
     },
     "execution_count": 92,
     "metadata": {},
     "output_type": "execute_result"
    }
   ],
   "source": [
    "import random\n",
    "\n",
    "# Find the promoter site\n",
    "promoter = yfp_gbank.features[3]\n",
    "promoter_seq = str(yfp_gbank.seq[promoter.location.start:promoter.location.end].lower())\n",
    "promoter_seq\n",
    "\n",
    "mask_len = 110\n",
    "replace_promoter = False\n",
    "\n",
    "mask_start = yfp_glm2.find(promoter_seq)\n",
    "mask_start = mask_start + len(promoter_seq) + 3  # buffer for '<+>'\n",
    "\n",
    "if replace_promoter:\n",
    "    mask_insert = ''.join(['<mask>'] * mask_len)\n",
    "    masked_yfp_glm2 = yfp_glm2[:mask_start] + mask_insert + '<+>' + yfp_glm2[mask_start:]\n",
    "    mask_end = mask_start + mask_len\n",
    "else:\n",
    "    # Randomly replace n% of promoter_seq positions with '<mask>'\n",
    "    masked_promoter = list(promoter_seq)\n",
    "    mask_positions = random.sample(range(len(promoter_seq)), k=int(0.5 * len(promoter_seq)))\n",
    "    for pos in mask_positions:\n",
    "        masked_promoter[pos] = '<mask>'\n",
    "    masked_promoter = ''.join(masked_promoter)\n",
    "    masked_yfp_glm2 = yfp_glm2[:mask_start] + masked_promoter + '<+>' + yfp_glm2[mask_start:]\n",
    "    mask_end = mask_start + len(promoter_seq)\n",
    "\n",
    "# Find the YFP CDS\n",
    "yfp_cds = yfp_gbank.features[7]\n",
    "yfp_cds_seq = yfp_cds.qualifiers['translation'][0]\n",
    "\n",
    "# Load variants\n",
    "variants = pd.read_csv('results/seq_variants/variants.csv')\n",
    "variants =variants[variants['Backbone_RMSD'] < 5]\n",
    "# add original plasmid to variants\n",
    "original_plasmid = pd.DataFrame([{'ID': 127546, 'Masking_Percentage': 0, 'Sequence_used': True, 'Generated_Sequence': yfp_cds_seq, 'Sequence_Identity': 1.0, 'Backbone_RMSD': 0}])\n",
    "variants = pd.concat([original_plasmid, variants])\n",
    "\n",
    "# Create masked_yfp_var_glm2 for all sequences\n",
    "variant_plasmids = []\n",
    "\n",
    "for _, row in variants.iterrows():\n",
    "    cds_insert = row['Generated_Sequence']\n",
    "    start = masked_yfp_glm2.find(yfp_cds_seq)\n",
    "    end = start + len(yfp_cds_seq)\n",
    "    masked_yfp_var_glm2 = masked_yfp_glm2[:start] + cds_insert + masked_yfp_glm2[end:]\n",
    "    variant_plasmid = {'ID': row['ID'], 'glm2_sequence': masked_yfp_var_glm2}\n",
    "    variant_plasmids.append(variant_plasmid)\n"
   ]
  },
  {
   "cell_type": "code",
   "execution_count": 93,
   "metadata": {},
   "outputs": [
    {
     "name": "stderr",
     "output_type": "stream",
     "text": [
      "Map:   0%|          | 0/2646 [00:00<?, ? examples/s]"
     ]
    },
    {
     "name": "stderr",
     "output_type": "stream",
     "text": [
      "Map: 100%|██████████| 2646/2646 [00:05<00:00, 508.18 examples/s]\n"
     ]
    }
   ],
   "source": [
    "from datasets import Dataset\n",
    "from torch.utils.data import DataLoader\n",
    "variant_plasmid_ds = Dataset.from_list(variant_plasmids)\n",
    "variant_plasmid_ds = variant_plasmid_ds.map(tokenize_function, batched=True)\n",
    "variant_plasmid_ds.set_format(type='torch', columns=['input_ids', 'attention_mask', 'ID'])\n",
    "dataloader = DataLoader(variant_plasmid_ds, batch_size=5, shuffle=False)\n",
    "    "
   ]
  },
  {
   "cell_type": "code",
   "execution_count": 94,
   "metadata": {},
   "outputs": [
    {
     "name": "stdout",
     "output_type": "stream",
     "text": [
      "Sample predictions:\n",
      "<+>tctacggatcgggagatctcccgatcccctatggtgcactctcag<+>tacaatctgctctgatgccg<+>gacattgattattgactagttattaatagtaatcaattacggggtcattagttcatagcccatatatggagttccgcgttacataacttacggtaaatggcccgcctggctgaccgcccaacgacccccgcccattgacgtcaataatgacgtatgttcccatagtaacgccaatagggactttccattgacgtcaatgggtggagtatttacggtaaactgcccacttggcagtacatcaagtgtatcatatgccaagtacgccccctattgacgtcaatgacggtaaatggcccgcctggcattatgcccagtacatgaccttatgggactttcctacttggcagtacatctacgtattagtcatcgctattaccatg<+>gtgatgcggttttggcagtacatcaatgggcgtggatagcggtttgactcacggggatttccaagtctccaccccattgacgtcaatgggagtttgttttggcaccaaaatcaacgggactttccaaaatgtcgtaacaactccgccccattgacgcaaatgggcggtaggcgtgtacggtgggagctctatataagcagagcttgtaatgcggttttggcagtacatcaatgggcgtggatagcggtctgaatcacggggatttccaagtctccaccccattgacgtcaatgggagttcgttttggcaccaaaatcaacgggactttccaaaatgtcgtaacaactcaaccctattgacgccaatgggcgtatagcgtgtacggtgggaggtctatataagcagagct<+>cgcaaatgggcggtaggcgtg<+>taatacgactcactataggg<+>taatacgactcactatagg<+>MVSKGEELFTGVVPILVELDGDVNGHKFSVSGEGEGDATYGKLTLKFICTTGKLPVPWPTLVTTFTYGLKCFARYPDHMKQHDFFKSAMPEGYVQERTIFFKDDGNYKTRAEVKFEGDTLVNRIELKGIDFKEDGNILGHKLEYNYNSHNVYIMADKQKNGIKVNFKIRHNIEDGSVQLADHYQQNTPIGDGPVLLPDNHYLSYQSALSKDPNEKRDHMVLLEFVTAAGITLGMDELYK<+>ctggtcgagctggacggcgacg<+>gacgacggcaactacaagac<+>catggtcctgctggagttcgtg<+>tctatagtgtcacctaaat<+>ctatagtgtcacctaaat<+>cctcgactgtgccttcta<+>ctgtgccttctagttgccagccatctgttgtttgcccctcccccgtgccttccttgaccctggaaggtgccactcccactgtcctttcctaataaaatgaggaaattgcatcgcattgtctgagtaggtgtcattctattctggggggtggggtggggcaggacagcaagggggaggattgggaagacaatagcaggcatgctggggatgcggtgggctctatgg<+>acgcgccctgtagcggcgcattaagcgcggcgggtgtggtggttacgcgcagcgtgaccgctacacttgccagcgccctagcgcccgctcctttcgctttcttcccttcctttctcgccacgttcgccggctttccccgtcaagctctaaatcgggggctccctttagggttccgatttagtgctttacggcacctcgaccccaaaaaacttgattagggtgatggttcacgtagtgggccatcgccctgatagacggtttttcgccctttgacgttggagtccacgttctttaatagtggactcttgttccaaactggaacaacactcaaccctatctcggtctattcttttgatttataagggattttgccgatttcggcctattggttaaaaaatgagctgatttaacaaaaatttaacgcgaatt<+>ctcctttcgctttcttccct<+>gtggactcttgttccaaactgg<+>ggaatgtgtgtcagttagggt<+>gtgtgtcagttagggtgtggaaagtccccaggctccccagcaggcagaagtatgcaaagcatgcatctcaattagtcagcaaccaggtgtggaaagtccccaggctccccagcaggcagaagtatgcaaagcatgcatctcaattagtcagcaaccatagtcccgcccctaactccgcccatcccgcccctaactccgcccagttccgcccattctccgccccatggctgactaattttttttatttatgcagaggccgaggccgcctctgcctctgagctattccagaagtagtgaggaggcttttttggaggcctaggcttttgcaaa<+>atcccgcccctaactccgcccagttccgcccattctccgccccatggctgactaattttttttatttatgcagaggccgaggccgcctctgcctctgagctattccagaagtagtgaggaggcttttttggaggcc<+>tatttatgcagaggccgagg<+>MIEQDGLHAGSPAAWVERLFGYDWAQQTIGCSDAAVFRLSAQGRPVLFVKTDLSGALNELQDEAARLSWLATTGVPCAAVLDVVTEAGRDWLLLGEVPGQDLLSSHLAPAEKVSIMADAMRRLHTLDPATCPFDHQAKHRIERARTRMEAGLVDQDDLDEEHQGLAPAELFARLKARMPDGEDLVVTHGDACLPNIMVENGRFSGFIDCGRLGVADRYQDIALATRDIAEELGGEWADRFLVLYGIAAPDSQRIAFYRLLDEFF<+>ctattcggctatgactgggc<+>cgttggctacccgtgatatt<+>aacttgtttattgcagcttataatggttacaaataaagcaatagcatcacaaatttcacaaataaagcatttttttcactgcattctagttgtggtttgtccaaactcatcaatgtatctta<+>gcaatagcatcacaaatttc<+>gtggtttgtccaaactcatc<+>gtcatagctgtttcctg<+>gtcatagctgtttcctg<+>cctgtgtgaaattgttatccgct<+>ttgttatccgctcacaa<+>caacatacgagccggaagcataaagtgtaaa<+>atgagtgagctaactcacatta<+>ctcgctcactgactcgct<+>tttccataggctccgcccccctgacgagcatcacaaaaatcgacgctcaagtcagaggtggcgaaacccgacaggactataaagataccaggcgtttccccctggaagctccctcgtgcgctctcctgttccgaccctgccgcttaccggatacctgtccgcctttctcccttcgggaagcgtggcgctttctcatagctcacgctgtaggtatctcagttcggtgtaggtcgttcgctccaagctgggctgtgtgcacgaaccccccgttcagcccgaccgctgcgccttatccggtaactatcgtcttgagtccaacccggtaagacacgacttatcgccactggcagcagccactggtaacaggattagcagagcgaggtatgtaggcggtgctacagagttcttgaagtggtggcctaactacggctacactagaagaacagtatttggtatctgcgctctgctgaagccagttaccttcggaaaaagagttggtagctcttgatccggcaaacaaaccaccgctggtagcggtggtttttttgtttgcaagcagcagattacgcgcagaaaaaaaggatctcaa<+>aaagataccaggcgtttccc<->MSIQHFRVALIPFFAAFCLPVFAHPETLVKVKDAEDQLGARVGYIELDLNSGKILESFRPEERFPMMSTFKVLLCGAVLSRIDAGQEQLGRRIHYSQNDLVEYSPVTEKHLTDGMTVRELCSAAITMSDNTAANLLLTTIGGPKELTAFLHNMGDHVTRLDRWEPELNEAIPNDERDTTMPVAMATTLRKLLTGELLTLASRQQLIDWMEADKVAGPLLRSALPAGWFIADKSGAGERGSRGIIAALGPDGKPSRIVVIYTTGSQATMDERNRQIAEIGASLIKHW<+>ataataccgcgccacatagc<+>actcttcctttttcaatattattgaagcatttatcagggttattgtctcatgagc\n",
      "<+>tctacggatcgggagatctcccgatcccctatggtgcactctcag<+>tacaatctgctctgatgccg<+>gacattgattattgactagttattaatagtaatcaattacggggtcattagttcatagcccatatatggagttccgcgttacataacttacggtaaatggcccgcctggctgaccgcccaacgacccccgcccattgacgtcaataatgacgtatgttcccatagtaacgccaatagggactttccattgacgtcaatgggtggagtatttacggtaaactgcccacttggcagtacatcaagtgtatcatatgccaagtacgccccctattgacgtcaatgacggtaaatggcccgcctggcattatgcccagtacatgaccttatgggactttcctacttggcagtacatctacgtattagtcatcgctattaccatg<+>gtgatgcggttttggcagtacatcaatgggcgtggatagcggtttgactcacggggatttccaagtctccaccccattgacgtcaatgggagtttgttttggcaccaaaatcaacgggactttccaaaatgtcgtaacaactccgccccattgacgcaaatgggcggtaggcgtgtacggtgggagctctatataagcagagcttgtaatgcggttttggcagtacatcaatgggcgtggatagcggtctgtatcacggggatttccaagtctccaccccattgacgtcaatgggagttcgttttggcaccaaaatcaacgggactttccaaaatgtcgtaacaactcaaccctattgacgccaatgggcgtatagcgtgtacggtgggaggtctatataagcagagcg<+>cgcaaatgggcggtaggcgtg<+>taatacgactcactataggg<+>taatacgactcactatagg<+>MGLKAFQGKVPVTVKMEGEVNGVKFEVEGTGEGDSTTGKADLKVICTSGECPIPWDQLVNAFSYGSAHWPEEYREHNYFKSAMPEGFKFERVVTFKDDGTQTTTADVKLEGDTLVQDMKSIGEGFKEDGNILGHILEPEFNSFVMDYEPNRAENGLKMKFVTRIKLKDGTQAEFINEYRVFKLGSDPIPIPDPVYLSYNSLLGNVVDEKRPSFVEKSTQVVKGF<+>ctggtcgagctggacggcgacg<+>gacgacggcaactacaagac<+>catggtcctgctggagttcgtg<+>tctatagtgtcacctaaat<+>ctatagtgtcacctaaat<+>cctcgactgtgccttcta<+>ctgtgccttctagttgccagccatctgttgtttgcccctcccccgtgccttccttgaccctggaaggtgccactcccactgtcctttcctaataaaatgaggaaattgcatcgcattgtctgagtaggtgtcattctattctggggggtggggtggggcaggacagcaagggggaggattgggaagacaatagcaggcatgctggggatgcggtgggctctatgg<+>acgcgccctgtagcggcgcattaagcgcggcgggtgtggtggttacgcgcagcgtgaccgctacacttgccagcgccctagcgcccgctcctttcgctttcttcccttcctttctcgccacgttcgccggctttccccgtcaagctctaaatcgggggctccctttagggttccgatttagtgctttacggcacctcgaccccaaaaaacttgattagggtgatggttcacgtagtgggccatcgccctgatagacggtttttcgccctttgacgttggagtccacgttctttaatagtggactcttgttccaaactggaacaacactcaaccctatctcggtctattcttttgatttataagggattttgccgatttcggcctattggttaaaaaatgagctgatttaacaaaaatttaacgcgaatt<+>ctcctttcgctttcttccct<+>gtggactcttgttccaaactgg<+>ggaatgtgtgtcagttagggt<+>gtgtgtcagttagggtgtggaaagtccccaggctccccagcaggcagaagtatgcaaagcatgcatctcaattagtcagcaaccaggtgtggaaagtccccaggctccccagcaggcagaagtatgcaaagcatgcatctcaattagtcagcaaccatagtcccgcccctaactccgcccatcccgcccctaactccgcccagttccgcccattctccgccccatggctgactaattttttttatttatgcagaggccgaggccgcctctgcctctgagctattccagaagtagtgaggaggcttttttggaggcctaggcttttgcaaa<+>atcccgcccctaactccgcccagttccgcccattctccgccccatggctgactaattttttttatttatgcagaggccgaggccgcctctgcctctgagctattccagaagtagtgaggaggcttttttggaggcc<+>tatttatgcagaggccgagg<+>MIEQDGLHAGSPAAWVERLFGYDWAQQTIGCSDAAVFRLSAQGRPVLFVKTDLSGALNELQDEAARLSWLATTGVPCAAVLDVVTEAGRDWLLLGEVPGQDLLSSHLAPAEKVSIMADAMRRLHTLDPATCPFDHQAKHRIERARTRMEAGLVDQDDLDEEHQGLAPAELFARLKARMPDGEDLVVTHGDACLPNIMVENGRFSGFIDCGRLGVADRYQDIALATRDIAEELGGEWADRFLVLYGIAAPDSQRIAFYRLLDEFF<+>ctattcggctatgactgggc<+>cgttggctacccgtgatatt<+>aacttgtttattgcagcttataatggttacaaataaagcaatagcatcacaaatttcacaaataaagcatttttttcactgcattctagttgtggtttgtccaaactcatcaatgtatctta<+>gcaatagcatcacaaatttc<+>gtggtttgtccaaactcatc<+>gtcatagctgtttcctg<+>gtcatagctgtttcctg<+>cctgtgtgaaattgttatccgct<+>ttgttatccgctcacaa<+>caacatacgagccggaagcataaagtgtaaa<+>atgagtgagctaactcacatta<+>ctcgctcactgactcgct<+>tttccataggctccgcccccctgacgagcatcacaaaaatcgacgctcaagtcagaggtggcgaaacccgacaggactataaagataccaggcgtttccccctggaagctccctcgtgcgctctcctgttccgaccctgccgcttaccggatacctgtccgcctttctcccttcgggaagcgtggcgctttctcatagctcacgctgtaggtatctcagttcggtgtaggtcgttcgctccaagctgggctgtgtgcacgaaccccccgttcagcccgaccgctgcgccttatccggtaactatcgtcttgagtccaacccggtaagacacgacttatcgccactggcagcagccactggtaacaggattagcagagcgaggtatgtaggcggtgctacagagttcttgaagtggtggcctaactacggctacactagaagaacagtatttggtatctgcgctctgctgaagccagttaccttcggaaaaagagttggtagctcttgatccggcaaacaaaccaccgctggtagcggtggtttttttgtttgcaagcagcagattacgcgcagaaaaaaaggatctcaa<+>aaagataccaggcgtttccc<->MSIQHFRVALIPFFAAFCLPVFAHPETLVKVKDAEDQLGARVGYIELDLNSGKILESFRPEERFPMMSTFKVLLCGAVLSRIDAGQEQLGRRIHYSQNDLVEYSPVTEKHLTDGMTVRELCSAAITMSDNTAANLLLTTIGGPKELTAFLHNMGDHVTRLDRWEPELNEAIPNDERDTTMPVAMATTLRKLLTGELLTLASRQQLIDWMEADKVAGPLLRSALPAGWFIADKSGAGERGSRGIIAALGPDGKPSRIVVIYTTGSQATMDERNRQIAEIGASLIKHW<+>ataataccgcgccacatagc<+>actcttcctttttcaatattattgaagcatttatcagggttattgtctcatgagcggatacatatttgaa\n",
      "<+>tctacggatcgggagatctcccgatcccctatggtgcactctcag<+>tacaatctgctctgatgccg<+>gacattgattattgactagttattaatagtaatcaattacggggtcattagttcatagcccatatatggagttccgcgttacataacttacggtaaatggcccgcctggctgaccgcccaacgacccccgcccattgacgtcaataatgacgtatgttcccatagtaacgccaatagggactttccattgacgtcaatgggtggagtatttacggtaaactgcccacttggcagtacatcaagtgtatcatatgccaagtacgccccctattgacgtcaatgacggtaaatggcccgcctggcattatgcccagtacatgaccttatgggactttcctacttggcagtacatctacgtattagtcatcgctattaccatg<+>gtgatgcggttttggcagtacatcaatgggcgtggatagcggtttgactcacggggatttccaagtctccaccccattgacgtcaatgggagtttgttttggcaccaaaatcaacgggactttccaaaatgtcgtaacaactccgccccattgacgcaaatgggcggtaggcgtgtacggtgggagctctatataagcagagcttgtaatgcggttttggcagtacatcaatgggcgtggatagcggtttgaatcacggggatttccaagtctccaccccattgacgtcaatgggagttcgttttggcaccaaaatcaacgggactttccaaaatgtcgtaacaactcacccctattgacgccaaagggcgtatggcgtgtacggtgggaggtctatataagcagagct<+>cgcaaatgggcggtaggcgtg<+>taatacgactcactataggg<+>taatacgactcactatagg<+>MGLDIFKGMVPVTVELEGDIDGHKFSVKGEGTTNFMTGDQTLELVCTSGPCPIPLVQAVDLVNFAGIKIPAAGTDFNFFSRAMPEGYVQNWVILYHDDGQVKTESKVRLEGDTLTNTQVAEGEGFRPDGPVLGNRMLGVISPYVTYHTADVDKRGWLVNFTIRHNIEDGTVMDGDHHITVTPLGDGPFYLPAPWVDVVSATIEKDPSQTRPAVKLKKFIAQQGI<+>ctggtcgagctggacggcgacg<+>gacgacggcaactacaagac<+>catggtcctgctggagttcgtg<+>tctatagtgtcacctaaat<+>ctatagtgtcacctaaat<+>cctcgactgtgccttcta<+>ctgtgccttctagttgccagccatctgttgtttgcccctcccccgtgccttccttgaccctggaaggtgccactcccactgtcctttcctaataaaatgaggaaattgcatcgcattgtctgagtaggtgtcattctattctggggggtggggtggggcaggacagcaagggggaggattgggaagacaatagcaggcatgctggggatgcggtgggctctatgg<+>acgcgccctgtagcggcgcattaagcgcggcgggtgtggtggttacgcgcagcgtgaccgctacacttgccagcgccctagcgcccgctcctttcgctttcttcccttcctttctcgccacgttcgccggctttccccgtcaagctctaaatcgggggctccctttagggttccgatttagtgctttacggcacctcgaccccaaaaaacttgattagggtgatggttcacgtagtgggccatcgccctgatagacggtttttcgccctttgacgttggagtccacgttctttaatagtggactcttgttccaaactggaacaacactcaaccctatctcggtctattcttttgatttataagggattttgccgatttcggcctattggttaaaaaatgagctgatttaacaaaaatttaacgcgaatt<+>ctcctttcgctttcttccct<+>gtggactcttgttccaaactgg<+>ggaatgtgtgtcagttagggt<+>gtgtgtcagttagggtgtggaaagtccccaggctccccagcaggcagaagtatgcaaagcatgcatctcaattagtcagcaaccaggtgtggaaagtccccaggctccccagcaggcagaagtatgcaaagcatgcatctcaattagtcagcaaccatagtcccgcccctaactccgcccatcccgcccctaactccgcccagttccgcccattctccgccccatggctgactaattttttttatttatgcagaggccgaggccgcctctgcctctgagctattccagaagtagtgaggaggcttttttggaggcctaggcttttgcaaa<+>atcccgcccctaactccgcccagttccgcccattctccgccccatggctgactaattttttttatttatgcagaggccgaggccgcctctgcctctgagctattccagaagtagtgaggaggcttttttggaggcc<+>tatttatgcagaggccgagg<+>MIEQDGLHAGSPAAWVERLFGYDWAQQTIGCSDAAVFRLSAQGRPVLFVKTDLSGALNELQDEAARLSWLATTGVPCAAVLDVVTEAGRDWLLLGEVPGQDLLSSHLAPAEKVSIMADAMRRLHTLDPATCPFDHQAKHRIERARTRMEAGLVDQDDLDEEHQGLAPAELFARLKARMPDGEDLVVTHGDACLPNIMVENGRFSGFIDCGRLGVADRYQDIALATRDIAEELGGEWADRFLVLYGIAAPDSQRIAFYRLLDEFF<+>ctattcggctatgactgggc<+>cgttggctacccgtgatattaaacttgtttattgcagcttataatggttacaaataaagcaatagcatcacaaatttcacaaataaagcatttttttcactgcattctagttgtggtttgtccaaactcatcaatgtatctta<+>gcaatagcatcacaaatttc<+>gtggtttgtccaaactcatc<+>gtcatagctgtttcctg<+>gtcatagctgtttcctg<+>cctgtgtgaaattgttatccgct<+>ttgttatccgctcacaa<+>caacatacgagccggaagcataaagtgtaaa<+>atgagtgagctaactcacatta<+>ctcgctcactgactcgct<+>tttccataggctccgcccccctgacgagcatcacaaaaatcgacgctcaagtcagaggtggcgaaacccgacaggactataaagataccaggcgtttccccctggaagctccctcgtgcgctctcctgttccgaccctgccgcttaccggatacctgtccgcctttctcccttcgggaagcgtggcgctttctcatagctcacgctgtaggtatctcagttcggtgtaggtcgttcgctccaagctgggctgtgtgcacgaaccccccgttcagcccgaccgctgcgccttatccggtaactatcgtcttgagtccaacccggtaagacacgacttatcgccactggcagcagccactggtaacaggattagcagagcgaggtatgtaggcggtgctacagagttcttgaagtggtggcctaactacggctacactagaagaacagtatttggtatctgcgctctgctgaagccagttaccttcggaaaaagagttggtagctcttgatccggcaaacaaaccaccgctggtagcggtggtttttttgtttgcaagcagcagattacgcgcagaaaaaaaggatctcaa<+>aaagataccaggcgtttccc<->MSIQHFRVALIPFFAAFCLPVFAHPETLVKVKDAEDQLGARVGYIELDLNSGKILESFRPEERFPMMSTFKVLLCGAVLSRIDAGQEQLGRRIHYSQNDLVEYSPVTEKHLTDGMTVRELCSAAITMSDNTAANLLLTTIGGPKELTAFLHNMGDHVTRLDRWEPELNEAIPNDERDTTMPVAMATTLRKLLTGELLTLASRQQLIDWMEADKVAGPLLRSALPAGWFIADKSGAGERGSRGIIAALGPDGKPSRIVVIYTTGSQATMDERNRQIAEIGASLIKHW<+>ataataccgcgccacatagc<+>actcttcctttttcaatattattgaagcatttatcagggttattgtctcatgagcggatacatatttgaa\n",
      "<+>tctacggatcgggagatctcccgatcccctatggtgcactctcag<+>tacaatctgctctgatgccg<+>gacattgattattgactagttattaatagtaatcaattacggggtcattagttcatagcccatatatggagttccgcgttacataacttacggtaaatggcccgcctggctgaccgcccaacgacccccgcccattgacgtcaataatgacgtatgttcccatagtaacgccaatagggactttccattgacgtcaatgggtggagtatttacggtaaactgcccacttggcagtacatcaagtgtatcatatgccaagtacgccccctattgacgtcaatgacggtaaatggcccgcctggcattatgcccagtacatgaccttatgggactttcctacttggcagtacatctacgtattagtcatcgctattaccatg<+>gtgatgcggttttggcagtacatcaatgggcgtggatagcggtttgactcacggggatttccaagtctccaccccattgacgtcaatgggagtttgttttggcaccaaaatcaacgggactttccaaaatgtcgtaacaactccgccccattgacgcaaatgggcggtaggcgtgtacggtgggagctctatataagcagagcttgtaatgcggttttggcagtacatcaatgggcgtggatagcggtttgaatcacggggatttccaagtctccaccccattgacgtcaatgggagttcgttttggcaccaaaatcaacgggactttccaaaatgtcgtaacaactcggccctattgacgccaatgggcgtatagcgtgtacggtgggaggtctatataagcagagct<+>cgcaaatgggcggtaggcgtg<+>taatacgactcactataggg<+>taatacgactcactatagg<+>KGLAQFTGPQSFEVLLVGNVNGHAFEIVGSGEPDPTTGKTSIFTVNKSGVMPVSEVLLVANASNAGLRVPADCKEHDWALASLPEGYVNKRIFTFANEGNIYMDAEVKMEGDTLVNRLKMKGVDFNKEGVIMGNRAKLSVQPFDVKITPDASKRGTIISFKRLVPLNDGSTFTTEIEQTNYPKSSAPVLAPGKYFIHTEMEMGKHSSAQATSASVEMTQTLEGK<+>ctggtcgagctggacggcgacg<+>gacgacggcaactacaagac<+>catggtcctgctggagttcgtg<+>tctatagtgtcacctaaat<+>ctatagtgtcacctaaat<+>cctcgactgtgccttcta<+>ctgtgccttctagttgccagccatctgttgtttgcccctcccccgtgccttccttgaccctggaaggtgccactcccactgtcctttcctaataaaatgaggaaattgcatcgcattgtctgagtaggtgtcattctattctggggggtggggtggggcaggacagcaagggggaggattgggaagacaatagcaggcatgctggggatgcggtgggctctatgg<+>acgcgccctgtagcggcgcattaagcgcggcgggtgtggtggttacgcgcagcgtgaccgctacacttgccagcgccctagcgcccgctcctttcgctttcttcccttcctttctcgccacgttcgccggctttccccgtcaagctctaaatcgggggctccctttagggttccgatttagtgctttacggcacctcgaccccaaaaaacttgattagggtgatggttcacgtagtgggccatcgccctgatagacggtttttcgccctttgacgttggagtccacgttctttaatagtggactcttgttccaaactggaacaacactcaaccctatctcggtctattcttttgatttataagggattttgccgatttcggcctattggttaaaaaatgagctgatttaacaaaaatttaacgcgaatt<+>ctcctttcgctttcttccct<+>gtggactcttgttccaaactgg<+>ggaatgtgtgtcagttagggt<+>gtgtgtcagttagggtgtggaaagtccccaggctccccagcaggcagaagtatgcaaagcatgcatctcaattagtcagcaaccaggtgtggaaagtccccaggctccccagcaggcagaagtatgcaaagcatgcatctcaattagtcagcaaccatagtcccgcccctaactccgcccatcccgcccctaactccgcccagttccgcccattctccgccccatggctgactaattttttttatttatgcagaggccgaggccgcctctgcctctgagctattccagaagtagtgaggaggcttttttggaggcctaggcttttgcaaa<+>atcccgcccctaactccgcccagttccgcccattctccgccccatggctgactaattttttttatttatgcagaggccgaggccgcctctgcctctgagctattccagaagtagtgaggaggcttttttggaggcc<+>tatttatgcagaggccgagg<+>MIEQDGLHAGSPAAWVERLFGYDWAQQTIGCSDAAVFRLSAQGRPVLFVKTDLSGALNELQDEAARLSWLATTGVPCAAVLDVVTEAGRDWLLLGEVPGQDLLSSHLAPAEKVSIMADAMRRLHTLDPATCPFDHQAKHRIERARTRMEAGLVDQDDLDEEHQGLAPAELFARLKARMPDGEDLVVTHGDACLPNIMVENGRFSGFIDCGRLGVADRYQDIALATRDIAEELGGEWADRFLVLYGIAAPDSQRIAFYRLLDEFF<+>ctattcggctatgactgggc<+>cgttggctacccgtgatatt<+>aacttgtttattgcagcttataatggttacaaataaagcaatagcatcacaaatttcacaaataaagcatttttttcactgcattctagttgtggtttgtccaaactcatcaatgtatctta<+>gcaatagcatcacaaatttc<+>gtggtttgtccaaactcatc<+>gtcatagctgtttcctg<+>gtcatagctgtttcctg<+>cctgtgtgaaattgttatccgct<+>ttgttatccgctcacaa<+>caacatacgagccggaagcataaagtgtaaa<+>atgagtgagctaactcacatta<+>ctcgctcactgactcgct<+>tttccataggctccgcccccctgacgagcatcacaaaaatcgacgctcaagtcagaggtggcgaaacccgacaggactataaagataccaggcgtttccccctggaagctccctcgtgcgctctcctgttccgaccctgccgcttaccggatacctgtccgcctttctcccttcgggaagcgtggcgctttctcatagctcacgctgtaggtatctcagttcggtgtaggtcgttcgctccaagctgggctgtgtgcacgaaccccccgttcagcccgaccgctgcgccttatccggtaactatcgtcttgagtccaacccggtaagacacgacttatcgccactggcagcagccactggtaacaggattagcagagcgaggtatgtaggcggtgctacagagttcttgaagtggtggcctaactacggctacactagaagaacagtatttggtatctgcgctctgctgaagccagttaccttcggaaaaagagttggtagctcttgatccggcaaacaaaccaccgctggtagcggtggtttttttgtttgcaagcagcagattacgcgcagaaaaaaaggatctcaa<+>aaagataccaggcgtttccc<->MSIQHFRVALIPFFAAFCLPVFAHPETLVKVKDAEDQLGARVGYIELDLNSGKILESFRPEERFPMMSTFKVLLCGAVLSRIDAGQEQLGRRIHYSQNDLVEYSPVTEKHLTDGMTVRELCSAAITMSDNTAANLLLTTIGGPKELTAFLHNMGDHVTRLDRWEPELNEAIPNDERDTTMPVAMATTLRKLLTGELLTLASRQQLIDWMEADKVAGPLLRSALPAGWFIADKSGAGERGSRGIIAALGPDGKPSRIVVIYTTGSQATMDERNRQIAEIGASLIKHW<+>ataataccgcgccacatagc<+>actcttcctttttcaatattattgaagcatttatcagggttattgtctcatgagcggatacatatttgaa\n",
      "<+>tctacggatcgggagatctcccgatcccctatggtgcactctcag<+>tacaatctgctctgatgccg<+>gacattgattattgactagttattaatagtaatcaattacggggtcattagttcatagcccatatatggagttccgcgttacataacttacggtaaatggcccgcctggctgaccgcccaacgacccccgcccattgacgtcaataatgacgtatgttcccatagtaacgccaatagggactttccattgacgtcaatgggtggagtatttacggtaaactgcccacttggcagtacatcaagtgtatcatatgccaagtacgccccctattgacgtcaatgacggtaaatggcccgcctggcattatgcccagtacatgaccttatgggactttcctacttggcagtacatctacgtattagtcatcgctattaccatg<+>gtgatgcggttttggcagtacatcaatgggcgtggatagcggtttgactcacggggatttccaagtctccaccccattgacgtcaatgggagtttgttttggcaccaaaatcaacgggactttccaaaatgtcgtaacaactccgccccattgacgcaaatgggcggtaggcgtgtacggtgggagctctatataagcagagcttgtaatgcggttttggcagtacatcaatgggcgtggatagcggtttgaatcacggggatttccaagtctccaccccattgacgtcaatgggagttcgttttggcaccaaaatcaacgggactttccaaaatgtcgtaacaactcaaccctattgacgccaatgggcgtatagcgtgtacggtgggaggtctatataagcagagct<+>cgcaaatgggcggtaggcgtg<+>taatacgactcactataggg<+>taatacgactcactatagg<+>KGREMFTGIQEKVYELRGEIDGRRFRVEGRGETDADGGYTTLRFICTTGRLPIPWPVLITTLDANAVRFPEGMTASDFFTRCMPEGYYDTRTLVFDGDGAVFSVGHVAMRDGRLETVAYVSGRGFKADGPIMGRRVQLRSHPYFLRVTAMPGLRGWRLDRTVPLPLTDGGEYLVHELGYLLKTSDGPAVLPRPHYVSVWETISADPLAEEPHIIYDMQTVVGGR<+>ctggtcgagctggacggcgacg<+>gacgacggcaactacaagac<+>catggtcctgctggagttcgtg<+>tctatagtgtcacctaaat<+>ctatagtgtcacctaaat<+>cctcgactgtgccttcta<+>ctgtgccttctagttgccagccatctgttgtttgcccctcccccgtgccttccttgaccctggaaggtgccactcccactgtcctttcctaataaaatgaggaaattgcatcgcattgtctgagtaggtgtcattctattctggggggtggggtggggcaggacagcaagggggaggattgggaagacaatagcaggcatgctggggatgcggtgggctctatgg<+>acgcgccctgtagcggcgcattaagcgcggcgggtgtggtggttacgcgcagcgtgaccgctacacttgccagcgccctagcgcccgctcctttcgctttcttcccttcctttctcgccacgttcgccggctttccccgtcaagctctaaatcgggggctccctttagggttccgatttagtgctttacggcacctcgaccccaaaaaacttgattagggtgatggttcacgtagtgggccatcgccctgatagacggtttttcgccctttgacgttggagtccacgttctttaatagtggactcttgttccaaactggaacaacactcaaccctatctcggtctattcttttgatttataagggattttgccgatttcggcctattggttaaaaaatgagctgatttaacaaaaatttaacgcgaatt<+>ctcctttcgctttcttccct<+>gtggactcttgttccaaactgg<+>ggaatgtgtgtcagttagggt<+>gtgtgtcagttagggtgtggaaagtccccaggctccccagcaggcagaagtatgcaaagcatgcatctcaattagtcagcaaccaggtgtggaaagtccccaggctccccagcaggcagaagtatgcaaagcatgcatctcaattagtcagcaaccatagtcccgcccctaactccgcccatcccgcccctaactccgcccagttccgcccattctccgccccatggctgactaattttttttatttatgcagaggccgaggccgcctctgcctctgagctattccagaagtagtgaggaggcttttttggaggcctaggcttttgcaaa<+>atcccgcccctaactccgcccagttccgcccattctccgccccatggctgactaattttttttatttatgcagaggccgaggccgcctctgcctctgagctattccagaagtagtgaggaggcttttttggaggcc<+>tatttatgcagaggccgagg<+>MIEQDGLHAGSPAAWVERLFGYDWAQQTIGCSDAAVFRLSAQGRPVLFVKTDLSGALNELQDEAARLSWLATTGVPCAAVLDVVTEAGRDWLLLGEVPGQDLLSSHLAPAEKVSIMADAMRRLHTLDPATCPFDHQAKHRIERARTRMEAGLVDQDDLDEEHQGLAPAELFARLKARMPDGEDLVVTHGDACLPNIMVENGRFSGFIDCGRLGVADRYQDIALATRDIAEELGGEWADRFLVLYGIAAPDSQRIAFYRLLDEFF<+>ctattcggctatgactgggc<+>cgttggctacccgtgatatt<+>aacttgtttattgcagcttataatggttacaaataaagcaatagcatcacaaatttcacaaataaagcatttttttcactgcattctagttgtggtttgtccaaactcatcaatgtatctta<+>gcaatagcatcacaaatttc<+>gtggtttgtccaaactcatc<+>gtcatagctgtttcctg<+>gtcatagctgtttcctg<+>cctgtgtgaaattgttatccgct<+>ttgttatccgctcacaa<+>caacatacgagccggaagcataaagtgtaaa<+>atgagtgagctaactcacatta<+>ctcgctcactgactcgct<+>tttccataggctccgcccccctgacgagcatcacaaaaatcgacgctcaagtcagaggtggcgaaacccgacaggactataaagataccaggcgtttccccctggaagctccctcgtgcgctctcctgttccgaccctgccgcttaccggatacctgtccgcctttctcccttcgggaagcgtggcgctttctcatagctcacgctgtaggtatctcagttcggtgtaggtcgttcgctccaagctgggctgtgtgcacgaaccccccgttcagcccgaccgctgcgccttatccggtaactatcgtcttgagtccaacccggtaagacacgacttatcgccactggcagcagccactggtaacaggattagcagagcgaggtatgtaggcggtgctacagagttcttgaagtggtggcctaactacggctacactagaagaacagtatttggtatctgcgctctgctgaagccagttaccttcggaaaaagagttggtagctcttgatccggcaaacaaaccaccgctggtagcggtggtttttttgtttgcaagcagcagattacgcgcagaaaaaaaggatctcaa<+>aaagataccaggcgtttccc<->MSIQHFRVALIPFFAAFCLPVFAHPETLVKVKDAEDQLGARVGYIELDLNSGKILESFRPEERFPMMSTFKVLLCGAVLSRIDAGQEQLGRRIHYSQNDLVEYSPVTEKHLTDGMTVRELCSAAITMSDNTAANLLLTTIGGPKELTAFLHNMGDHVTRLDRWEPELNEAIPNDERDTTMPVAMATTLRKLLTGELLTLASRQQLIDWMEADKVAGPLLRSALPAGWFIADKSGAGERGSRGIIAALGPDGKPSRIVVIYTTGSQATMDERNRQIAEIGASLIKHW<+>ataataccgcgccacatagc<+>actcttcctttttcaatattattgaagcatttatcagggttattgtctcatgagcggatacatatttgaa\n"
     ]
    }
   ],
   "source": [
    "# Set the model to evaluation mode\n",
    "device = 'cuda:1'\n",
    "_ = model.to(device)\n",
    "_ = model.eval()\n",
    "\n",
    "predictions = []\n",
    "\n",
    "for i, batch in enumerate(dataloader):\n",
    "    with torch.no_grad():\n",
    "        inputs = {k: v.to(device) for k, v in batch.items()}\n",
    "        outputs = model(input_ids=inputs['input_ids'], attention_mask=inputs['attention_mask'], output_hidden_states=True)\n",
    "        logits = outputs.logits\n",
    "        \n",
    "        # Generate predicted sequences\n",
    "        predicted_token_ids = torch.argmax(logits, dim=-1)\n",
    "        predicted_sequences = tokenizer.batch_decode(predicted_token_ids, skip_special_tokens=False)\n",
    "        # replace ' ' with ''\n",
    "        predicted_sequences = [p.replace(\" \", \"\") for p in predicted_sequences]\n",
    "        predictions.extend(predicted_sequences)\n",
    "    if i == 10:\n",
    "        break\n",
    "\n",
    "# Print a sample of predictions\n",
    "print(\"Sample predictions:\")\n",
    "for i, pred in enumerate(predictions[:5]):\n",
    "    print(pred)"
   ]
  },
  {
   "cell_type": "code",
   "execution_count": 95,
   "metadata": {},
   "outputs": [
    {
     "data": {
      "text/plain": [
       "'gtgatgcggttttggcagtacatcaatgggcgtggatagcggtttgactcacggggatttccaagtctccaccccattgacgtcaatgggagtttgttttggcaccaaaatcaacgggactttccaaaatgtcgtaacaactccgccccattgacgcaaatgggcggtaggcgtgtacggtgggaggtctatataagcagagct'"
      ]
     },
     "execution_count": 95,
     "metadata": {},
     "output_type": "execute_result"
    }
   ],
   "source": [
    "promoter_seq"
   ]
  },
  {
   "cell_type": "code",
   "execution_count": 97,
   "metadata": {},
   "outputs": [
    {
     "name": "stdout",
     "output_type": "stream",
     "text": [
      "aatgcggttttggcagtacatcaatgggcgtggatagcggtctgaatcacggggatttccaagtctccaccccattgacgtcaatgggagttcgttttggcaccaaaatcaacgggactttccaaaatgtcgtaacaactcaaccctattgacgccaatgggcgtatagcgtgtacggtgggaggtctatataagcagagct<+\n",
      "aatgcggttttggcagtacatcaatgggcgtggatagcggtctgtatcacggggatttccaagtctccaccccattgacgtcaatgggagttcgttttggcaccaaaatcaacgggactttccaaaatgtcgtaacaactcaaccctattgacgccaatgggcgtatagcgtgtacggtgggaggtctatataagcagagcg<+\n",
      "aatgcggttttggcagtacatcaatgggcgtggatagcggtttgaatcacggggatttccaagtctccaccccattgacgtcaatgggagttcgttttggcaccaaaatcaacgggactttccaaaatgtcgtaacaactcacccctattgacgccaaagggcgtatggcgtgtacggtgggaggtctatataagcagagct<+\n",
      "aatgcggttttggcagtacatcaatgggcgtggatagcggtttgaatcacggggatttccaagtctccaccccattgacgtcaatgggagttcgttttggcaccaaaatcaacgggactttccaaaatgtcgtaacaactcggccctattgacgccaatgggcgtatagcgtgtacggtgggaggtctatataagcagagct<+\n",
      "aatgcggttttggcagtacatcaatgggcgtggatagcggtttgaatcacggggatttccaagtctccaccccattgacgtcaatgggagttcgttttggcaccaaaatcaacgggactttccaaaatgtcgtaacaactcaaccctattgacgccaatgggcgtatagcgtgtacggtgggaggtctatataagcagagct<+\n",
      "aatgcggttttggcagtacatcaatgggcgtggatagcggtctgaatcacggggatttccaagtctccaccccattgacgtcaatgggagttcgttttggcaccaaaatcaacgggactttccaaaatgtcgtaacaactcaaccctattgacgccaatgtgcgtatagcgtgtacggtgggaggtctatataagcagagct<+\n",
      "aatgcggttttggcagtacatcaatgggcgtggatagcggtttgaatcacggggatttccaagtctccaccccattgacgtcaatgggagttcgttttggcaccaaaatcaacgggactttccaaaatgtcgtaacaactcaaccctattgacgccaatgggcgtatagcgtgtacggtgggaggtctatataagcagagct<+\n",
      "aatgcggttttggcagtacatcaatgggcgtggatagcggtttgaatcacggggatttccaagtctccaccccattgacgtcaatgggagttcgttttggcaccaaaatcaacgggactttccaaaatgtcgtaacaactcacccctattgacgccaatgtgcgtatagcgtgtacggtgggaggtctatataagcagagct<+\n",
      "aatgcggttttggcagtacatcaatgggcgtggatagcggcctgaatcacggggatttccaagtctccaccccattgacgtcaatgggagttcgttttggcaccaaaatcaacgggactttccaaaatgtcgtaacaactcagccctattgacgccaatgggcgtatagcgtgtacggtgggaggtctatataagcagagct<+\n",
      "aatgcggttttggcagtacatcaatgggcgtggatagcggtttgcatcacggggatttccaagtctccaccccattgacgtcaatgggagttcgttttggcaccaaaatcaacgggactttccaaaatgtcgtaacaactcaaccctattgacgccaatgggcgtatagcgtgtacggtgggaggtctatataagcagagct<+\n",
      "aatgcggttttggcagtacatcaatgggcgtggatagcggtttgaatcacggggatttccaagtctccaccccattgacgtcaatgggagttcgttttggcaccaaaatcaacgggactttccaaaatgtcgtaacaactcaaccctattgacgcaaatgggcgtatagcgtgtacggtgggaggtctatataagcagagct<+\n",
      "aatgcggttttggcagtacatcaatgggcgtggatagcggtctgaatcacggggatttccaagtctccaccccattgacgtcaatgggagttcgttttggcaccaaaatcaacgggactttccaaaatgtcgtaacaactcaaccctattgacgccaatgtgcgtatagcgtgtacggtgggaggtctatataagcagagct<+\n",
      "aatgcggttttggcagtacatcaatgggcgtggatagcggcctgaatcacggggatttccaagtctccaccccattgacgtcaatgggagttcgttttggcaccaaaatcaacgggactttccaaaatgtcgtaacaactcaactctattgacgccaatgtgcgtatagcgtgtacggtgggaggtctatataagcagagcg<+\n",
      "aatgcggttttggcagtacatcaatgggcgtggatagcggtctgcatcacggggatttccaagtctccaccccattgacgtcaatgggagttcgttttggcaccaaaatcaacgggactttccaaaatgtcgtaacaactcggccctattgacgccaatgggcgtatagcgtgtacggtgggaggtctatataagcagagct<+\n",
      "aatgcggttttggcagtacatcaatgggcgtggatagcggtttgaatcacggggatttccaagtctccaccccattgacgtcaatgggagttcgttttggcaccaaaatcaacgggactttccaaaatgtcgtaacaactcaactctattgacgccaatgtgcgtatagcgtgtacggtgggaggtctatataagcagagct<+\n",
      "aatgcggttttggcagtacatcaatgggcgtggatagcggtttgaatcacggggatttccaagtctccaccccattgacgtcaatgggagttcgttttggcaccaaaatcaacgggactttccaaaatgtcgtaacaactcacccctattgacgccaatgggcgtatagcgtgtacggtgggaggtctatataagcagagct<+\n",
      "aatgcggttttggcagtacatcaatgggcgtggatagcggtctgaatcacggggatttccaagtctccaccccattgacgtcaatgggagttcgttttggcaccaaaatcaacgggactttccaaaatgtcgtaacaactcacccctattgacgccaatgggcgtatagcgtgtacggtgggaggtctatataagcagagct<+\n",
      "aatgcggttttggcagtacatcaatgggcgtggatagcggtttgaatcacggggatttccaagtctccaccccattgacgtcaatgggagttcgttttggcaccaaaatcaacgggactttccaaaatgtcgtaacaactcaaccctattgacgccaatgggcgtatagcgtgtacggtgggaggtctatataagcagagct<+\n",
      "aatgcggttttggcagtacatcaatgggcgtggatagcggcctgaatcacggggatttccaagtctccaccccattgacgtcaatgggagttcgttttggcaccaaaatcaacgggactttccaaaatgtcgtaacaactcaaccctattgacgccaatgggcgtatagcgtgtacggtgggaggtctatataagcagagct<+\n",
      "aatgcggttttggcagtacatcaatgggcgtggatagcggtctgaatcacggggatttccaagtctccaccccattgacgtcaatgggagttcgttttggcaccaaaatcaacgggactttccaaaatgtcgtaacaactcacctctattgacgcaaatgggcgtatagcgtgtacggtgggaggtctatataagcagagct<+\n",
      "aatgcggttttggcagtacatcaatgggcgtggatagcggtttgaatcacggggatttccaagtctccaccccattgacgtcaatgggagttcgttttggcaccaaaatcaacgggactttccaaaatgtcgtaacaactcaaccctattgacgccaatgggcgtatagcgtgtacggtgggaggtctatataagcagagct<+\n",
      "aatgcggttttggcagtacatcaatgggcgtggatagcggtctgaatcacggggatttccaagtctccaccccattgacgtcaatgggagttcgttttggcaccaaaatcaacgggactttccaaaatgtcgtaacaactcacccctattgacgccaattggcgtata<+>cgtgtacggtgggaggtctatataagcagagct\n",
      "aatgcggttttggcagtacatcaatgggcgtggatagcggtctgaatcacggggatttccaagtctccaccccattgacgtcaatgggagttcgttttggcaccaaaatcaacgggactttccaaaatgtcgtaacaactcaaccctattgacgccaatgggcgtaaagcgtgtacggtgggaggtctatataagcagagct<+\n",
      "aatgcggttttggcagtacatcaatgggcgtggatagcggtttgaatcacggggatttccaagtctccaccccattgacgtcaatgggagttcgttttggcaccaaaatcaacgggactttccaaaatgtcgtaacaactcgaccctattgacgccaatgggcgtatagcgtgtacggtgggaggtctatataagcagagct<+\n",
      "aatgcggttttggcagtacatcaatgggcgtggatagcggtttgaatcacggggatttccaagtctccaccccattgacgtcaatgggagttcgttttggcaccaaaatcaacgggactttccaaaatgtcgtaacaactcaaccctattgacgcaaatgggcgtatagcgtgtacggtgggaggtctatataagcagagcg<+\n",
      "aatgcggttttggcagtacatcaatgggcgtggatagcggtttgaatcacggggatttccaagtctccaccccattgacgtcaatgggagttcgttttggcaccaaaatcaacgggactttccaaaatgtcgtaacaactcacccctattgacgccaattggcgtatagcgtgtacggtgggaggtctatataagcagagct<+\n",
      "aatgcggttttggcagtacatcaatgggcgtggatagcggtttgaatcacggggatttccaagtctccaccccattgacgtcaatgggagttcgttttggcaccaaaatcaacgggactttccaaaatgtcgtaacaactcaaccctattgacgccaatgggcgtatagcgtgtacggtgggaggtctatataagcagagct<+\n",
      "aatgcggttttggcagtacatcaatgggcgtggatagcggtctgaatcacggggatttccaagtctccaccccattgacgtcaatgggagttcgttttggcaccaaaatcaacgggactttccaaaatgtcgtaacaactcatccctattgacgccaatgggggtatagcgtgtacggtgggaggtctatataagcagagct<+\n",
      "aatgcggttttggcagtacatcaatgggcgtggatagcggtttgaatcacggggatttccaagtctccaccccattgacgtcaatgggagttcgttttggcaccaaaatcaacgggactttccaaaatgtcgtaacaactcacccctattgacgctaatttgcgtatagcgtgtacggtgggaggtctatataagcagagct<+\n",
      "aatgcggttttggcagtacatcaatgggcgtggatagcggtttgaatcacggggatttccaagtctccaccccattgacgtcaatgggagttcgttttggcaccaaaatcaacgggactttccaaaatgtcgtaacaactcaaccctattgacgcaaatgggcgtatagcgtgtacggtgggaggtctatataagcagagcg<+\n",
      "aatgcggttttggcagtacatcaatgggcgtggatagcggtttgaatcacggggatttccaagtctccaccccattgacgtcaatgggagttcgttttggcaccaaaatcaacgggactttccaaaatgtcgtaacaactcaaccctattgacgccaatgggcgtatggcgtgtacggtgggaggtctatataagcagagct<+\n",
      "aatgcggttttggcagtacatcaatgggcgtggatagcggtttgaatcacggggatttccaagtctccaccccattgacgtcaatgggagttcgttttggcaccaaaatcaacgggactttccaaaatgtcgtaacaactcaaccctattgacgccaatgggcgtatagcgtgtacggtgggaggtctatataagcagagct<+\n",
      "aatgcggttttggcagtacatcaatgggcgtggatagcggtttgaatcacggggatttccaagtctccaccccattgacgtcaatgggagttcgttttggcaccaaaatcaacgggactttccaaaatgtcgtaacaactcacccctattgacgcaaatgggcgtatagcgtgtacggtgggaggtctatataagcagagct<+\n",
      "aatgcggttttggcagtacatcaatgggcgtggatagcggtttgaatcacggggatttccaagtctccaccccattgacgtcaatgggagttcgttttggcaccaaaatcaacgggactttccaaaatgtcgtaacaactcacccctattgacgcaaattggcgtatagcgtgtacggtgggaggtctatataagcagagct<+\n",
      "aatgcggttttggcagtacatcaatgggcgtggatagcggtttgaatcacggggatttccaagtctccaccccattgacgtcaatgggagttcgttttggcaccaaaatcaacgggactttccaaaatgtcgtaacaactcttccctattgacgccaatttgcgtatggcgtgtacggtgggaggtctatataagcagagct<+\n",
      "aatgcggttttggcagtacatcaatgggcgtggatagcggtctgaatcacggggatttccaagtctccaccccattgacgtcaatgggagttcgttttggcaccaaaatcaacgggactttccaaaatgtcgtaacaactcaaccctattgacgccaatgggcgtatagcgtgtacggtgggaggtctatataagcagagct<+\n",
      "aatgcggttttggcagtacatcaatgggcgtggatagcggtctgtatcacggggatttccaagtctccaccccattgacgtcaatgggagttcgttttggcaccaaaatcaacgggactttccaaaatgtcgtaacaactcaaccctattgacgcaaatgggcgtatagcgtgtacggtgggaggtctatataagcagagct<+\n",
      "aatgcggttttggcagtacatcaatgggcgtggatagcggtttgaatcacggggatttccaagtctccaccccattgacgtcaatgggagttcgttttggcaccaaaatcaacgggactttccaaaatgtcgtaacaactcagctctattgacgccaatttgcgtata<+>cgtgtacggtgggaggtctatataagcagagct\n",
      "aatgcggttttggcagtacatcaatgggcgtggatagcggtttgaatcacggggatttccaagtctccaccccattgacgtcaatgggagttcgttttggcaccaaaatcaacgggactttccaaaatgtcgtaacaactcaactctattgacgccaatgtgcgtatggcgtgtacggtgggaggtctatataagcagagct<+\n",
      "aatgcggttttggcagtacatcaatgggcgtggatagcggtttgaatcacggggatttccaagtctccaccccattgacgtcaatgggagttcgttttggcaccaaaatcaacgggactttccaaaatgtcgtaacaactcaaccctattgacgcaaatgtgcgtatagcgtgtacggtgggaggtctatataagcagagct<+\n",
      "aatgcggttttggcagtacatcaatgggcgtggatagcggtctgaatcacggggatttccaagtctccaccccattgacgtcaatgggagttcgttttggcaccaaaatcaacgggactttccaaaatgtcgtaacaactcaactctattgacgccaatgggcgtatggcgtgtacggtgggaggtctatataagcagagct<+\n",
      "aatgcggttttggcagtacatcaatgggcgtggatagcggtttgtatcacggggatttccaagtctccaccccattgacgtcaatgggagttcgttttggcaccaaaatcaacgggactttccaaaatgtcgtaacaactcacccctattgacgcaaatgggcgtatagcgtgtacggtgggaggtctatataagcagagcg<+\n",
      "aatgcggttttggcagtacatcaatgggcgtggatagcggtctgaatcacggggatttccaagtctccaccccattgacgtcaatgggagttcgttttggcaccaaaatcaacgggactttccaaaatgtcgtaacaactcaaccctattgacgcaaatgggcgtatggcgtgtacggtgggaggtctatataagcagagct<+\n",
      "aatgcggttttggcagtacatcaatgggcgtggatagcggtttgaatcacggggatttccaagtctccaccccattgacgtcaatgggagttcgttttggcaccaaaatcaacgggactttccaaaatgtcgtaacaactcaaccctattgacgccaattggcgtatagcgtgtacggtgggaggtctatataagcagagct<+\n",
      "aatgcggttttggcagtacatcaatgggcgtggatagcggtttgaatcacggggatttccaagtctccaccccattgacgtcaatgggagttcgttttggcaccaaaatcaacgggactttccaaaatgtcgtaacaactccaccctattgacgccaatgggcgtatagcgtgtacggtgggaggtctatataagcagagcg<+\n",
      "aatgcggttttggcagtacatcaatgggcgtggatagcggtttgaatcacggggatttccaagtctccaccccattgacgtcaatgggagttcgttttggcaccaaaatcaacgggactttccaaaatgtcgtaacaactcaaccctattgacgccaatgtgcgtatagcgtgtacggtgggaggtctatataagcagagct<+\n",
      "aatgcggttttggcagtacatcaatgggcgtggatagcggtttgaatcacggggatttccaagtctccaccccattgacgtcaatgggagttcgttttggcaccaaaatcaacgggactttccaaaatgtcgtaacaactcagccctattgacgccaatgtgcgtatggcgtgtacggtgggaggtctatataagcagagct<+\n",
      "aatgcggttttggcagtacatcaatgggcgtggatagcggtttgaatcacggggatttccaagtctccaccccattgacgtcaatgggagttcgttttggcaccaaaatcaacgggactttccaaaatgtcgtaacaactcagccctattgacgccaatgggcgtatagcgtgtacggtgggaggtctatataagcagagct<+\n",
      "aatgcggttttggcagtacatcaatgggcgtggatagcggtttgaatcacggggatttccaagtctccaccccattgacgtcaatgggagttcgttttggcaccaaaatcaacgggactttccaaaatgtcgtaacaactcaaccctattgacgctaatgtgcgtatagcgtgtacggtgggaggtctatataagcagagcg<+\n",
      "aatgcggttttggcagtacatcaatgggcgtggatagcggtctgaatcacggggatttccaagtctccaccccattgacgtcaatgggagttcgttttggcaccaaaatcaacgggactttccaaaatgtcgtaacaactcaaccctattgacgccaatgtgcgtatagcgtgtccggtgggaggtctatataagcagagct<+\n",
      "aatgcggttttggcagtacatcaatgggcgtggatagcggtttgtatcacggggatttccaagtctccaccccattgacgtcaatgggagttcgttttggcaccaaaatcaacgggactttccaaaatgtcgtaacaactcagccctattgacgccaatgggcgtatggcgtgtacggtgggaggtctatataagcagagct<+\n",
      "aatgcggttttggcagtacatcaatgggcgtggatagcggtctgaatcacggggatttccaagtctccaccccattgacgtcaatgggagttcgttttggcaccaaaatcaacgggactttccaaaatgtcgtaacaactcaaccctattgacgccaatgggcgtatagcgtgtacggtgggaggtctatataagcagagct<+\n",
      "aatgcggttttggcagtacatcaatgggcgtggatagcggtttgaatcacggggatttccaagtctccaccccattgacgtcaatgggagttcgttttggcaccaaaatcaacgggactttccaaaatgtcgtaacaactcaaccctattgacgccaatgtgcgtatagcgtgtacggtgggaggtctatataagcagagct<+\n",
      "aatgcggttttggcagtacatcaatgggcgtggatagcggtttgcatcacggggatttccaagtctccaccccattgacgtcaatgggagttcgttttggcaccaaaatcaacgggactttccaaaatgtcgtaacaactcaaccctattgacgccaatgggcgtatagcgtgtacggtgggaggtctatataagcagagct<+\n",
      "aatgcggttttggcagtacatcaatgggcgtggatagcggcctgaatcacggggatttccaagtctccaccccattgacgtcaatgggagttcgttttggcaccaaaatcaacgggactttccaaaatgtcgtaacaactcaaccctattgacgccaatttgcgtatagcgtgtacggtgggaggtctatataagcagagct<+\n"
     ]
    }
   ],
   "source": [
    "for p in predictions:\n",
    "    print(p[mask_start:mask_end])"
   ]
  },
  {
   "cell_type": "markdown",
   "metadata": {},
   "source": [
    "## Alt backbone, YFP original\n",
    "Randomly mask original promoter with original YFP context"
   ]
  },
  {
   "cell_type": "code",
   "execution_count": 98,
   "metadata": {},
   "outputs": [],
   "source": [
    "yfp_vector = load_dataset(\"wconnell/openplasmid\")\n",
    "yfp_vector = yfp_vector.filter(lambda x: '13033' == x['ID'])\n",
    "yfp_vector = yfp_vector['train'][0]\n",
    "\n",
    "# Parse the GenBank file\n",
    "yfp_gbank = read_genbank(yfp_vector['GenBank Raw'])\n",
    "\n",
    "# Convert GenBank to GLM2 sequence\n",
    "yfp_glm2 = genbank_to_glm2(yfp_vector['GenBank Raw'])"
   ]
  },
  {
   "cell_type": "code",
   "execution_count": 104,
   "metadata": {},
   "outputs": [
    {
     "data": {
      "text/plain": [
       "'gtgatgcggttttggcagtacatcaatgggcgtggatagcggtttgactcacggggatttccaagtctccaccccattgacgtcaatgggagtttgttttggcaccaaaatcaacgggactttccaaaatgtcgtaacaactccgccccattgacgcaaatgggcggtaggcgtgtacggtgggaggtctatataagcagagct'"
      ]
     },
     "execution_count": 104,
     "metadata": {},
     "output_type": "execute_result"
    }
   ],
   "source": [
    "import random\n",
    "\n",
    "def mask_promoter(promoter_seq, mask_frac=0.15):\n",
    "    # Randomly replace n% of promoter_seq positions with '<mask>'\n",
    "    masked_promoter = list(promoter_seq)\n",
    "    mask_positions = random.sample(range(len(promoter_seq)), k=int(mask_frac * len(promoter_seq)))\n",
    "    for pos in mask_positions:\n",
    "        masked_promoter[pos] = '<mask>'\n",
    "    masked_promoter = ''.join(masked_promoter)\n",
    "    return masked_promoter\n",
    "\n",
    "\n",
    "# Find the promoter site\n",
    "promoter = yfp_gbank.features[3]\n",
    "promoter_seq = str(yfp_gbank.seq[promoter.location.start:promoter.location.end].lower())\n",
    "promoter_seq\n",
    "\n",
    "mask_start = yfp_glm2.find(promoter_seq)\n",
    "mask_start = mask_start + len(promoter_seq) + 3  # buffer for '<+>'\n",
    "mask_end = mask_start + len(promoter_seq)   \n",
    "\n",
    "# Create masked_yfp_var_glm2 for all sequences\n",
    "variant_promoters = []\n",
    "n_samples = 2500\n",
    "\n",
    "for i in range(n_samples):\n",
    "    masked_promoter = mask_promoter(promoter_seq, mask_frac=0.15)\n",
    "    masked_yfp_glm2 = yfp_glm2[:mask_start] + masked_promoter + '<+>' + yfp_glm2[mask_start:]\n",
    "    variant_promoters.append({'ID': i, 'glm2_sequence': masked_yfp_glm2})"
   ]
  },
  {
   "cell_type": "code",
   "execution_count": 107,
   "metadata": {},
   "outputs": [
    {
     "name": "stderr",
     "output_type": "stream",
     "text": [
      "Map: 100%|██████████| 2500/2500 [00:04<00:00, 512.85 examples/s]\n"
     ]
    }
   ],
   "source": [
    "from datasets import Dataset\n",
    "from torch.utils.data import DataLoader\n",
    "variant_promoter_ds = Dataset.from_list(variant_promoters)\n",
    "variant_promoter_ds = variant_promoter_ds.map(tokenize_function, batched=True)\n",
    "variant_promoter_ds.set_format(type='torch', columns=['input_ids', 'attention_mask', 'ID'])\n",
    "dataloader = DataLoader(variant_promoter_ds, batch_size=16, shuffle=False)\n",
    "    "
   ]
  },
  {
   "cell_type": "code",
   "execution_count": 118,
   "metadata": {},
   "outputs": [
    {
     "name": "stdout",
     "output_type": "stream",
     "text": [
      "Sample predictions:\n",
      "<+>tctacggatcgggagatctcccgatcccctatggtgcactctcag<+>tacaatctgctctgatgccg<+>gacattgattattgactagttattaatagtaatcaattacggggtcattagttcatagcccatatatggagttccgcgttacataacttacggtaaatggcccgcctggctgaccgcccaacgacccccgcccattgacgtcaataatgacgtatgttcccatagtaacgccaatagggactttccattgacgtcaatgggtggagtatttacggtaaactgcccacttggcagtacatcaagtgtatcatatgccaagtacgccccctattgacgtcaatgacggtaaatggcccgcctggcattatgcccagtacatgaccttatgggactttcctacttggcagtacatctacgtattagtcatcgctattaccatg<+>gtgatgcggttttggcagtacatcaatgggcgtggatagcggtttgactcacggggatttccaagtctccaccccattgacgtcaatgggagtttgttttggcaccaaaatcaacgggactttccaaaatgtcgtaacaactccgccccattgacgcaaatgggcggtaggcgtgtacggtgggaggtctatataagcagagct<+>gtgatgcggttttggcagtacatcaatgggcgtggatagcggtttgactcacggggatttccaagtctccaccccattgacgtcaatgggagtttgttttggcaccaaaatcaacgggactttccaaaatgtcgtaacaactccgccccattgacgcaaatgggcggtaggcgtgtacggtgggaggtctatataagcagagct<+>ggcaaatgggcggtaggcgtg<+>taatacgactcactataggg<+>taatacgactcactatagg<+>MVSKGEELFTGVVPILVELDGDVNGHKFSVSGEGEGDATYGKLTLKFICTTGKLPVPWPTLVTTFSYGLKCFARYPDHMKQHDFFKSAMPEGYVQERTIFFKDDGNYKTRAEVKFEGDTLVNRIELKGIDFKEDGNILGHKLEYNYNSHNVYIMADKQKNGIKVNFKIRHNIEDGSVQLADHYQQNTPIGDGPVLLPDNHYLSYQSALSKDPNEKRDHMVLLEFVTAAGITLGMDELYK<+>ctggtcgagctggacggcgacg<+>gacgacggcaactacaagac<+>catggtcctgctggagttcgtg<+>tctatagtgtcacctaaat<+>ctatagtgtcacctaaat<+>cctcgactgtgccttcta<+>ctgtgccttctagttgccagccatctgttgtttgcccctcccccgtgccttccttgaccctggaaggtgccactcccactgtcctttcctaataaaatgaggaaattgcatcgcattgtctgagtaggtgtcattctattctggggggtggggtggggcaggacagcaagggggaggattgggaagacaatagcaggcatgctggggatgcggtgggctctatgg<+>acgcgccctgtagcggcgcattaagcgcggcgggtgtggtggttacgcgcagcgtgaccgctacacttgccagcgccctagcgcccgctcctttcgctttcttcccttcctttctcgccacgttcgccggctttccccgtcaagctctaaatcgggggctccctttagggttccgatttagtgctttacggcacctcgaccccaaaaaacttgattagggtgatggttcacgtagtgggccatcgccctgatagacggtttttcgccctttgacgttggagtccacgttctttaatagtggactcttgttccaaactggaacaacactcaaccctatctcggtctattcttttgatttataagggattttgccgatttcggcctattggttaaaaaatgagctgatttaacaaaaatttaacgcgaatt<+>ctcctttcgctttcttccct<+>gtggactcttgttccaaactgg<+>ggaatgtgtgtcagttagggt<+>gtgtgtcagttagggtgtggaaagtccccaggctccccagcaggcagaagtatgcaaagcatgcatctcaattagtcagcaaccaggtgtggaaagtccccaggctccccagcaggcagaagtatgcaaagcatgcatctcaattagtcagcaaccatagtcccgcccctaactccgcccatcccgcccctaactccgcccagttccgcccattctccgccccatggctgactaattttttttatttatgcagaggccgaggccgcctctgcctctgagctattccagaagtagtgaggaggcttttttggaggcctaggcttttgcaaa<+>atcccgcccctaactccgcccagttccgcccattctccgccccatggctgactaattttttttatttatgcagaggccgaggccgcctctgcctctgagctattccagaagtagtgaggaggcttttttggaggcc<+>tatttatgcagaggccgagg<+>MIEQDGLHAGSPAAWVERLFGYDWAQQTIGCSDAAVFRLSAQGRPVLFVKTDLSGALNELQDEAARLSWLATTGVPCAAVLDVVTEAGRDWLLLGEVPGQDLLSSHLAPAEKVSIMADAMRRLHTLDPATCPFDHQAKHRIERARTRMEAGLVDQDDLDEEHQGLAPAELFARLKARMPDGEDLVVTHGDACLPNIMVENGRFSGFIDCGRLGVADRYQDIALATRDIAEELGGEWADRFLVLYGIAAPDSQRIAFYRLLDEFF<+>ctattcggctatgactgggc<+>cgttggctacccgtgatattcaacttgtttattgcagcttataatggttacaaataaagcaatagcatcacaaatttcacaaataaagcatttttttcactgcattctagttgtggtttgtccaaactcatcaatgtatctta<+>gcaatagcatcacaaatttc<+>gtggtttgtccaaactcatc<+>gtcatagctgtttcctg<+>gtcatagctgtttcctg<+>cctgtgtgaaattgttatccgct<+>ttgttatccgctcacaa<+>caacatacgagccggaagcataaagtgtaaa<+>atgagtgagctaactcacatta<+>ctcgctcactgactcgct<+>tttccataggctccgcccccctgacgagcatcacaaaaatcgacgctcaagtcagaggtggcgaaacccgacaggactataaagataccaggcgtttccccctggaagctccctcgtgcgctctcctgttccgaccctgccgcttaccggatacctgtccgcctttctcccttcgggaagcgtggcgctttctcatagctcacgctgtaggtatctcagttcggtgtaggtcgttcgctccaagctgggctgtgtgcacgaaccccccgttcagcccgaccgctgcgccttatccggtaactatcgtcttgagtccaacccggtaagacacgacttatcgccactggcagcagccactggtaacaggattagcagagcgaggtatgtaggcggtgctacagagttcttgaagtggtggcctaactacggctacactagaagaacagtatttggtatctgcgctctgctgaagccagttaccttcggaaaaagagttggtagctcttgatccggcaaacaaaccaccgctggtagcggtggtttttttgtttgcaagcagcagattacgcgcagaaaaaaaggatctcaa<+>aaagataccaggcgtttccc<->MSIQHFRVALIPFFAAFCLPVFAHPETLVKVKDAEDQLGARVGYIELDLNSGKILESFRPEERFPMMSTFKVLLCGAVLSRIDAGQEQLGRRIHYSQNDLVEYSPVTEKHLTDGMTVRELCSAAITMSDNTAANLLLTTIGGPKELTAFLHNMGDHVTRLDRWEPELNEAIPNDERDTTMPVAMATTLRKLLTGELLTLASRQQLIDWMEADKVAGPLLRSALPAGWFIADKSGAGERGSRGIIAALGPDGKPSRIVVIYTTGSQATMDERNRQIAEIGASLIKHW<+>ataataccgcgccacatagc<+>actcttcctttttcaatattattgaagcatttatcagggttattgtctcatgagc\n",
      "<+>tctacggatcgggagatctcccgatcccctatggtgcactctcag<+>tacaatctgctctgatgccg<+>gacattgattattgactagttattaatagtaatcaattacggggtcattagttcatagcccatatatggagttccgcgttacataacttacggtaaatggcccgcctggctgaccgcccaacgacccccgcccattgacgtcaataatgacgtatgttcccatagtaacgccaatagggactttccattgacgtcaatgggtggagtatttacggtaaactgcccacttggcagtacatcaagtgtatcatatgccaagtacgccccctattgacgtcaatgacggtaaatggcccgcctggcattatgcccagtacatgaccttatgggactttcctacttggcagtacatctacgtattagtcatcgctattaccatg<+>gtgatgcggttttggcagtacatcaatgggcgtggatagcggtttgactcacggggatttccaagtctccaccccattgacgtcaatgggagtttgttttggcaccaaaatcaacgggactttccaaaatgtcgtaacaactccgccccattgacgcaaatgggcggtaggcgtgtacggtgggaggtctatataagcagagca<+>gtgatgcggttttggcagtacatcaatgggcgtggatagcggtttgactcacggggatttccaagtctccaccccattgacgtcaatgggagtttgttttggcaccaaaatcaacgggactttccaaaatgtcgtaacaactccgccccattgacgcaaatgggcggtaggcgtgtacggtgggaggtctatataagcagagct<+>ggcaaatgggcggtaggcgcg<+>taatacgactcactataggg<+>taatacgactcactatagg<+>MVSKGEELFTGVVPILVELDGDVNGHKFSVSGEGEGDATYGKLTLKFICTTGKLPVPWPTLVTTFTYGLKCFARYPDHMKQHDFFKSAMPEGYVQERTIFFKDDGNYKTRAEVKFEGDTLVNRIELKGIDFKEDGNILGHKLEYNYNSHNVYIMADKQKNGIKVNFKIRHNIEDGSVQLADHYQQNTPIGDGPVLLPDNHYLSYQSALSKDPNEKRDHMVLLEFVTAAGITLGMDELYK<+>ctggtcgagctggacggcgacg<+>gacgacggcaactacaagac<+>catggtcctgctggagttcgtg<+>tctatagtgtcacctaaat<+>ctatagtgtcacctaaat<+>cctcgactgtgccttcta<+>ctgtgccttctagttgccagccatctgttgtttgcccctcccccgtgccttccttgaccctggaaggtgccactcccactgtcctttcctaataaaatgaggaaattgcatcgcattgtctgagtaggtgtcattctattctggggggtggggtggggcaggacagcaagggggaggattgggaagacaatagcaggcatgctggggatgcggtgggctctatgg<+>acgcgccctgtagcggcgcattaagcgcggcgggtgtggtggttacgcgcagcgtgaccgctacacttgccagcgccctagcgcccgctcctttcgctttcttcccttcctttctcgccacgttcgccggctttccccgtcaagctctaaatcgggggctccctttagggttccgatttagtgctttacggcacctcgaccccaaaaaacttgattagggtgatggttcacgtagtgggccatcgccctgatagacggtttttcgccctttgacgttggagtccacgttctttaatagtggactcttgttccaaactggaacaacactcaaccctatctcggtctattcttttgatttataagggattttgccgatttcggcctattggttaaaaaatgagctgatttaacaaaaatttaacgcgaatt<+>ctcctttcgctttcttccct<+>gtggactcttgttccaaactgg<+>ggaatgtgtgtcagttagggt<+>gtgtgtcagttagggtgtggaaagtccccaggctccccagcaggcagaagtatgcaaagcatgcatctcaattagtcagcaaccaggtgtggaaagtccccaggctccccagcaggcagaagtatgcaaagcatgcatctcaattagtcagcaaccatagtcccgcccctaactccgcccatcccgcccctaactccgcccagttccgcccattctccgccccatggctgactaattttttttatttatgcagaggccgaggccgcctctgcctctgagctattccagaagtagtgaggaggcttttttggaggcctaggcttttgcaaa<+>atcccgcccctaactccgcccagttccgcccattctccgccccatggctgactaattttttttatttatgcagaggccgaggccgcctctgcctctgagctattccagaagtagtgaggaggcttttttggaggcc<+>tatttatgcagaggccgagg<+>MIEQDGLHAGSPAAWVERLFGYDWAQQTIGCSDAAVFRLSAQGRPVLFVKTDLSGALNELQDEAARLSWLATTGVPCAAVLDVVTEAGRDWLLLGEVPGQDLLSSHLAPAEKVSIMADAMRRLHTLDPATCPFDHQAKHRIERARTRMEAGLVDQDDLDEEHQGLAPAELFARLKARMPDGEDLVVTHGDACLPNIMVENGRFSGFIDCGRLGVADRYQDIALATRDIAEELGGEWADRFLVLYGIAAPDSQRIAFYRLLDEFF<+>ctattcggctatgactgggc<+>cgttggctacccgtgatattcaacttgtttattgcagcttataatggttacaaataaagcaatagcatcacaaatttcacaaataaagcatttttttcactgcattctagttgtggtttgtccaaactcatcaatgtatctta<+>gcaatagcatcacaaatttc<+>gtggtttgtccaaactcatc<+>gtcatagctgtttcctg<+>gtcatagctgtttcctg<+>cctgtgtgaaattgttatccgct<+>ttgttatccgctcacaa<+>caacatacgagccggaagcataaagtgtaaa<+>atgagtgagctaactcacatta<+>ctcgctcactgactcgct<+>tttccataggctccgcccccctgacgagcatcacaaaaatcgacgctcaagtcagaggtggcgaaacccgacaggactataaagataccaggcgtttccccctggaagctccctcgtgcgctctcctgttccgaccctgccgcttaccggatacctgtccgcctttctcccttcgggaagcgtggcgctttctcatagctcacgctgtaggtatctcagttcggtgtaggtcgttcgctccaagctgggctgtgtgcacgaaccccccgttcagcccgaccgctgcgccttatccggtaactatcgtcttgagtccaacccggtaagacacgacttatcgccactggcagcagccactggtaacaggattagcagagcgaggtatgtaggcggtgctacagagttcttgaagtggtggcctaactacggctacactagaagaacagtatttggtatctgcgctctgctgaagccagttaccttcggaaaaagagttggtagctcttgatccggcaaacaaaccaccgctggtagcggtggtttttttgtttgcaagcagcagattacgcgcagaaaaaaaggatctcaa<+>aaagataccaggcgtttccc<->MSIQHFRVALIPFFAAFCLPVFAHPETLVKVKDAEDQLGARVGYIELDLNSGKILESFRPEERFPMMSTFKVLLCGAVLSRIDAGQEQLGRRIHYSQNDLVEYSPVTEKHLTDGMTVRELCSAAITMSDNTAANLLLTTIGGPKELTAFLHNMGDHVTRLDRWEPELNEAIPNDERDTTMPVAMATTLRKLLTGELLTLASRQQLIDWMEADKVAGPLLRSALPAGWFIADKSGAGERGSRGIIAALGPDGKPSRIVVIYTTGSQATMDERNRQIAEIGASLIKHW<+>ataataccgcgccacatagc<+>actcttcctttttcaatattattgaagcatttatcagggttattgtctcatgagc\n",
      "<+>tctacggatcgggagatctcccgatcccctatggtgcactctcag<+>tacaatctgctctgatgccg<+>gacattgattattgactagttattaatagtaatcaattacggggtcattagttcatagcccatatatggagttccgcgttacataacttacggtaaatggcccgcctggctgaccgcccaacgacccccgcccattgacgtcaataatgacgtatgttcccatagtaacgccaatagggactttccattgacgtcaatgggtggagtatttacggtaaactgcccacttggcagtacatcaagtgtatcatatgccaagtacgccccctattgacgtcaatgacggtaaatggcccgcctggcattatgcccagtacatgaccttatgggactttcctacttggcagtacatctacgtattagtcatcgctattaccatg<+>gtgatgcggttttggcagtacatcaatgggcgtggatagcggtttgactcacggggatttccaagtctccaccccattgacgtcaatgggagtttgttttggcaccaaaatcaacgggactttccaaaatgtcgtaacaactccgccccattgacgcaaatgggcggtaggcgtgtacggtgggaggtctatataagcagagct<+>gtgatgcggttttggcagtacatcaatgggcgtggatagcggtttgactcacggggatttccaagtctccaccccattgacgtcaatgggagtttgttttggcaccaaaatcaacgggactttccaaaatgtcgtaacaactccgccccattgacgcaaatgggcggtaggcgtgtacggtgggaggtctatataagcagagct<+>cgcaaatgggcggtaggcgtg<+>taatacgactcactataggg<+>taatacgactcactatagg<+>MVSKGEELFTGVVPILVELDGDVNGHKFSVSGEGEGDATYGKLTLKFICTTGKLPVPWPTLVTTFTYGLKCFARYPDHMKQHDFFKSAMPEGYVQERTIFFKDDGNYKTRAEVKFEGDTLVNRIELKGIDFKEDGNILGHKLEYNYNSHNVYIMADKQKNGIKVNFKIRHNIEDGSVQLADHYQQNTPIGDGPVLLPDNHYLSYQSALSKDPNEKRDHMVLLEFVTAAGITLGMDELYK<+>ctggtcgagctggacggcgacg<+>gacgacggcaactacaagac<+>catggtcctgctggagttcgtg<+>tctatagtgtcacctaaat<+>ctatagtgtcacctaaat<+>cctcgactgtgccttcta<+>ctgtgccttctagttgccagccatctgttgtttgcccctcccccgtgccttccttgaccctggaaggtgccactcccactgtcctttcctaataaaatgaggaaattgcatcgcattgtctgagtaggtgtcattctattctggggggtggggtggggcaggacagcaagggggaggattgggaagacaatagcaggcatgctggggatgcggtgggctctatgg<+>acgcgccctgtagcggcgcattaagcgcggcgggtgtggtggttacgcgcagcgtgaccgctacacttgccagcgccctagcgcccgctcctttcgctttcttcccttcctttctcgccacgttcgccggctttccccgtcaagctctaaatcgggggctccctttagggttccgatttagtgctttacggcacctcgaccccaaaaaacttgattagggtgatggttcacgtagtgggccatcgccctgatagacggtttttcgccctttgacgttggagtccacgttctttaatagtggactcttgttccaaactggaacaacactcaaccctatctcggtctattcttttgatttataagggattttgccgatttcggcctattggttaaaaaatgagctgatttaacaaaaatttaacgcgaatt<+>ctcctttcgctttcttccct<+>gtggactcttgttccaaactgg<+>ggaatgtgtgtcagttagggt<+>gtgtgtcagttagggtgtggaaagtccccaggctccccagcaggcagaagtatgcaaagcatgcatctcaattagtcagcaaccaggtgtggaaagtccccaggctccccagcaggcagaagtatgcaaagcatgcatctcaattagtcagcaaccatagtcccgcccctaactccgcccatcccgcccctaactccgcccagttccgcccattctccgccccatggctgactaattttttttatttatgcagaggccgaggccgcctctgcctctgagctattccagaagtagtgaggaggcttttttggaggcctaggcttttgcaaa<+>atcccgcccctaactccgcccagttccgcccattctccgccccatggctgactaattttttttatttatgcagaggccgaggccgcctctgcctctgagctattccagaagtagtgaggaggcttttttggaggcc<+>tatttatgcagaggccgagg<+>MIEQDGLHAGSPAAWVERLFGYDWAQQTIGCSDAAVFRLSAQGRPVLFVKTDLSGALNELQDEAARLSWLATTGVPCAAVLDVVTEAGRDWLLLGEVPGQDLLSSHLAPAEKVSIMADAMRRLHTLDPATCPFDHQAKHRIERARTRMEAGLVDQDDLDEEHQGLAPAELFARLKARMPDGEDLVVTHGDACLPNIMVENGRFSGFIDCGRLGVADRYQDIALATRDIAEELGGEWADRFLVLYGIAAPDSQRIAFYRLLDEFF<+>ctattcggctatgactgggc<+>cgttggctacccgtgatattcaacttgtttattgcagcttataatggttacaaataaagcaatagcatcacaaatttcacaaataaagcatttttttcactgcattctagttgtggtttgtccaaactcatcaatgtatctta<+>gcaatagcatcacaaatttc<+>gtggtttgtccaaactcatc<+>gtcatagctgtttcctg<+>gtcatagctgtttcctg<+>cctgtgtgaaattgttatccgct<+>ttgttatccgctcacaa<+>caacatacgagccggaagcataaagtgtaaa<+>atgagtgagctaactcacatta<+>ctcgctcactgactcgct<+>tttccataggctccgcccccctgacgagcatcacaaaaatcgacgctcaagtcagaggtggcgaaacccgacaggactataaagataccaggcgtttccccctggaagctccctcgtgcgctctcctgttccgaccctgccgcttaccggatacctgtccgcctttctcccttcgggaagcgtggcgctttctcatagctcacgctgtaggtatctcagttcggtgtaggtcgttcgctccaagctgggctgtgtgcacgaaccccccgttcagcccgaccgctgcgccttatccggtaactatcgtcttgagtccaacccggtaagacacgacttatcgccactggcagcagccactggtaacaggattagcagagcgaggtatgtaggcggtgctacagagttcttgaagtggtggcctaactacggctacactagaagaacagtatttggtatctgcgctctgctgaagccagttaccttcggaaaaagagttggtagctcttgatccggcaaacaaaccaccgctggtagcggtggtttttttgtttgcaagcagcagattacgcgcagaaaaaaaggatctcaa<+>aaagataccaggcgtttccc<->MSIQHFRVALIPFFAAFCLPVFAHPETLVKVKDAEDQLGARVGYIELDLNSGKILESFRPEERFPMMSTFKVLLCGAVLSRIDAGQEQLGRRIHYSQNDLVEYSPVTEKHLTDGMTVRELCSAAITMSDNTAANLLLTTIGGPKELTAFLHNMGDHVTRLDRWEPELNEAIPNDERDTTMPVAMATTLRKLLTGELLTLASRQQLIDWMEADKVAGPLLRSALPAGWFIADKSGAGERGSRGIIAALGPDGKPSRIVVIYTTGSQATMDERNRQIAEIGASLIKHW<+>ataataccgcgccacatagc<+>actcttcctttttcaatattattgaagcatttatcagggttattgtctcatgagc\n",
      "<+>tctacggatcgggagatctcccgatcccctatggtgcactctcag<+>tacaatctgctctgatgccg<+>gacattgattattgactagttattaatagtaatcaattacggggtcattagttcatagcccatatatggagttccgcgttacataacttacggtaaatggcccgcctggctgaccgcccaacgacccccgcccattgacgtcaataatgacgtatgttcccatagtaacgccaatagggactttccattgacgtcaatgggtggagtatttacggtaaactgcccacttggcagtacatcaagtgtatcatatgccaagtacgccccctattgacgtcaatgacggtaaatggcccgcctggcattatgcccagtacatgaccttatgggactttcctacttggcagtacatctacgtattagtcatcgctattaccatg<+>gtgatgcggttttggcagtacatcaatgggcgtggatagcggtttgactcacggggctttccaagtctccaccccattgacgtcaatgggagtttgttttggcaccaaaatcaacgggactttccaaaatgtcgtaacaactccgccccattgacgcaaatgggcggtaggcgtgtacggtgggaggtctatataagcagagct<+>gtgatgcggttttggcagtacatcaatgggcgtggatagcggtttgactcacggggatttccaagtctccaccccattgacgtcaatgggagtttgttttggcaccaaaatcaacgggactttccaaaatgtcgtaacaactccgccccattgacgcaaatgggcggtaggcgtgtacggtgggaggtctatataagcagagct<+>ggcaaatgggcggtaggcgtg<+>taatacgactcactataggg<+>taatacgactcactatagg<+>MVSKGEELFTGVVPILVELDGDVNGHKFSVSGEGEGDATYGKLTLKFICTTGKLPVPWPTLVTTFTYGLKCFARYPDHMKQHDFFKSAMPEGYVQERTIFFKDDGNYKTRAEVKFEGDTLVNRIELKGIDFKEDGNILGHKLEYNYNSHNVYIMADKQKNGIKVNFKIRHNIEDGSVQLADHYQQNTPIGDGPVLLPDNHYLSYQSALSKDPNEKRDHMVLLEFVTAAGITLGMDELYK<+>ctggtcgagctggacggcgacg<+>gacgacggcaactacaagac<+>catggtcctgctggagttcgtg<+>tctatagtgtcacctaaat<+>ctatagtgtcacctaaat<+>cctcgactgtgccttcta<+>ctgtgccttctagttgccagccatctgttgtttgcccctcccccgtgccttccttgaccctggaaggtgccactcccactgtcctttcctaataaaatgaggaaattgcatcgcattgtctgagtaggtgtcattctattctggggggtggggtggggcaggacagcaagggggaggattgggaagacaatagcaggcatgctggggatgcggtgggctctatgg<+>acgcgccctgtagcggcgcattaagcgcggcgggtgtggtggttacgcgcagcgtgaccgctacacttgccagcgccctagcgcccgctcctttcgctttcttcccttcctttctcgccacgttcgccggctttccccgtcaagctctaaatcgggggctccctttagggttccgatttagtgctttacggcacctcgaccccaaaaaacttgattagggtgatggttcacgtagtgggccatcgccctgatagacggtttttcgccctttgacgttggagtccacgttctttaatagtggactcttgttccaaactggaacaacactcaaccctatctcggtctattcttttgatttataagggattttgccgatttcggcctattggttaaaaaatgagctgatttaacaaaaatttaacgcgaatt<+>ctcctttcgctttcttccct<+>gtggactcttgttccaaactgg<+>ggaatgtgtgtcagttagggt<+>gtgtgtcagttagggtgtggaaagtccccaggctccccagcaggcagaagtatgcaaagcatgcatctcaattagtcagcaaccaggtgtggaaagtccccaggctccccagcaggcagaagtatgcaaagcatgcatctcaattagtcagcaaccatagtcccgcccctaactccgcccatcccgcccctaactccgcccagttccgcccattctccgccccatggctgactaattttttttatttatgcagaggccgaggccgcctctgcctctgagctattccagaagtagtgaggaggcttttttggaggcctaggcttttgcaaa<+>atcccgcccctaactccgcccagttccgcccattctccgccccatggctgactaattttttttatttatgcagaggccgaggccgcctctgcctctgagctattccagaagtagtgaggaggcttttttggaggcc<+>tatttatgcagaggccgagg<+>MIEQDGLHAGSPAAWVERLFGYDWAQQTIGCSDAAVFRLSAQGRPVLFVKTDLSGALNELQDEAARLSWLATTGVPCAAVLDVVTEAGRDWLLLGEVPGQDLLSSHLAPAEKVSIMADAMRRLHTLDPATCPFDHQAKHRIERARTRMEAGLVDQDDLDEEHQGLAPAELFARLKARMPDGEDLVVTHGDACLPNIMVENGRFSGFIDCGRLGVADRYQDIALATRDIAEELGGEWADRFLVLYGIAAPDSQRIAFYRLLDEFF<+>ctattcggctatgactgggc<+>cgttggctacccgtgatattcaacttgtttattgcagcttataatggttacaaataaagcaatagcatcacaaatttcacaaataaagcatttttttcactgcattctagttgtggtttgtccaaactcatcaatgtatctta<+>gcaatagcatcacaaatttc<+>gtggtttgtccaaactcatc<+>gtcatagctgtttcctg<+>gtcatagctgtttcctg<+>cctgtgtgaaattgttatccgct<+>ttgttatccgctcacaa<+>caacatacgagccggaagcataaagtgtaaa<+>atgagtgagctaactcacatta<+>ctcgctcactgactcgct<+>tttccataggctccgcccccctgacgagcatcacaaaaatcgacgctcaagtcagaggtggcgaaacccgacaggactataaagataccaggcgtttccccctggaagctccctcgtgcgctctcctgttccgaccctgccgcttaccggatacctgtccgcctttctcccttcgggaagcgtggcgctttctcatagctcacgctgtaggtatctcagttcggtgtaggtcgttcgctccaagctgggctgtgtgcacgaaccccccgttcagcccgaccgctgcgccttatccggtaactatcgtcttgagtccaacccggtaagacacgacttatcgccactggcagcagccactggtaacaggattagcagagcgaggtatgtaggcggtgctacagagttcttgaagtggtggcctaactacggctacactagaagaacagtatttggtatctgcgctctgctgaagccagttaccttcggaaaaagagttggtagctcttgatccggcaaacaaaccaccgctggtagcggtggtttttttgtttgcaagcagcagattacgcgcagaaaaaaaggatctcaa<+>aaagataccaggcgtttccc<->MSIQHFRVALIPFFAAFCLPVFAHPETLVKVKDAEDQLGARVGYIELDLNSGKILESFRPEERFPMMSTFKVLLCGAVLSRIDAGQEQLGRRIHYSQNDLVEYSPVTEKHLTDGMTVRELCSAAITMSDNTAANLLLTTIGGPKELTAFLHNMGDHVTRLDRWEPELNEAIPNDERDTTMPVAMATTLRKLLTGELLTLASRQQLIDWMEADKVAGPLLRSALPAGWFIADKSGAGERGSRGIIAALGPDGKPSRIVVIYTTGSQATMDERNRQIAEIGASLIKHW<+>ataataccgcgccacatagc<+>actcttcctttttcaatattattgaagcatttatcagggttattgtctcatgagc\n",
      "<+>tctacggatcgggagatctcccgatcccctatggtgcactctcag<+>tacaatctgctctgatgccg<+>gacattgattattgactagttattaatagtaatcaattacggggtcattagttcatagcccatatatggagttccgcgttacataacttacggtaaatggcccgcctggctgaccgcccaacgacccccgcccattgacgtcaataatgacgtatgttcccatagtaacgccaatagggactttccattgacgtcaatgggtggagtatttacggtaaactgcccacttggcagtacatcaagtgtatcatatgccaagtacgccccctattgacgtcaatgacggtaaatggcccgcctggcattatgcccagtacatgaccttatgggactttcctacttggcagtacatctacgtattagtcatcgctattaccatg<+>gtgatgcggttttggcagtacatcaatgggcgtggatagcggtttgactcaaggggctttccaagtctccaccccattgacgtcaatgggagtttgttttggcaccaaaatcaacgggactttccaaaatgtcgtaacaactccgccccattgacgcaaatgggcggtaggcgtgtacggtgggaggtctatataagcagagct<+>gtgatgcggttttggcagtacatcaatgggcgtggatagcggtttgactcacggggatttccaagtctccaccccattgacgtcaatgggagtttgttttggcaccaaaatcaacgggactttccaaaatgtcgtaacaactccgccccattgacgcaaatgggcggtaggcgtgtacggtgggaggtctatataagcagagct<+>ggcaaatgggcggtaggcgtg<+>taatacgactcactataggg<+>taatacgactcactatagg<+>MVSKGEELFTGVVPILVELDGDVNGHKFSVSGEGEGDATYGKLTLKFICTTGKLPVPWPTLVTTFGYGLKCFARYPDHMKQHDFFKSAMPEGYVQERTIFFKDDGNYKTRAEVKFEGDTLVNRIELKGIDFKEDGNILGHKLEYNYNSHNVYIMADKQKNGIKVNFKIRHNIEDGSVQLADHYQQNTPIGDGPVLLPDNHYLSYQSALSKDPNEKRDHMVLLEFVTAAGITLGMDELYK<+>ctggtcgagctggacggcgacg<+>gacgacggcaactacaagac<+>catggtcctgctggagttcgtg<+>tctatagtgtcacctaaat<+>ctatagtgtcacctaaat<+>cctcgactgtgccttcta<+>ctgtgccttctagttgccagccatctgttgtttgcccctcccccgtgccttccttgaccctggaaggtgccactcccactgtcctttcctaataaaatgaggaaattgcatcgcattgtctgagtaggtgtcattctattctggggggtggggtggggcaggacagcaagggggaggattgggaagacaatagcaggcatgctggggatgcggtgggctctatgg<+>acgcgccctgtagcggcgcattaagcgcggcgggtgtggtggttacgcgcagcgtgaccgctacacttgccagcgccctagcgcccgctcctttcgctttcttcccttcctttctcgccacgttcgccggctttccccgtcaagctctaaatcgggggctccctttagggttccgatttagtgctttacggcacctcgaccccaaaaaacttgattagggtgatggttcacgtagtgggccatcgccctgatagacggtttttcgccctttgacgttggagtccacgttctttaatagtggactcttgttccaaactggaacaacactcaaccctatctcggtctattcttttgatttataagggattttgccgatttcggcctattggttaaaaaatgagctgatttaacaaaaatttaacgcgaatt<+>ctcctttcgctttcttccct<+>gtggactcttgttccaaactgg<+>ggaatgtgtgtcagttagggt<+>gtgtgtcagttagggtgtggaaagtccccaggctccccagcaggcagaagtatgcaaagcatgcatctcaattagtcagcaaccaggtgtggaaagtccccaggctccccagcaggcagaagtatgcaaagcatgcatctcaattagtcagcaaccatagtcccgcccctaactccgcccatcccgcccctaactccgcccagttccgcccattctccgccccatggctgactaattttttttatttatgcagaggccgaggccgcctctgcctctgagctattccagaagtagtgaggaggcttttttggaggcctaggcttttgcaaa<+>atcccgcccctaactccgcccagttccgcccattctccgccccatggctgactaattttttttatttatgcagaggccgaggccgcctctgcctctgagctattccagaagtagtgaggaggcttttttggaggcc<+>tatttatgcagaggccgagg<+>MIEQDGLHAGSPAAWVERLFGYDWAQQTIGCSDAAVFRLSAQGRPVLFVKTDLSGALNELQDEAARLSWLATTGVPCAAVLDVVTEAGRDWLLLGEVPGQDLLSSHLAPAEKVSIMADAMRRLHTLDPATCPFDHQAKHRIERARTRMEAGLVDQDDLDEEHQGLAPAELFARLKARMPDGEDLVVTHGDACLPNIMVENGRFSGFIDCGRLGVADRYQDIALATRDIAEELGGEWADRFLVLYGIAAPDSQRIAFYRLLDEFF<+>ctattcggctatgactgggc<+>cgttggctacccgtgatattcaacttgtttattgcagcttataatggttacaaataaagcaatagcatcacaaatttcacaaataaagcatttttttcactgcattctagttgtggtttgtccaaactcatcaatgtatctta<+>gcaatagcatcacaaatttc<+>gtggtttgtccaaactcatc<+>gtcatagctgtttcctg<+>gtcatagctgtttcctg<+>cctgtgtgaaattgttatccgct<+>ttgttatccgctcacaa<+>caacatacgagccggaagcataaagtgtaaa<+>atgagtgagctaactcacatta<+>ctcgctcactgactcgct<+>tttccataggctccgcccccctgacgagcatcacaaaaatcgacgctcaagtcagaggtggcgaaacccgacaggactataaagataccaggcgtttccccctggaagctccctcgtgcgctctcctgttccgaccctgccgcttaccggatacctgtccgcctttctcccttcgggaagcgtggcgctttctcatagctcacgctgtaggtatctcagttcggtgtaggtcgttcgctccaagctgggctgtgtgcacgaaccccccgttcagcccgaccgctgcgccttatccggtaactatcgtcttgagtccaacccggtaagacacgacttatcgccactggcagcagccactggtaacaggattagcagagcgaggtatgtaggcggtgctacagagttcttgaagtggtggcctaactacggctacactagaagaacagtatttggtatctgcgctctgctgaagccagttaccttcggaaaaagagttggtagctcttgatccggcaaacaaaccaccgctggtagcggtggtttttttgtttgcaagcagcagattacgcgcagaaaaaaaggatctcaa<+>aaagataccaggcgtttccc<->MSIQHFRVALIPFFAAFCLPVFAHPETLVKVKDAEDQLGARVGYIELDLNSGKILESFRPEERFPMMSTFKVLLCGAVLSRIDAGQEQLGRRIHYSQNDLVEYSPVTEKHLTDGMTVRELCSAAITMSDNTAANLLLTTIGGPKELTAFLHNMGDHVTRLDRWEPELNEAIPNDERDTTMPVAMATTLRKLLTGELLTLASRQQLIDWMEADKVAGPLLRSALPAGWFIADKSGAGERGSRGIIAALGPDGKPSRIVVIYTTGSQATMDERNRQIAEIGASLIKHW<+>ataataccgcgccacatagc<+>actcttcctttttcaatattattgaagcatttatcagggttattgtctcatgagc\n"
     ]
    }
   ],
   "source": [
    "# Set the model to evaluation mode\n",
    "device = 'cuda:1'\n",
    "_ = model.to(device)\n",
    "_ = model.eval()\n",
    "\n",
    "predictions = []\n",
    "\n",
    "for i, batch in enumerate(dataloader):\n",
    "    with torch.no_grad():\n",
    "        inputs = {k: v.to(device) for k, v in batch.items()}\n",
    "        outputs = model(input_ids=inputs['input_ids'], attention_mask=inputs['attention_mask'], output_hidden_states=True)\n",
    "        logits = outputs.logits\n",
    "        \n",
    "        # Generate predicted sequences\n",
    "        predicted_token_ids = torch.argmax(logits, dim=-1)\n",
    "        predicted_sequences = tokenizer.batch_decode(predicted_token_ids, skip_special_tokens=False)\n",
    "        # replace ' ' with ''\n",
    "        predicted_sequences = [p.replace(\" \", \"\") for p in predicted_sequences]\n",
    "        predictions.extend(predicted_sequences)\n",
    "    # if i == 10:\n",
    "    #     break\n",
    "\n",
    "# Print a sample of predictions\n",
    "print(\"Sample predictions:\")\n",
    "for i, pred in enumerate(predictions[:5]):\n",
    "    print(pred)"
   ]
  },
  {
   "cell_type": "code",
   "execution_count": 119,
   "metadata": {},
   "outputs": [
    {
     "name": "stdout",
     "output_type": "stream",
     "text": [
      "gtgatgcggttttggcagtacatcaatgggcgtggatagcggtttgactcacggggatttccaagtctccaccccattgacgtcaatgggagtttgttttggcaccaaaatcaacgggactttccaaaatgtcgtaacaactccgccccattgacgcaaatgggcggtaggcgtgtacggtgggaggtctatataagcagagct\n",
      "gtgatgcggttttggcagtacatcaatgggcgtggatagcggtttgactcacggggatttccaagtctccaccccattgacgtcaatgggagtttgttttggcaccaaaatcaacgggactttccaaaatgtcgtaacaactccgccccattgacgcaaatgggcggtaggcgtgtacggtgggaggtctatataagcagagct\n",
      "gtgatgcggttttggcagtacatcaatgggcgtggatagcggtttgactcacggggatttccaagtctccaccccattgacgtcaatgggagtttgttttggcaccaaaatcaacgggactttccaaaatgtcgtaacaactccgccccattgacgcaaatgggcggtaggcgtgtacggtgggaggtctatataagcagagct\n",
      "gtgatgcggttttggcagtacatcaatgggcgtggatagcggtttgactcacggggatttccaagtctccaccccattgacgtcaatgggagtttgttttggcaccaaaatcaacgggactttccaaaatgtcgtaacaactccgccccattgacgcaaatgggcggtaggcgtgtacggtgggaggtctatataagcagagct\n",
      "gtgatgcggttttggcagtacatcaatgggcgtggatagcggtttgactcacggggatttccaagtctccaccccattgacgtcaatgggagtttgttttggcaccaaaatcaacgggactttccaaaatgtcgtaacaactccgccccattgacgcaaatgggcggtaggcgtgtacggtgggaggtctatataagcagagct\n",
      "gtgatgcggttttggcagtacatcaatgggcgtggatagcggtttgactcacggggatttccaagtctccaccccattgacgtcaatgggagtttgttttggcaccaaaatcaacgggactttccaaaatgtcgtaacaactccgccccattgacgcaaatgggcggtaggcgtgtacggtgggaggtctatataagcagagct\n",
      "gtgatgcggttttggcagtacatcaatgggcgtggatagcggtttgactcacggggatttccaagtctccaccccattgacgtcaatgggagtttgttttggcaccaaaatcaacgggactttccaaaatgtcgtaacaactccgccccattgacgcaaatgggcggtaggcgtgtacggtgggaggtctatataagcagagct\n",
      "gtgatgcggttttggcagtacatcaatgggcgtggatagcggtttgactcacggggatttccaagtctccaccccattgacgtcaatgggagtttgttttggcaccaaaatcaacgggactttccaaaatgtcgtaacaactccgccccattgacgcaaatgggcggtaggcgtgtacggtgggaggtctatataagcagagct\n",
      "gtgatgcggttttggcagtacatcaatgggcgtggatagcggtttgactcacggggatttccaagtctccaccccattgacgtcaatgggagtttgttttggcaccaaaatcaacgggactttccaaaatgtcgtaacaactccgccccattgacgcaaatgggcggtaggcgtgtacggtgggaggtctatataagcagagct\n",
      "gtgatgcggttttggcagtacatcaatgggcgtggatagcggtttgactcacggggatttccaagtctccaccccattgacgtcaatgggagtttgttttggcaccaaaatcaacgggactttccaaaatgtcgtaacaactccgccccattgacgcaaatgggcggtaggcgtgtacggtgggaggtctatataagcagagct\n"
     ]
    }
   ],
   "source": [
    "for p in predictions[:10]:\n",
    "    print(p[mask_start:mask_end])"
   ]
  },
  {
   "cell_type": "code",
   "execution_count": 120,
   "metadata": {},
   "outputs": [],
   "source": [
    "from collections import Counter\n",
    "import numpy as np\n",
    "\n",
    "\n",
    "# Function to calculate entropy at each sequence position\n",
    "def calculate_entropy(sequences):\n",
    "    sequence_length = len(sequences[0])\n",
    "    entropy_list = []\n",
    "    \n",
    "    for i in range(sequence_length):\n",
    "        # Extract the i-th character from each sequence\n",
    "        characters_at_position = [seq[i] for seq in sequences]\n",
    "        \n",
    "        # Count the frequency of each character\n",
    "        char_counts = Counter(characters_at_position)\n",
    "        \n",
    "        # Calculate probabilities for each character\n",
    "        total = len(characters_at_position)\n",
    "        probabilities = [count / total for count in char_counts.values()]\n",
    "        \n",
    "        # Calculate entropy for this position\n",
    "        entropy = -sum(p * np.log2(p) for p in probabilities if p > 0)\n",
    "        entropy_list.append(entropy)\n",
    "    \n",
    "    return entropy_list\n"
   ]
  },
  {
   "cell_type": "code",
   "execution_count": 121,
   "metadata": {},
   "outputs": [
    {
     "data": {
      "text/plain": [
       "<Axes: xlabel='Position', ylabel='Entropy'>"
      ]
     },
     "execution_count": 121,
     "metadata": {},
     "output_type": "execute_result"
    },
    {
     "data": {
      "text/plain": [
       "Text(0.5, 1.0, 'Entropy of Predicted Sequences')"
      ]
     },
     "execution_count": 121,
     "metadata": {},
     "output_type": "execute_result"
    },
    {
     "data": {
      "text/plain": [
       "Text(0.5, 0, 'Position')"
      ]
     },
     "execution_count": 121,
     "metadata": {},
     "output_type": "execute_result"
    },
    {
     "data": {
      "text/plain": [
       "Text(0, 0.5, 'Entropy')"
      ]
     },
     "execution_count": 121,
     "metadata": {},
     "output_type": "execute_result"
    },
    {
     "data": {
      "image/png": "[encoded data removed]",
      "text/plain": [
       "<Figure size 640x480 with 1 Axes>"
      ]
     },
     "metadata": {},
     "output_type": "display_data"
    }
   ],
   "source": [
    "import seaborn as sns\n",
    "import matplotlib.pyplot as plt\n",
    "\n",
    "promoter_preds = [p[mask_start:mask_end] for p in predictions]\n",
    "\n",
    "entropy = calculate_entropy(promoter_preds)\n",
    "# Create a DataFrame to store the entropy values\n",
    "entropy_df = pd.DataFrame({\n",
    "    'Position': list(range(len(entropy))),\n",
    "    'Entropy': entropy\n",
    "})\n",
    "\n",
    "sns.scatterplot(x='Position', y='Entropy', data=entropy_df)\n",
    "plt.title('Entropy of Predicted Sequences')\n",
    "plt.xlabel('Position')\n",
    "plt.ylabel('Entropy')\n",
    "plt.show()"
   ]
  },
  {
   "cell_type": "markdown",
   "metadata": {},
   "source": [
    "## Original vector, median promoter sequence with masking"
   ]
  },
  {
   "cell_type": "code",
   "execution_count": 2,
   "metadata": {},
   "outputs": [
    {
     "name": "stderr",
     "output_type": "stream",
     "text": [
      "Downloading readme: 100%|██████████| 304/304 [00:00<00:00, 2.93kB/s]\n",
      "Downloading data: 100%|██████████| 664M/664M [00:20<00:00, 31.6MB/s] \n",
      "Generating train split: 100%|██████████| 147071/147071 [00:45<00:00, 3201.25 examples/s]\n",
      "Filter:  15%|█▍        | 22000/147071 [00:02<00:14, 8430.13 examples/s]"
     ]
    }
   ],
   "source": [
    "# Load the YFP vector dataset\n",
    "yfp_vector = load_dataset(\"wconnell/openplasmid\")\n",
    "yfp_vector = yfp_vector.filter(lambda x: '127546' == x['ID'])\n",
    "yfp_vector = yfp_vector['train'][0]\n",
    "\n",
    "# Parse the GenBank file\n",
    "yfp_gbank = read_genbank(yfp_vector['GenBank Raw'])\n",
    "\n",
    "# Convert GenBank to GLM2 sequence\n",
    "yfp_glm2 = genbank_to_glm2(yfp_vector['GenBank Raw'])"
   ]
  },
  {
   "cell_type": "code",
   "execution_count": null,
   "metadata": {},
   "outputs": [],
   "source": [
    "import random\n",
    "\n",
    "def mask_promoter(promoter_seq, mask_frac=0.15):\n",
    "    # Randomly replace n% of promoter_seq positions with '<mask>'\n",
    "    masked_promoter = list(promoter_seq)\n",
    "    mask_positions = random.sample(range(len(promoter_seq)), k=int(mask_frac * len(promoter_seq)))\n",
    "    for pos in mask_positions:\n",
    "        masked_promoter[pos] = '<mask>'\n",
    "    masked_promoter = ''.join(masked_promoter)\n",
    "    return masked_promoter\n",
    "\n",
    "\n",
    "# Find the promoter site\n",
    "# percentile = 25\n",
    "# promoter_seq = 'TGCATTTTTTTCACATCTGTTAATAAGCGCGATAGCTTTTTAATAATTGCGAATGCATACAAACTGGCAATATTGATCCTTGGCATGCCGTGTAACAGGTTACGGCTGTT'.lower()\n",
    "# percentile = 50\n",
    "# promoter_seq = 'TGCATTTTTTTCACATCATGATACTTACGCAGTCGGTCTATGCCAGCGCGGAGAATAGGTTATTGCCCGTATGGCAAATCGATAGCCTGGTGACAGGGGTTACGGCTGTT'.lower()\n",
    "percentile = 75\n",
    "promoter_seq = 'TGCATTTTTTTCACATCGTTTCTCTGATACGGCGGGGTTATTTTTCGCGGATTTCTCCACATCGTTTAGAGATAACACTTCCAAGCTCGTTCCTTGGGGTTACGGCTGTT'.lower()\n",
    "\n",
    "# Find the primer binding site\n",
    "primer_bind = yfp_gbank.features[6]\n",
    "primer_bind_seq = str(yfp_gbank.seq[primer_bind.location.start:primer_bind.location.end].lower())\n",
    "\n",
    "# Insert the promoter seq\n",
    "mask_start = yfp_glm2.find(primer_bind_seq)\n",
    "mask_start = mask_start + len(primer_bind_seq) + 3  # buffer for '<+>'\n",
    "mask_end = mask_start + len(promoter_seq)   \n",
    "\n",
    "# Create masked_yfp_var_glm2 for all sequences\n",
    "variant_promoters = []\n",
    "n_samples = 2500\n",
    "\n",
    "for i in range(n_samples):\n",
    "    masked_promoter = mask_promoter(promoter_seq, mask_frac=0.15)\n",
    "    masked_yfp_glm2 = yfp_glm2[:mask_start] + masked_promoter + '<+>' + yfp_glm2[mask_start:]\n",
    "    variant_promoters.append({'ID': i, 'glm2_sequence': masked_yfp_glm2})"
   ]
  },
  {
   "cell_type": "code",
   "execution_count": null,
   "metadata": {},
   "outputs": [
    {
     "name": "stderr",
     "output_type": "stream",
     "text": [
      "Map: 100%|██████████| 2500/2500 [00:05<00:00, 492.27 examples/s]\n"
     ]
    }
   ],
   "source": [
    "from datasets import Dataset\n",
    "from torch.utils.data import DataLoader\n",
    "variant_promoter_ds = Dataset.from_list(variant_promoters)\n",
    "variant_promoter_ds = variant_promoter_ds.map(tokenize_function, batched=True)\n",
    "variant_promoter_ds.set_format(type='torch', columns=['input_ids', 'attention_mask', 'ID'])\n",
    "dataloader = DataLoader(variant_promoter_ds, batch_size=16, shuffle=False)\n",
    "    "
   ]
  },
  {
   "cell_type": "code",
   "execution_count": null,
   "metadata": {},
   "outputs": [
    {
     "name": "stdout",
     "output_type": "stream",
     "text": [
      "Sample predictions:\n",
      "<+>gaagcgcctacgcttgacatctactatatgtaagtatacggccccatatataggccctttcgtctcgcgcgtttcggtgatgacggtgaaaa<+>cctctgacacatgcagctcccgg<+>atttaggtgacactataga<+>atttaggtgacactatag<+>ttcaattcatcatttttttttttttctttttttttatttcggtttccttgaaatttttttgattcggtaatctccgaacagaaggaagaacgaaggaaggagcacagacttagattggtatatatatgcatatgtagtgttgaagaaacatgaaattgcccagtattcttaacccaactgcacagaacaaaaacctgcaggaaacgaagataaatc<+>MSKATYKERVATHPSPVAAKLFNIMHEKQTNLCASLDVRNTKELLELVEALGPKICLLKTHVDILTDFSMEGGVKALKALSAKYNFLLFEDRKFADIGNTVKLQYSAGVYRIAEWADITNAHGVVGPGIVSGLKQAAEEVTKEPRGLLMLAELSCKGSLSTGEYTKSVVEIAKQDPDFVIGFIAQRDMGGRDEGSDFLIATPGVGLDDKGDALGQQYRTVDDVVNTGSDILIVGRGLFAKGRDAKVEAERLRKAGWEAYLRRTGQQN<+>ccagtttggaacaagagtccac<+>tgcatttttttcacatcgtttctttgaaacggcggggttatttttcccggagttctccacatcgtttagaaaaatcacttcaaagctctttccttgatgttatggctgcg<+>MSKGEELFTGVVPILVELDGDVNGHKFSVSGEGEGDATYGKLTLKLICTTGKLPVPWPTLVTTLTYGLQCFARYPDHMKQHDFFKSAMPEGYVQERTIFFKDDGNYKTRAEVKFEGDTLVNRIELKGIDFKEDGNILGHKLEYNYNSHNVYITADKQKNGIKANFKIRHNIEDGGVQLADHYQQNTPIGDGPVLLPDNHYLSYQSALSKDPNEKRDHMVLLEFVTAAGITHGMDELYK<+>gcgaatttcttatgatttatgatttttattattaaataagttataaaaaaaataagtgtatacaaattttaaagtgactcttaggttttaaaacgaaaattcttattcttgagtaactctttcctgtaggtcaggttgctttctcaggtatagtatgaggtcgctcttattgaccacacctctaccgg<+>gacatggaggcccagaataccctccttgacagtcttgacgtgcgcagctcaggggcatgatgtgactgtcgcccgtacatttagcccatacatccccatgtataatcatttgcatccatacattttgatggccgcacggcgcgaagcaaaaattacggctcctcgctgcagacctgcgagcagggaaacgctcccctcacagacgcgttgaattgtccccacgccgcgcccctgtagagaaatataaaaggttaggatttgccactgaggttcttctttcatatacttccttttaaaatcttgctaggatacagttctcacatcacatccgaacataaacaaccatgggtaccactcttgacgacacggcttaccggtaccgcaccagtgtcccgggggacgccgaggccatcgaggcactggatgggtccttcaccaccgacaccgtcttccgcgtcaccgccaccggggacggcttcaccctgctggaggtgccggtggacccgcccctgaccgaggtgttccccgacgacgaatcggacgacgaatcggacgacggggacgacggcgacccggactaccggacgtacgtcgcgtacggcgacgacggcgacctggcgggctacgtggacgtctcggactccggctgggaccgccggctgaccgtcgaggacatcgaggtcgccccggagcacctcgagcacggggtcgggcgcgcggtcctggagctcgcgacggagttcgcccgcgagcggggcgccgggcacctctggctggaggtcgccgacgtcgacgcgccggcgatccacgcgtaccggcggctggggttcaccctctgcggcctggacaccgccctgtacgacggcaccgcctcggacggcgagcaggcgctctacatgagcatgccctgcccctaatcagtactgacaataaaaagattcttgttttcaagaacttgtcatttgtatagtttttttatattgtagttgttctattttaatcaaatgttagcgtgatttatattttttttcgcctcgacatcatctgcccagatgcgaagttaagtgcgcagaaagtaatatcatgcgtcaatcgtatgtgaatgctggtcgctatactg<+>gacatggaggcccagaataccctccttgacagtcttgacgtgcgcagctcaggggcatgatgtgactgtcgcccgtacatttagcccatacatccccatgtataatcatttgcatccatacattttgatggccgcacggcgcgaagcaaaaattacggctcctcgctgcagacctgcgagcagggaaacgctcccctcacagacgcgttgaattgtccccacgccgcgcccctgtagagaaatataaaaggttaggatttgccactgaggttcttctttcatatacttccttttaaaatcttgctaggatacagttctcacatcacatccgaacataaacaacc<+>MGTTLDDTAYRYRTAVPGDVERLARLEGLFTTDTVFRVARTGGGAALPPVPVPAPLRGVLPDDDDDDDDDDDDDDDDDSLLFVAYGDDGTIAGFVILSLDGDGGRLWIENIAVAPAHRGHGIGTALMGLAADWAREAGAEEIWLEVTASNEPAIAAYERAGFTVEGIDTAFYEGGDDDGEDALYMSLPLP<+>actgacaataaaaagattcttgttttcaagaacttgtcatttgtatagtttttttatattgtagttgttctattttaatcaaatgttagcgtgatttatattttttttcgcctcgacatcatctgcccagatgcgaagttaagtgcgcagaaagtaatatcatgcgtcaatcgtatgtgaatgctggtcgctatactg<+>atcacgtgctataaaaataattataatttaaattttttaatataaatatataaattaaaaatagaaattaaaaaaagaaattaaagaaaaaatagtttttgttttccgaagatgtaaaagactctagggggatcgccaacaaatactaccttttatcttgctcttcctgctctcaggtattaatgccgaattgtttcatcttgtctgtgtagaagaccacacacgaaaatcctgtgattttacattttacttatcgttaatcgaatgtatatctatttaatctgcttttcttgtctaataaatatatatgtaaagtacgctttttgttgaaattttttaaacctttttttatttttttttcttcattccttaactcttctaccttctttatttactttctaaaatccaaaaacaaaacaaaaaaataaataaacacaaagtaaattcccaaattattccatcattaaaagatacgaggcgcgtgtaagttacaggcaagcgatc<+>ccctatagtgagtcgtatta<+>cctatagtgagtcgtatta<+>ctcgctcactgactcgct<+>tttccataggctccgcccccctgacgagcatcacaaaaatcgacgctcaagtcagaggtggcgaaacccgacaggactataaagataccaggcgtttccccctggaagctccctcgtgcgctctcctgttccgaccctgccgcttaccggatacctgtccgcctttctcccttcgggaagcgtggcgctttctcatagctcacgctgtaggtatctcagttcggtgtaggtcgttcgctccaagctgggctgtgtgcacgaaccccccgttcagcccgaccgctgcgccttatccggtaactatcgtcttgagtccaacccggtaagacacgacttatcgccactggcagcagccactggtaacaggattagcagagcgaggtatgtaggcggtgctacagagttcttgaagtggtggcctaactacggctacactagaagaacagtatttggtgtctgcgctctgctgga\n",
      "<+>gaagcgcctacgcttgacatctactatatgtaagtatacggccccatatataggccctttcgtctcgcgcgtttcggtgatgacggtgaaaa<+>cctctgacacatgcagctcccgg<+>atttaggtgacactataga<+>atttaggtgacactatag<+>ttcaattcatcatttttttttttttctttttttttatttcggtttccttgaaatttttttgattcggtaatctccgaacagaaggaagaacgaaggaaggagcacagacttagattggtatatatatgcatatgtagtgttgaagaaacatgaaattgcccagtattcttaacccaactgcacagaacaaaaacctgcaggaaacgaagataaatc<+>MSKATYKERVATHPSPVAAKLFNIMHEKQTNLCASLDVRNTKELLELVEALGPKICLLKTHVDILTDFSMEGGVKALKALSAKYNFLLFEDRKFADIGNTVKLQYSAGVYRIAEWADITNAHGVVGPGIVSGLKQAAEEVTKEPRGLLMLAELSCKGSLSTGEYTKSVVEIAKQDPDFVIGFIAQRDMGGRDEGSDFLIATPGVGLDDKGDALGQQYRTVDDVVNTGSDILIVGRGLFAKGRDAKVEAERLRKAGWEAYLRRTGQQN<+>ccagtttggaacaagagtccacctgcttttttttcacaccgtgtctctgatacggcggggttatttttcgcggatttttccacatcgtgaagagaaaaaacttccaagttctttccttgaggttatggctgtt<+>MSKGEELFTGVVPILVELDGDVNGHKFSVSGEGEGDATYGKLTLKLICTTGKLPVPWPTLVTTLTYGLQCFARYPDHMKQHDFFKSAMPEGYVQERTIFFKDDGNYKTRAEVKFEGDTLVNRIELKGIDFKEDGNILGHKLEYNYNSHNVYITADKQKNGIKANFKIRHNIEDGGVQLADHYQQNTPIGDGPVLLPDNHYLSYQSALSKDPNEKRDHMVLLEFVTAAGITHGMDELYK<+>gcgaatttcttatgatttatgatttttattattaaataagttataaaaaaaataagtgtatacaaattttaaagtgactcttaggttttaaaaagaaaattcttattcttgagtaactctttcctgtaggtcaggttgctttctcaggtatagtatgaggtcgctcttattgaccacacctctaccgg<+>gacatggaggcccagaataccctccttgacagtcttgacgtgcgcagctcaggggcatgatgtgactgtcgcccgtacatttagcccatacatccccatgtataatcatttgcatccatacattttgatggccgcacggcgcgaagcaaaaattacggctcctcgctgcagacctgcgagcagggaaacgctcccctcacagacgcgttgaattgtccccacgccgcgcccctgtagagaaatataaaaggttaggatttgccactgaggttcttctttcatatacttccttttaaaatcttgctaggatacagttctcacatcacatccgaacataaacaaccatgggtaccactcttgacgacacggcttaccggtaccgcaccagtgtcccgggggacgccgaggccatcgaggcactggatgggtccttcgccaccgacaccgtcttccgcgtcaccgccaccggggacggcttcaccctgctggaggtgccggtggacccgcccctgaccgaggtgttccccgacgacgaatcggacgacgaatcggacgacggggacgacggcgacccggactaccggacgtacgtcgcgtacggcgacgacggcgacctggcgggctacgtggacgtctcggactccggctgggaccgccggctgaccgtcgaggacatcgaggtcgccccggagcacctcgagcacggggtcgggcgcgcggtcctggagctcgcgacggagttcgcccgcgagcggggcgccgggcacctctggctggaggtcgccgacgtcgacgcgccggcgatcgacgcgtaccggcggctggggttcaccctctgcggcctggacaccgccctgtacgacggcaccgcctcggacggcgagcaggcgctctacatgagcatgccctgcccctaatcagtactgacaataaaaagattcttgttttcaagaacttgtcatttgtatagtttttttatattgtagttgttctattttaatcaaatgttagcgtgatttatattttttttcgcctcgacatcatctgcccagatgcgaagttaagtgcgcagaaagtaatatcatgcgtcaatcgtatgtgaatgctggtcgctatactg<+>gacatggaggcccagaataccctccttgacagtcttgacgtgcgcagctcaggggcatgatgtgactgtcgcccgtacatttagcccatacatccccatgtataatcatttgcatccatacattttgatggccgcacggcgcgaagcaaaaattacggctcctcgctgcagacctgcgagcagggaaacgctcccctcacagacgcgttgaattgtccccacgccgcgcccctgtagagaaatataaaaggttaggatttgccactgaggttcttctttcatatacttccttttaaaatcttgctaggatacagttctcacatcacatccgaacataaacaacc<+>MGTTLDDTAYRYRTAVPGDVEALARLEGLFTTDTVFRVLRTGDGATLPPVPVSAPLTEVLPDDDDDDDDDDDDDDDDDSLLFVAYGDDGTIAGFVILSLDGDGGRLWIENIAVAPAHRGHGIGTALMGLAADWARERGAEEIWLEVTASNEPAIAAYERAGFTVDGIDTAFYEGGDDDGEDALYMSLPLP<+>actgacaataaaaagattcttgttttcaagaacttgtcatttgtatagtttttttatattgtagttgttctattttaatcaaatgttagcgtgatttatattttttttcgcctcgacatcatctgcccagatgcgaagttaagtgcgcagaaagtaatatcatgcgtcaatcgtatgtgaatgctggtcgctatactg<+>atcacgtgctataaaaataattataatttaaattttttaatataaatatataaattaaaaatagaaattaaaaaaagaaaataaagaaaaaatagtttttgttttccgaagatgtaaaagactctagggggatcgccaacaaatactaccttttatcttgctcttcctgctctcaggtattaatgccgaattgtttcatcttgtctgtgtagaagaccacacacgaaaatcctgtgattttacattttacttatcgttaatcgaatgtatatctatttaatctgcttttcttgtctaataaatatatatgtaaagtacgctttttgttgaaattttttaaacctttttttatttttttttcttcattccttaactcttctaccttctttatttactttctaaaatccaaaaacaaaacaaaaaaataaataaacacaaagtaaattcccaaattattccatcattaaaagatacgaggcgcgtgtaagttacaggcaagcgatc<+>ccctatagtgagtcgtatta<+>cctatagtgagtcgtatta<+>ctcgctcactgactcgct<+>tttccataggctccgcccccctgacgagcatcacaaaaatcgacgctcaagtcagaggtggcgaaacccgacaggactataaagataccaggcgtttccccctggaagctccctcgtgcgctctcctgttccgaccctgccgcttaccggatacctgtccgcctttctcccttcgggaagcgtggcgctttctcatagctcacgctgtaggtatctcagttcggtgtaggtcgttcgctccaagctgggctgtgtgcacgaaccccccgttcagcccgaccgctgcgccttatccggtaactatcgtcttgagtccaacccggtaagacacgacttatcgccactggcagcagccactggtaacaggattagcagagcgaggtatgtaggcggtgctacagagttcttgaagtggtggcctaactacggctacactagaagaacagtatttggtgtctgcgctctgctgga\n",
      "<+>gaagcgcctacgcttgacatctactatatgtaagtatacggccccatatataggccctttcgtctcgcgcgtttcggtgatgacggtgaaaa<+>cctctgacacatgcagctcccgg<+>atttaggtgacactataga<+>atttaggtgacactatag<+>ttcaattcatcatttttttttttttctttttttttatttcggtttccttgaaatttttttgattcggtaatctccgaacagaaggaagaacgaaggaaggagcacagacttagattggtatatatatgcatatgtagtgttgaagaaacatgaaattgcccagtattcttaacccaactgcacagaacaaaaacctgcaggaaacgaagataaatc<+>MSKATYKERVATHPSPVAAKLFNIMHEKQTNLCASLDVRNTKELLELVEALGPKICLLKTHVDILTDFSMEGGVKALKALSAKYNFLLFEDRKFADIGNTVKLQYSAGVYRIAEWADITNAHGVVGPGIVSGLKQAAEEVTKEPRGLLMLAELSCKGSLSTGEYTKSVVEIAKQDPDFVIGFIAQRDMGGRDEGSDFLIATPGVGLDDKGDALGQQYRTVDDVVNTGSDILIVGRGLFAKGRDAKVEAERLRKAGWEAYLRRTGQQN<+>ccagtttggaacaagagtccac<+>ggcatttttttcacattttttctctgatacggcggtgttatttttctcggatttctccacatcgtttagagataacacctccaagctcgtgccttggggtcagggctgtg<+>MSKGEELFTGVVPILVELDGDVNGHKFSVSGEGEGDATYGKLTLKLICTTGKLPVPWPTLVTTLTYGLQCFARYPDHMKQHDFFKSAMPEGYVQERTIFFKDDGNYKTRAEVKFEGDTLVNRIELKGIDFKEDGNILGHKLEYNYNSHNVYITADKQKNGIKANFKIRHNIEDGGVQLADHYQQNTPIGDGPVLLPDNHYLSYQSALSKDPNEKRDHMVLLEFVTAAGITHGMDELYK<+>gcgaatttcttatgatttatgatttttattattaaataagttataaaaaaaataagtgtatacaaattttaaagtgactcttaggttttaaaaagaaaattcttattcttgagtaactctttcctgtaggtcaggttgctttctcaggtatagtatgaggtcgctcttattgaccacacctctaccgg<+>gacatggaggcccagaataccctccttgacagtcttgacgtgcgcagctcaggggcatgatgtgactgtcgcccgtacatttagcccatacatccccatgtataatcatttgcatccatacattttgatggccgcacggcgcgaagcaaaaattacggctcctcgctgcagacctgcgagcagggaaacgctcccctcacagacgcgttgaattgtccccacgccgcgcccctgtagagaaatataaaaggttaggatttgccactgaggttcttctttcatatacttccttttaaaatcttgctaggatacagttctcacatcacatccgaacataaacaaccatgggtaccactcttgacgacacggcttaccggtaccgcaccagtgtcccgggggacgccgaggccatcgaggcactggatgggtccttcgccaccgacaccgtcttccgcgtcaccgccaccggggacggcttcaccctgctggaggtgccggtggacccgcccctgaccgaggtgttccccgacgacgaatcggacgacgaatcggacgacggggacgacggcgacccggactaccggacgtacgtcgcgtacggcgacgacggcgacctggcgggctacgtggacgtctcggactccggctgggaccgccggctgaccgtcgaggacatcgaggtcgccccggagcacctggagcacggggtcgggcgcgcggtcctggagctcgcgacggagttcgcccgcgagcggggcgccgggcacctctggctggaggtcaccgacgtcgacgcgccggcgatccacgcgtaccggcggctggggttcaccctctgcggcctggacaccgccctgtacgacggcaccgcctcggacggcgagcaggcgctctacatgagcatgccctgcccctaatcagtactgacaataaaaagattcttgttttcaagaacttgtcatttgtatagtttttttatattgtagttgttctattttaatcaaatgttagcgtgatttatattttttttcgcctcgacatcatctgcccagatgcgaagttaagtgcgcagaaagtaatatcatgcgtcaatcgtatgtgaatgctggtcgctatactg<+>gacatggaggcccagaataccctccttgacagtcttgacgtgcgcagctcaggggcatgatgtgactgtcgcccgtacatttagcccatacatccccatgtataatcatttgcatccatacattttgatggccgcacggcgcgaagcaaaaattacggctcctcgctgcagacctgcgagcagggaaacgctcccctcacagacgcgttgaattgtccccacgccgcgcccctgtagagaaatataaaaggttaggatttgccactgaggttcttctttcatatacttccttttaaaatcttgctaggatacagttctcacatcacatccgaacataaacaacc<+>MGTTLDDTAYRYRTAVPGDAEALARLEGLFTTDSVFRVTRTGDGATLPPVPVSADLRGVLPDDDDDDDDDDDDDDDDDSLLFVAYGDDGTIAGFVILSLDGDGRRLWIENIAVAPAHRGHGIGTALMGLAADWARERGAEEIWLEVTASNEPAIAAYERAGFTVDGIDTAFYPGDDEGGEDALYMSLPLP<+>actgacaataaaaagattcttgttttcaagaacttgtcatttgtatagtttttttatattgtagttgttctattttaatcaaatgttagcgtgatttatattttttttcgcctcgacatcatctgcccagatgcgaagttaagtgcgcagaaagtaatatcatgcgtcaatcgtatgtgaatgctggtcgctatactg<+>atcacgtgctataaaaataattataatttaaattttttaatataaatatataaattaaaaatagaaattaaaaaaagaaattaaagaaaaaatagtttttgttttccgaagatgtaaaagactctagggggatcgccaacaaatactaccttttatcttgctcttcctgctctcaggtattaatgccgaattgtttcatcttgtctgtgtagaagaccacacacgaaaatcctgtgattttacattttacttatcgttaatcgaatgtatatctatttaatctgcttttcttgtctaataaatatatatgtaaagtacgctttttgttgaaattttttaaacctttttttatttttttttcttcattccttaactcttctaccttctttatttactttctaaaatccaaaaacaaaacaaaaaaataaataaacacaaagtaaattcccaaattattccatcattaaaagatacgaggcgcgtgtaagttacaggcaagcgatc<+>ccctatagtgagtcgtatta<+>cctatagtgagtcgtatta<+>ctcgctcactgactcgct<+>tttccataggctccgcccccctgacgagcatcacaaaaatcgacgctcaagtcagaggtggcgaaacccgacaggactataaagataccaggcgtttccccctggaagctccctcgtgcgctctcctgttccgaccctgccgcttaccggatacctgtccgcctttctcccttcgggaagcgtggcgctttctcatagctcacgctgtaggtatctcagttcggtgtaggtcgttcgctccaagctgggctgtgtgcacgaaccccccgttcagcccgaccgctgcgccttatccggtaactatcgtcttgagtccaacccggtaagacacgacttatcgccactggcagcagccactggtaacaggattagcagagcgaggtatgtaggcggtgctacagagttcttgaagtggtggcctaactacggctacactagaagaacagtatttggtgtctgcgctctgctgga\n",
      "<+>gaagcgcctacgcttgacatctactatatgtaagtatacggccccatatataggccctttcgtctcgcgcgtttcggtgatgacggtgaaaa<+>cctctgacacatgcagctcccgg<+>atttaggtgacactataga<+>atttaggtgacactatag<+>ttcaattcatcatttttttttttttctttttttttatttcggtttccttgaaatttttttgattcggtaatctccgaacagaaggaagaacgaaggaaggagcacagacttagattggtatatatatgcatatgtagtgttgaagaaacatgaaattgcccagtattcttaacccaactgcacagaacaaaaacctgcaggaaacgaagataaatc<+>MSKATYKERVATHPSPVAAKLFNIMHEKQTNLCASLDVRNTKELLELVEALGPKICLLKTHVDILTDFSMEGGVKALKALSAKYNFLLFEDRKFADIGNTVKLQYSAGVYRIAEWADITNAHGVVGPGIVSGLKQAAEEVTKEPRGLLMLAELSCKGSLSTGEYTKSVVEIAKQDPDFVIGFIAQRDMGGRDEGSDFLIATPGVGLDDKGDALGQQYRTVDDVVNTGSDILIVGRGLFAKGRDAKVEAERLRKAAWEAYLRRTGQQN<+>ccagtttggaacaagagtccacctgcatttttttcacatcgt<+>tctctgatacggcggggttatttttcgcggatttctcgacgtcgttttgagatcactcttcaaagttcgttcctggtggtttcggctttt<+>MSKGEELFTGVVPILVELDGDVNGHKFSVSGEGEGDATYGKLTLKLICTTGKLPVPWPTLVTTLTYGLQCFARYPDHMKQHDFFKSAMPEGYVQERTIFFKDDGNYKTRAEVKFEGDTLVNRIELKGIDFKEDGNILGHKLEYNYNSHNVYITADKQKNGIKANFKIRHNIEDGGVQLADHYQQNTPIGDGPVLLPDNHYLSYQSALSKDPNEKRDHMVLLEFVTAAGITHGMDELYK<+>gcgaatttcttatgatttatgatttttattattaaataagttataaaaaaaataagtgtatacaaattttaaagtgactcttaggttttaaaaagaaaattcttattcttgagtaactctttcctgtaggtcaggttgctttctcaggtatagtatgaggtcgctcttattgaccacacctctaccgg<+>gacatggaggcccagaataccctccttgacagtcttgacgtgcgcagctcaggggcatgatgtgactgtcgcccgtacatttagcccatacatccccatgtataatcatttgcatccatacattttgatggccgcacggcgcgaagcaaaaattacggctcctcgctgcagacctgcgagcagggaaacgctcccctcacagacgcgttgaattgtccccacgccgcgcccctgtagagaaatataaaaggttaggatttgccactgaggttcttctttcatatacttccttttaaaatcttgctaggatacagttctcacatcacatccgaacataaacaaccatgggtaccactcttgacgacacggcttaccggtaccgcaccagtgtcccgggggacgccgaggccatcgaggcactggatgggtccttcaccaccgacaccgtcttccgcgtcaccgccaccggggacggcttcaccctgctggaggtgccggtggacccgcccctgaccgaggtgttccccgacgacgaatcggacgacgaatcggacgacggggacgacggcgacccggactaccggacgtacgtcgcgtacggcgacgacggcgacctggcgggctacgtggacgtctcggactccggctgggaccgccggctgaccgtcgaggacatcgaggtcgccccggagcacctcgagcacggggtcgggcgcgcggtcctggagctcgcgacggagttcgcccgcgagcggggcgccgggcacctctggctggaggtcgccgacgtcgacgcgccggcgatccacgcgtaccggcggctggggttcaccctctgcggcctggacaccgccctgtacgacggcaccgcctcggacggcgagcaggcgctctacatgagcatgccctgcccctaatcagtactgacaataaaaagattcttgttttcaagaacttgtcatttgtatagtttttttatattgtagttgttctattttaatcaaatgttagcgtgatttatattttttttcgcctcgacatcatctgcccagatgcgaagttaagtgcgcagaaagtaatatcatgcgtcaatcgtatgtgaatgctggtcgctatactg<+>gacatggaggcccagaataccctccttgacagtcttgacgtgcgcagctcaggggcatgatgtgactgtcgcccgtacatttagcccatacatccccatgtataatcatttgcatccatacattttgatggccgcacggcgcgaagcaaaaattacggctcctcgctgcagacctgcgagcagggaaacgctcccctcacagacgcgttgaattgtccccacgccgcgcccctgtagagaaatataaaaggttaggatttgccactgaggttcttctttcatatacttccttttaaaatcttgctaggatacagttctcacatcacatccgaacataaacaacc<+>MGTTLDDTAYRYRTAVPGDVERLSRLEGLFTTDTVFRVLRTGDGATLPPVPASAPLTEVFPDDDDDDDDDDDDDDDDDSLLFVAYGDDGTIAGFVILSLDGAGGRLWIENIAVAPAHRGHGIGTALMGLAADWARERGAEEIWLEVTASNEPAIAAYERAGFTVDGIDTAFYEGDEDDGEDALYMSLPLP<+>actgacaataaaaagattcttgttttcaagaacttgtcatttgtatagtttttttatattgtagttgttctattttaatcaaatgttagcgtgatttatattttttttcgcctcgacatcatctgcccagatgcgaagttaagtgcgcagaaagtaatatcatgcgtcaatcgtatgtgaatgctggtcgctatactg<+>atcacgtgctataaaaataattataatttaaattttttaatataaatatataaattaaaaatagaaattaaaaaaagaaattaaagaaaaaatagtttttgttttccgaagatgtaaaagactctagggggatcgccaacaaatactaccttttatcttgctcttcctgctctcaggtattaatgccgaattgtttcatcttgtctgtgtagaagaccacacacgaaaatcctgtgattttacattttacttatcgttaatcgaatgtatatctatttaatctgcttttcttgtctaataaatatatatgtaaagtacgctttttgttgaaattttttaaacctttttttatttttttttcttcattccttaactcttctaccttctttatttactttctaaaatccaaaaacaaaacaaaaaaataaataaacacaaagtaaattcccaaattattccatcattaaaagatacgaggcgcgtgtaagttacaggcaagcgatc<+>ccctatagtgagtcgtatta<+>cctatagtgagtcgtatta<+>ctcgctcactgactcgct<+>tttccataggctccgcccccctgacgagcatcacaaaaatcgacgctcaagtcagaggtggcgaaacccgacaggactataaagataccaggcgtttccccctggaagctccctcgtgcgctctcctgttccgaccctgccgcttaccggatacctgtccgcctttctcccttcgggaagcgtggcgctttctcatagctcacgctgtaggtatctcagttcggtgtaggtcgttcgctccaagctgggctgtgtgcacgaaccccccgttcagcccgaccgctgcgccttatccggtaactatcgtcttgagtccaacccggtaagacacgacttatcgccactggcagcagccactggtaacaggattagcagagcgaggtatgtaggcggtgctacagagttcttgaagtggtggcctaactacggctacactagaagaacagtatttggtgtctgcgctctgctgga\n",
      "<+>gaagcgcctacgcttgacatctactatatgtaagtatacggccccatatataggccctttcgtctcgcgcgtttcggtgatgacggtgaaaa<+>cctctgacacatgcagctcccgg<+>atttaggtgacactataga<+>atttaggtgacactatag<+>ttcaattcatcatttttttttttttctttttttttatttcggtttccttgaaatttttttgattcggtaatctccgaacagaaggaagaacgaaggaaggagcacagacttagattggtatatatatgcatatgtagtgttgaagaaacatgaaattgcccagtattcttaacccaactgcacagaacaaaaacctgcaggaaacgaagataaatc<+>MSKATYKERVATHPSPVAAKLFNIMHEKQTNLCASLDVRNTKELLELVEALGPKICLLKTHVDILTDFSMEGGVKALKALSAKYNFLLFEDRKFADIGNTVKLQYSAGVYRIAEWADITNAHGVVGPGIVSGLKQAAEEVTKEPRGLLMLAELSCKGSLSTGEYTKSVVEIAKQDPDFVIGFIAQRDMGGRDEGSDFLIATPGVGLDDKGDALGQQYRTVDDVVNTGSDILIVGRGLFAKGRDAKVEAERLRKAGWEAYLRRTGQQN<+>ccagtttggaacaagagtccacctgcatttttttcagatcctttttcagatatggtggggttatttttcgcggatttctccacgtcgttttgagataaaactttcaagctctttccttggggttacggctgtg<+>MSKGEELFTGVVPILVELDGDVNGHKFSVSGEGEGDATYGKLTLKLICTTGKLPVPWPTLVTTLTYGLQCFARYPDHMKQHDFFKSAMPEGYVQERTIFFKDDGNYKTRAEVKFEGDTLVNRIELKGIDFKEDGNILGHKLEYNYNSHNVYITADKQKNGIKANFKIRHNIEDGGVQLADHYQQNTPIGDGPVLLPDNHYLSYQSALSKDPNEKRDHMVLLEFVTAAGITHGMDELYK<+>gcgaatttcttatgatttatgatttttattattaaataagttataaaaaaaataagtgtatacaaattttaaagtgactcttaggttttaaaacgaaaattcttattcttgagtaactctttcctgtaggtcaggttgctttctcaggtatagtatgaggtcgctcttattgaccacacctctaccgg<+>gacatggaggcccagaataccctccttgacagtcttgacgtgcgcagctcaggggcatgatgtgactgtcgcccgtacatttagcccatacatccccatgtataatcatttgcatccatacattttgatggccgcacggcgcgaagcaaaaattacggctcctcgctgcagacctgcgagcagggaaacgctcccctcacagacgcgttgaattgtccccacgccgcgcccctgtagagaaatataaaaggttaggatttgccactgaggttcttctttcatatacttccttttaaaatcttgctaggatacagttctcacatcacatccgaacataaacaaccatgggtaccactcttgacgacacggcttaccggtaccgcaccagtgtcccgggggacgccgaggccatcgaggcactggatgggtccttcgccaccgacaccgtcttccgcgtcaccgccaccggggacggcttcaccctgctggaggtgccggtggacccgcccctgaccgaggtgttccccgacgacgaatcggacgacgaatcggacgacggggacgacggcgacccggactaccggacgtacgtcgcgtacggcgacgacggcgacctggcgggctacgtggacgtctcggactccggctgggaccgccggctgaccgtcgaggacatcgaggtcgccccggagcacctcgagcacggggtcgggcgcgcggtcctggagctcgcgacggagttcgcccgcgagcggggcgccgggcacctctggctggaggtcgccgacgtcgacgcgccggcgatccacgcgtaccggcggctggggttcaccctctgcggcctggacaccgccctgtacgacggcaccgcctcggacggcgagcaggcgctctacatgagcatgccctgcccctaatcagtactgacaataaaaagattcttgttttcaagaacttgtcatttgtatagtttttttatattgtagttgttctattttaatcaaatgttagcgtgatttatattttttttcgcctcgacatcatctgcccagatgcgaagttaagtgcgcagaaagtaatatcatgcgtcaatcgtatgtgaatgctggtcgctatactg<+>gacatggaggcccagaataccctccttgacagtcttgacgtgcgcagctcaggggcatgatgtgactgtcgcccgtacatttagcccatacatccccatgtataatcatttgcatccatacattttgatggccgcacggcgcgaagcaaaaattacggctcctcgctgcagacctgcgagcagggaaacgctcccctcacagacgcgttgaattgtccccacgccgcgcccctgtagagaaatataaaaggttaggatttgccactgaggttcttctttcatatacttccttttaaaatcttgctaggatacagttctcacatcacatccgaacataaacaacc<+>MGTTLDDTAYRYRTAVPGDAERLARLEGLFTTDTVFRVTRTGDGATLPPVPASADLTGVLPDDDDDDDDDDDDDDDDDSLLFVAYGDDGTIAGFVVLSLDGEGGRLWIENIAVAPAHRGHGIGTALMGLAADWARERGAEEIWLEVTASNEPAIAAYERAGFTVEGIDTAFYPGGDDDGEDALYMSLPLP<+>actgacaataaaaagattcttgttttcaagaacttgtcatttgtatagtttttttatattgtagttgttctattttaatcaaatgttagcgtgatttatattttttttcgcctcgacatcatctgcccagatgcgaagttaagtgcgcagaaagtaatatcatgcgtcaatcgtatgtgaatgctggtcgctatactg<+>atcacgtgctataaaaataattataatttaaattttttaatataaatatataaattaaaaatagaaattaaaaaaagaaattaaagaaaaaatagtttttgttttccgaagatgtaaaagactctagggggatcgccaacaaatactaccttttatcttgctcttcctgctctcaggtattaatgccgaattgtttcatcttgtctgtgtagaagaccacacacgaaaatcctgtgattttacattttacttatcgttaatcgaatgtatatctatttaatctgcttttcttgtctaataaatatatatgtaaagtacgctttttgttgaaattttttaaacctttttttatttttttttcttcattccttaactcttctaccttctttatttactttctaaaatccaaaaacaaaacaaaaaaataaataaacacaaagtaaattcccaaattattccatcattaaaagatacgaggcgcgtgtaagttacaggcaagcgatc<+>ccctatagtgagtcgtatta<+>cctatagtgagtcgtatta<+>ctcgctcactgactcgct<+>tttccataggctccgcccccctgacgagcatcacaaaaatcgacgctcaagtcagaggtggcgaaacccgacaggactataaagataccaggcgtttccccctggaagctccctcgtgcgctctcctgttccgaccctgccgcttaccggatacctgtccgcctttctcccttcgggaagcgtggcgctttctcatagctcacgctgtaggtatctcagttcggtgtaggtcgttcgctccaagctgggctgtgtgcacgaaccccccgttcagcccgaccgctgcgccttatccggtaactatcgtcttgagtccaacccggtaagacacgacttatcgccactggcagcagccactggtaacaggattagcagagcgaggtatgtaggcggtgctacagagttcttgaagtggtggcctaactacggctacactagaagaacagtatttggtgtctgcgctctgctgga\n"
     ]
    }
   ],
   "source": [
    "# Set the model to evaluation mode\n",
    "device = 'cuda:1'\n",
    "_ = model.to(device)\n",
    "_ = model.eval()\n",
    "\n",
    "predictions = []\n",
    "\n",
    "for i, batch in enumerate(dataloader):\n",
    "    with torch.no_grad():\n",
    "        inputs = {k: v.to(device) for k, v in batch.items()}\n",
    "        outputs = model(input_ids=inputs['input_ids'], attention_mask=inputs['attention_mask'], output_hidden_states=True)\n",
    "        logits = outputs.logits\n",
    "        \n",
    "        # Generate predicted sequences\n",
    "        predicted_token_ids = torch.argmax(logits, dim=-1)\n",
    "        predicted_sequences = tokenizer.batch_decode(predicted_token_ids, skip_special_tokens=False)\n",
    "        # replace ' ' with ''\n",
    "        predicted_sequences = [p.replace(\" \", \"\") for p in predicted_sequences]\n",
    "        predictions.extend(predicted_sequences)\n",
    "    # if i == 10:\n",
    "    #     break\n",
    "\n",
    "# Print a sample of predictions\n",
    "print(\"Sample predictions:\")\n",
    "for i, pred in enumerate(predictions[:5]):\n",
    "    print(pred)"
   ]
  },
  {
   "cell_type": "code",
   "execution_count": null,
   "metadata": {},
   "outputs": [
    {
     "name": "stdout",
     "output_type": "stream",
     "text": [
      "tgcatttttttcacatcgtttctttgaaacggcggggttatttttcccggagttctccacatcgtttagaaaaatcacttcaaagctctttccttgatgttatggctgcg\n",
      "cttttttttcacaccgtgtctctgatacggcggggttatttttcgcggatttttccacatcgtgaagagaaaaaacttccaagttctttccttgaggttatggctgtt<+\n",
      "ggcatttttttcacattttttctctgatacggcggtgttatttttctcggatttctccacatcgtttagagataacacctccaagctcgtgccttggggtcagggctgtg\n",
      "catttttttcacatcgt<+>tctctgatacggcggggttatttttcgcggatttctcgacgtcgttttgagatcactcttcaaagttcgttcctggtggtttcggctttt\n",
      "catttttttcagatcctttttcagatatggtggggttatttttcgcggatttctccacgtcgttttgagataaaactttcaagctctttccttggggttacggctgtg<+\n",
      "cattttttttacatcgtttctctgacacggtggggtaatttttcgcggatttctccacatcgtttagagaaaaaatttccaagctcgttccttggggttacggctttt<+\n",
      "ttcttttttttcacatcgtttctctgatatgttgggggtatttttgggggatttctcctcatcgtttacagttaacacttccaagctttttccttggggttacggctgtt\n",
      "tgcatttttttcacatagtttttctgatacggggaggttatttttcgcggattcctccacatcctgaagagaaatcacttcaaaactcgttccttgggggtactgctgtt\n",
      "ggcatttttttcacgtcgtttctctgatacggcgtggttatttttcgcgggttcctccacatcctctagaaatcacacttcccaactggttcctgggggttactgctgtt\n",
      "tccatttttctcccatcgtttctctgatacggcgtggttttttttcgcggttttctccacatcgtgtagggataacacttccaagcttgttccttggggttccggctggt\n"
     ]
    }
   ],
   "source": [
    "for p in predictions[:10]:\n",
    "    print(p[mask_start:mask_end])"
   ]
  },
  {
   "cell_type": "code",
   "execution_count": null,
   "metadata": {},
   "outputs": [
    {
     "data": {
      "text/plain": [
       "<Axes: xlabel='Position', ylabel='Entropy'>"
      ]
     },
     "execution_count": 159,
     "metadata": {},
     "output_type": "execute_result"
    },
    {
     "data": {
      "text/plain": [
       "Text(0.5, 1.0, 'Entropy of Predicted Sequences')"
      ]
     },
     "execution_count": 159,
     "metadata": {},
     "output_type": "execute_result"
    },
    {
     "data": {
      "text/plain": [
       "Text(0.5, 0, 'Position')"
      ]
     },
     "execution_count": 159,
     "metadata": {},
     "output_type": "execute_result"
    },
    {
     "data": {
      "text/plain": [
       "Text(0, 0.5, 'Entropy')"
      ]
     },
     "execution_count": 159,
     "metadata": {},
     "output_type": "execute_result"
    },
    {
     "data": {
      "text/plain": [
       "Text(0.5, 1.0, 'Sequence entropy, 75th percentile sequence seed')"
      ]
     },
     "execution_count": 159,
     "metadata": {},
     "output_type": "execute_result"
    },
    {
     "data": {
      "image/png": "[encoded data removed]",
      "text/plain": [
       "<Figure size 640x480 with 1 Axes>"
      ]
     },
     "metadata": {},
     "output_type": "display_data"
    }
   ],
   "source": [
    "import seaborn as sns\n",
    "import matplotlib.pyplot as plt\n",
    "\n",
    "promoter_preds = [p[mask_start:mask_end] for p in predictions]\n",
    "\n",
    "entropy = calculate_entropy(promoter_preds)\n",
    "# Create a DataFrame to store the entropy values\n",
    "entropy_df = pd.DataFrame({\n",
    "    'Position': list(range(len(entropy))),\n",
    "    'Entropy': entropy\n",
    "})\n",
    "\n",
    "sns.scatterplot(x='Position', y='Entropy', data=entropy_df)\n",
    "plt.title('Entropy of Predicted Sequences')\n",
    "plt.xlabel('Position')\n",
    "plt.ylabel('Entropy')\n",
    "plt.title(f'Sequence entropy, {percentile}th percentile sequence seed')\n",
    "plt.savefig(f'results/gen_prom/entropy_{percentile}.png')\n",
    "plt.show()"
   ]
  },
  {
   "cell_type": "code",
   "execution_count": 160,
   "metadata": {},
   "outputs": [
    {
     "data": {
      "text/html": [
       "<div>\n",
       "<style scoped>\n",
       "    .dataframe tbody tr th:only-of-type {\n",
       "        vertical-align: middle;\n",
       "    }\n",
       "\n",
       "    .dataframe tbody tr th {\n",
       "        vertical-align: top;\n",
       "    }\n",
       "\n",
       "    .dataframe thead th {\n",
       "        text-align: right;\n",
       "    }\n",
       "</style>\n",
       "<table border=\"1\" class=\"dataframe\">\n",
       "  <thead>\n",
       "    <tr style=\"text-align: right;\">\n",
       "      <th></th>\n",
       "      <th>seq</th>\n",
       "      <th>bin</th>\n",
       "    </tr>\n",
       "  </thead>\n",
       "  <tbody>\n",
       "    <tr>\n",
       "      <th>0</th>\n",
       "      <td>TGCATTTTTTTCACATCGTTTCTTTGAAACGGCGGGGTTATTTTTC...</td>\n",
       "      <td>0</td>\n",
       "    </tr>\n",
       "    <tr>\n",
       "      <th>1</th>\n",
       "      <td>CTTTTTTTTCACACCGTGTCTCTGATACGGCGGGGTTATTTTTCGC...</td>\n",
       "      <td>0</td>\n",
       "    </tr>\n",
       "    <tr>\n",
       "      <th>2</th>\n",
       "      <td>GGCATTTTTTTCACATTTTTTCTCTGATACGGCGGTGTTATTTTTC...</td>\n",
       "      <td>0</td>\n",
       "    </tr>\n",
       "    <tr>\n",
       "      <th>3</th>\n",
       "      <td>CATTTTTTTCACATCGTTCTCTGATACGGCGGGGTTATTTTTCGCG...</td>\n",
       "      <td>0</td>\n",
       "    </tr>\n",
       "    <tr>\n",
       "      <th>4</th>\n",
       "      <td>CATTTTTTTCAGATCCTTTTTCAGATATGGTGGGGTTATTTTTCGC...</td>\n",
       "      <td>0</td>\n",
       "    </tr>\n",
       "  </tbody>\n",
       "</table>\n",
       "</div>"
      ],
      "text/plain": [
       "                                                 seq  bin\n",
       "0  TGCATTTTTTTCACATCGTTTCTTTGAAACGGCGGGGTTATTTTTC...    0\n",
       "1  CTTTTTTTTCACACCGTGTCTCTGATACGGCGGGGTTATTTTTCGC...    0\n",
       "2  GGCATTTTTTTCACATTTTTTCTCTGATACGGCGGTGTTATTTTTC...    0\n",
       "3  CATTTTTTTCACATCGTTCTCTGATACGGCGGGGTTATTTTTCGCG...    0\n",
       "4  CATTTTTTTCAGATCCTTTTTCAGATATGGTGGGGTTATTTTTCGC...    0"
      ]
     },
     "execution_count": 160,
     "metadata": {},
     "output_type": "execute_result"
    }
   ],
   "source": [
    "import re\n",
    "\n",
    "# remove all non ACGTN characters\n",
    "clean_promoter_preds = [re.sub(r'[^acgtn]', '', p).upper() for p in promoter_preds]\n",
    "df = pd.DataFrame({'seq': clean_promoter_preds, 'bin': [0]*len(clean_promoter_preds)})\n",
    "df.head()\n",
    "df.to_csv(f\"results/gen_prom/seqs_{percentile}.txt\", sep='\\t', index=False, header=False)"
   ]
  },
  {
   "cell_type": "code",
   "execution_count": null,
   "metadata": {},
   "outputs": [],
   "source": []
  }
 ],
 "metadata": {
  "kernelspec": {
   "display_name": "test",
   "language": "python",
   "name": "python3"
  },
  "language_info": {
   "codemirror_mode": {
    "name": "ipython",
    "version": 3
   },
   "file_extension": ".py",
   "mimetype": "text/x-python",
   "name": "python",
   "nbconvert_exporter": "python",
   "pygments_lexer": "ipython3",
   "version": "3.9.13"
  }
 },
 "nbformat": 4,
 "nbformat_minor": 2
}
